{
 "cells": [
  {
   "cell_type": "markdown",
   "metadata": {},
   "source": [
    "# 1. Introduction\n",
    "One of the primary applications of natural language processing is to automatically extract what topics people are discussing from large volumes of text. Some examples of large text could be feeds from social media, customer reviews of hotels, movies, etc, user feedbacks, news stories, e-mails of customer complaints etc.\n",
    "\n",
    "Knowing what people are talking about and understanding their problems and opinions is highly valuable to businesses, administrators, political campaigns. And it’s really hard to manually read through such large volumes and compile the topics.\n",
    "\n",
    "Thus is required an automated algorithm that can read through the text documents and automatically output the topics discussed.\n",
    "\n",
    "In this tutorial, we will take a real example of the ’20 Newsgroups’ dataset and use LDA to extract the naturally discussed topics.\n",
    "\n",
    "I will be using the Latent Dirichlet Allocation (LDA) from Gensim package along with the Mallet’s implementation (via Gensim). Mallet has an efficient implementation of the LDA. It is known to run faster and gives better topics segregation.\n",
    "\n",
    "We will also extract the volume and percentage contribution of each topic to get an idea of how important a topic is.\n",
    "\n",
    "Let’s begin!"
   ]
  },
  {
   "cell_type": "markdown",
   "metadata": {},
   "source": [
    "Source: https://www.machinelearningplus.com/nlp/topic-modeling-gensim-python/"
   ]
  },
  {
   "cell_type": "markdown",
   "metadata": {},
   "source": [
    "# 2. Prerequisites – Download nltk stopwords and spacy model\n",
    "We will need the stopwords from NLTK and spacy’s en model for text pre-processing. Later, we will be using the spacy model for lemmatization.\n",
    "\n",
    "Lemmatization is nothing but converting a word to its root word.  \n",
    "For example: the lemma of the word ‘machines’ is ‘machine’.   \n",
    "Likewise, ‘walking’ –> ‘walk’,   \n",
    "‘mice’ –> ‘mouse’ and so on."
   ]
  },
  {
   "cell_type": "code",
   "execution_count": 1,
   "metadata": {},
   "outputs": [],
   "source": [
    "# Run in python console\n",
    "import nltk #; nltk.download('stopwords')"
   ]
  },
  {
   "cell_type": "code",
   "execution_count": 2,
   "metadata": {},
   "outputs": [],
   "source": [
    "# Run in terminal or command prompt\n",
    "#!python -m spacy download en"
   ]
  },
  {
   "cell_type": "markdown",
   "metadata": {},
   "source": [
    "# 3. Import Packages\n",
    "The core packages used in this tutorial are re, gensim, spacy and pyLDAvis. Besides this we will also using matplotlib, numpy and pandas for data handling and visualization. Let’s import them."
   ]
  },
  {
   "cell_type": "code",
   "execution_count": 2,
   "metadata": {},
   "outputs": [],
   "source": [
    "import re\n",
    "import numpy as np\n",
    "import pandas as pd\n",
    "from pprint import pprint\n",
    "\n",
    "# Gensim\n",
    "import gensim\n",
    "import gensim.corpora as corpora\n",
    "from gensim.utils import simple_preprocess\n",
    "from gensim.models import CoherenceModel\n",
    "\n",
    "# spacy for lemmatization\n",
    "import spacy\n",
    "\n",
    "# Plotting tools\n",
    "import pyLDAvis\n",
    "import pyLDAvis.gensim  # don't skip this\n",
    "import matplotlib.pyplot as plt\n",
    "%matplotlib inline\n",
    "\n",
    "# Enable logging for gensim - optional\n",
    "import logging\n",
    "logging.basicConfig(format='%(asctime)s : %(levelname)s : %(message)s', level=logging.ERROR)\n",
    "\n",
    "import warnings\n",
    "warnings.filterwarnings(\"ignore\",category=DeprecationWarning)"
   ]
  },
  {
   "cell_type": "code",
   "execution_count": 4,
   "metadata": {},
   "outputs": [],
   "source": [
    "#!pip install pyLDAvis"
   ]
  },
  {
   "cell_type": "markdown",
   "metadata": {},
   "source": [
    "# 4. What does LDA do?\n",
    "LDA’s approach to topic modeling is it considers each document as a collection of topics in a certain proportion. And each topic as a collection of keywords, again, in a certain proportion.\n",
    "\n",
    "Once you provide the algorithm with the number of topics, all it does it to rearrange the topics distribution within the documents and keywords distribution within the topics to obtain a good composition of topic-keywords distribution.\n",
    "\n",
    "When I say topic, what is it actually and how it is represented?\n",
    "\n",
    "A topic is nothing but a collection of dominant keywords that are typical representatives. Just by looking at the keywords, you can identify what the topic is all about.\n",
    "\n",
    "The following are key factors to obtaining good segregation topics:\n",
    "\n",
    "The quality of text processing.\n",
    "The variety of topics the text talks about.\n",
    "The choice of topic modeling algorithm.\n",
    "The number of topics fed to the algorithm.\n",
    "The algorithms tuning parameters."
   ]
  },
  {
   "cell_type": "markdown",
   "metadata": {},
   "source": [
    "# 5. Prepare Stopwords\n",
    "We have already downloaded the stopwords. Let’s import them and make it available in stop_words."
   ]
  },
  {
   "cell_type": "code",
   "execution_count": 3,
   "metadata": {},
   "outputs": [],
   "source": [
    "# NLTK Stop words\n",
    "from nltk.corpus import stopwords\n",
    "stop_words = stopwords.words('english')\n",
    "stop_words.extend(['from', 'subject', 're', 'edu', 'use'])"
   ]
  },
  {
   "cell_type": "markdown",
   "metadata": {},
   "source": [
    "# 6. Import Data"
   ]
  },
  {
   "cell_type": "code",
   "execution_count": 2,
   "metadata": {},
   "outputs": [
    {
     "data": {
      "text/plain": [
       "['C:\\\\Users\\\\nelso\\\\Documents\\\\Github\\\\PLPCA\\\\datasets\\\\transcripts\\\\By Sector\\\\healthcare\\\\Abbott Laboratories_20171018-Text.txt',\n",
       " 'C:\\\\Users\\\\nelso\\\\Documents\\\\Github\\\\PLPCA\\\\datasets\\\\transcripts\\\\By Sector\\\\healthcare\\\\AbbVie Inc._20170427-Text.txt',\n",
       " 'C:\\\\Users\\\\nelso\\\\Documents\\\\Github\\\\PLPCA\\\\datasets\\\\transcripts\\\\By Sector\\\\healthcare\\\\AbbVie Inc._20170728-Text.txt',\n",
       " 'C:\\\\Users\\\\nelso\\\\Documents\\\\Github\\\\PLPCA\\\\datasets\\\\transcripts\\\\By Sector\\\\healthcare\\\\AbbVie Inc._20171027-Text.txt',\n",
       " 'C:\\\\Users\\\\nelso\\\\Documents\\\\Github\\\\PLPCA\\\\datasets\\\\transcripts\\\\By Sector\\\\healthcare\\\\ABIOMED Inc_20170504-Text.txt',\n",
       " 'C:\\\\Users\\\\nelso\\\\Documents\\\\Github\\\\PLPCA\\\\datasets\\\\transcripts\\\\By Sector\\\\healthcare\\\\Agilent Technologies Inc_20170214-Text.txt',\n",
       " 'C:\\\\Users\\\\nelso\\\\Documents\\\\Github\\\\PLPCA\\\\datasets\\\\transcripts\\\\By Sector\\\\healthcare\\\\Alexion Pharmaceuticals_20171026-Text.txt',\n",
       " 'C:\\\\Users\\\\nelso\\\\Documents\\\\Github\\\\PLPCA\\\\datasets\\\\transcripts\\\\By Sector\\\\healthcare\\\\Align Technology_20170131-Text.txt',\n",
       " 'C:\\\\Users\\\\nelso\\\\Documents\\\\Github\\\\PLPCA\\\\datasets\\\\transcripts\\\\By Sector\\\\healthcare\\\\Align Technology_20170427-Text.txt',\n",
       " 'C:\\\\Users\\\\nelso\\\\Documents\\\\Github\\\\PLPCA\\\\datasets\\\\transcripts\\\\By Sector\\\\healthcare\\\\Align Technology_20170727-Text.txt',\n",
       " 'C:\\\\Users\\\\nelso\\\\Documents\\\\Github\\\\PLPCA\\\\datasets\\\\transcripts\\\\By Sector\\\\healthcare\\\\Allergan, Plc_20170803-Text.txt',\n",
       " 'C:\\\\Users\\\\nelso\\\\Documents\\\\Github\\\\PLPCA\\\\datasets\\\\transcripts\\\\By Sector\\\\healthcare\\\\AmerisourceBergen Corp_20170131-Text.txt',\n",
       " 'C:\\\\Users\\\\nelso\\\\Documents\\\\Github\\\\PLPCA\\\\datasets\\\\transcripts\\\\By Sector\\\\healthcare\\\\AmerisourceBergen Corp_20170504-Text.txt',\n",
       " 'C:\\\\Users\\\\nelso\\\\Documents\\\\Github\\\\PLPCA\\\\datasets\\\\transcripts\\\\By Sector\\\\healthcare\\\\AmerisourceBergen Corp_20170803-Text.txt',\n",
       " 'C:\\\\Users\\\\nelso\\\\Documents\\\\Github\\\\PLPCA\\\\datasets\\\\transcripts\\\\By Sector\\\\healthcare\\\\AmerisourceBergen Corp_20171102-Text.txt',\n",
       " 'C:\\\\Users\\\\nelso\\\\Documents\\\\Github\\\\PLPCA\\\\datasets\\\\transcripts\\\\By Sector\\\\healthcare\\\\Amgen Inc._20170725-Text.txt',\n",
       " 'C:\\\\Users\\\\nelso\\\\Documents\\\\Github\\\\PLPCA\\\\datasets\\\\transcripts\\\\By Sector\\\\healthcare\\\\Amgen Inc._20171025-Text.txt',\n",
       " 'C:\\\\Users\\\\nelso\\\\Documents\\\\Github\\\\PLPCA\\\\datasets\\\\transcripts\\\\By Sector\\\\healthcare\\\\Anthem Inc._20170201-Text.txt',\n",
       " 'C:\\\\Users\\\\nelso\\\\Documents\\\\Github\\\\PLPCA\\\\datasets\\\\transcripts\\\\By Sector\\\\healthcare\\\\Anthem Inc._20170426-Text.txt',\n",
       " 'C:\\\\Users\\\\nelso\\\\Documents\\\\Github\\\\PLPCA\\\\datasets\\\\transcripts\\\\By Sector\\\\healthcare\\\\Anthem Inc._20170726-Text.txt',\n",
       " 'C:\\\\Users\\\\nelso\\\\Documents\\\\Github\\\\PLPCA\\\\datasets\\\\transcripts\\\\By Sector\\\\healthcare\\\\Baxter International Inc._20170426-Text.txt',\n",
       " 'C:\\\\Users\\\\nelso\\\\Documents\\\\Github\\\\PLPCA\\\\datasets\\\\transcripts\\\\By Sector\\\\healthcare\\\\Baxter International Inc._20170726-Text.txt',\n",
       " 'C:\\\\Users\\\\nelso\\\\Documents\\\\Github\\\\PLPCA\\\\datasets\\\\transcripts\\\\By Sector\\\\healthcare\\\\Becton Dickinson_20170803-Text.txt',\n",
       " 'C:\\\\Users\\\\nelso\\\\Documents\\\\Github\\\\PLPCA\\\\datasets\\\\transcripts\\\\By Sector\\\\healthcare\\\\Becton Dickinson_20171102-Text.txt',\n",
       " 'C:\\\\Users\\\\nelso\\\\Documents\\\\Github\\\\PLPCA\\\\datasets\\\\transcripts\\\\By Sector\\\\healthcare\\\\Biogen Inc._20170126-Text.txt',\n",
       " 'C:\\\\Users\\\\nelso\\\\Documents\\\\Github\\\\PLPCA\\\\datasets\\\\transcripts\\\\By Sector\\\\healthcare\\\\Bristol-Myers Squibb_20170427-Text.txt',\n",
       " 'C:\\\\Users\\\\nelso\\\\Documents\\\\Github\\\\PLPCA\\\\datasets\\\\transcripts\\\\By Sector\\\\healthcare\\\\Bristol-Myers Squibb_20170727-Text.txt',\n",
       " 'C:\\\\Users\\\\nelso\\\\Documents\\\\Github\\\\PLPCA\\\\datasets\\\\transcripts\\\\By Sector\\\\healthcare\\\\Cardinal Health Inc._20170501-Text.txt',\n",
       " 'C:\\\\Users\\\\nelso\\\\Documents\\\\Github\\\\PLPCA\\\\datasets\\\\transcripts\\\\By Sector\\\\healthcare\\\\CIGNA Corp._20170202-Text.txt',\n",
       " 'C:\\\\Users\\\\nelso\\\\Documents\\\\Github\\\\PLPCA\\\\datasets\\\\transcripts\\\\By Sector\\\\healthcare\\\\CIGNA Corp._20170505-Text.txt',\n",
       " 'C:\\\\Users\\\\nelso\\\\Documents\\\\Github\\\\PLPCA\\\\datasets\\\\transcripts\\\\By Sector\\\\healthcare\\\\CIGNA Corp._20170804-Text.txt',\n",
       " 'C:\\\\Users\\\\nelso\\\\Documents\\\\Github\\\\PLPCA\\\\datasets\\\\transcripts\\\\By Sector\\\\healthcare\\\\CVS Health_20170209-Text.txt',\n",
       " 'C:\\\\Users\\\\nelso\\\\Documents\\\\Github\\\\PLPCA\\\\datasets\\\\transcripts\\\\By Sector\\\\healthcare\\\\DaVita Inc._20170502-Text.txt',\n",
       " 'C:\\\\Users\\\\nelso\\\\Documents\\\\Github\\\\PLPCA\\\\datasets\\\\transcripts\\\\By Sector\\\\healthcare\\\\DaVita Inc._20170801-Text.txt',\n",
       " 'C:\\\\Users\\\\nelso\\\\Documents\\\\Github\\\\PLPCA\\\\datasets\\\\transcripts\\\\By Sector\\\\healthcare\\\\Edwards Lifesciences_20170201-Text.txt',\n",
       " 'C:\\\\Users\\\\nelso\\\\Documents\\\\Github\\\\PLPCA\\\\datasets\\\\transcripts\\\\By Sector\\\\healthcare\\\\Gilead Sciences_20170502-Text.txt',\n",
       " 'C:\\\\Users\\\\nelso\\\\Documents\\\\Github\\\\PLPCA\\\\datasets\\\\transcripts\\\\By Sector\\\\healthcare\\\\Henry Schein_20170221-Text.txt',\n",
       " 'C:\\\\Users\\\\nelso\\\\Documents\\\\Github\\\\PLPCA\\\\datasets\\\\transcripts\\\\By Sector\\\\healthcare\\\\Hologic_20170201-Text.txt',\n",
       " 'C:\\\\Users\\\\nelso\\\\Documents\\\\Github\\\\PLPCA\\\\datasets\\\\transcripts\\\\By Sector\\\\healthcare\\\\Hologic_20170802-Text.txt',\n",
       " 'C:\\\\Users\\\\nelso\\\\Documents\\\\Github\\\\PLPCA\\\\datasets\\\\transcripts\\\\By Sector\\\\healthcare\\\\Hologic_20171108-Text.txt',\n",
       " 'C:\\\\Users\\\\nelso\\\\Documents\\\\Github\\\\PLPCA\\\\datasets\\\\transcripts\\\\By Sector\\\\healthcare\\\\Humana Inc._20170503-Text.txt',\n",
       " 'C:\\\\Users\\\\nelso\\\\Documents\\\\Github\\\\PLPCA\\\\datasets\\\\transcripts\\\\By Sector\\\\healthcare\\\\Humana Inc._20170802-Text.txt',\n",
       " 'C:\\\\Users\\\\nelso\\\\Documents\\\\Github\\\\PLPCA\\\\datasets\\\\transcripts\\\\By Sector\\\\healthcare\\\\Illumina Inc_20170131-Text.txt',\n",
       " 'C:\\\\Users\\\\nelso\\\\Documents\\\\Github\\\\PLPCA\\\\datasets\\\\transcripts\\\\By Sector\\\\healthcare\\\\Illumina Inc_20170801-Text.txt',\n",
       " 'C:\\\\Users\\\\nelso\\\\Documents\\\\Github\\\\PLPCA\\\\datasets\\\\transcripts\\\\By Sector\\\\healthcare\\\\Illumina Inc_20171024-Text.txt',\n",
       " 'C:\\\\Users\\\\nelso\\\\Documents\\\\Github\\\\PLPCA\\\\datasets\\\\transcripts\\\\By Sector\\\\healthcare\\\\Incyte_20170214-Text.txt',\n",
       " 'C:\\\\Users\\\\nelso\\\\Documents\\\\Github\\\\PLPCA\\\\datasets\\\\transcripts\\\\By Sector\\\\healthcare\\\\Incyte_20170504-Text.txt',\n",
       " 'C:\\\\Users\\\\nelso\\\\Documents\\\\Github\\\\PLPCA\\\\datasets\\\\transcripts\\\\By Sector\\\\healthcare\\\\Incyte_20170801-Text.txt',\n",
       " 'C:\\\\Users\\\\nelso\\\\Documents\\\\Github\\\\PLPCA\\\\datasets\\\\transcripts\\\\By Sector\\\\healthcare\\\\Lilly (Eli) & Co._20170131-Text.txt',\n",
       " 'C:\\\\Users\\\\nelso\\\\Documents\\\\Github\\\\PLPCA\\\\datasets\\\\transcripts\\\\By Sector\\\\healthcare\\\\Lilly (Eli) & Co._20170425-Text.txt',\n",
       " 'C:\\\\Users\\\\nelso\\\\Documents\\\\Github\\\\PLPCA\\\\datasets\\\\transcripts\\\\By Sector\\\\healthcare\\\\Merck & Co._20170202-Text.txt',\n",
       " 'C:\\\\Users\\\\nelso\\\\Documents\\\\Github\\\\PLPCA\\\\datasets\\\\transcripts\\\\By Sector\\\\healthcare\\\\Merck & Co._20170502-Text.txt',\n",
       " 'C:\\\\Users\\\\nelso\\\\Documents\\\\Github\\\\PLPCA\\\\datasets\\\\transcripts\\\\By Sector\\\\healthcare\\\\Merck & Co._20170728-Text.txt',\n",
       " 'C:\\\\Users\\\\nelso\\\\Documents\\\\Github\\\\PLPCA\\\\datasets\\\\transcripts\\\\By Sector\\\\healthcare\\\\Merck & Co._20171027-Text.txt',\n",
       " 'C:\\\\Users\\\\nelso\\\\Documents\\\\Github\\\\PLPCA\\\\datasets\\\\transcripts\\\\By Sector\\\\healthcare\\\\Mylan N.V._20170510-Text.txt',\n",
       " 'C:\\\\Users\\\\nelso\\\\Documents\\\\Github\\\\PLPCA\\\\datasets\\\\transcripts\\\\By Sector\\\\healthcare\\\\PerkinElmer_20171102-Text.txt',\n",
       " 'C:\\\\Users\\\\nelso\\\\Documents\\\\Github\\\\PLPCA\\\\datasets\\\\transcripts\\\\By Sector\\\\healthcare\\\\Perrigo_20171109-Text.txt',\n",
       " 'C:\\\\Users\\\\nelso\\\\Documents\\\\Github\\\\PLPCA\\\\datasets\\\\transcripts\\\\By Sector\\\\healthcare\\\\Quest Diagnostics_20170420-Text.txt',\n",
       " 'C:\\\\Users\\\\nelso\\\\Documents\\\\Github\\\\PLPCA\\\\datasets\\\\transcripts\\\\By Sector\\\\healthcare\\\\Quest Diagnostics_20170725-Text.txt',\n",
       " 'C:\\\\Users\\\\nelso\\\\Documents\\\\Github\\\\PLPCA\\\\datasets\\\\transcripts\\\\By Sector\\\\healthcare\\\\ResMed_20170123-Text.txt',\n",
       " 'C:\\\\Users\\\\nelso\\\\Documents\\\\Github\\\\PLPCA\\\\datasets\\\\transcripts\\\\By Sector\\\\healthcare\\\\ResMed_20170427-Text.txt',\n",
       " 'C:\\\\Users\\\\nelso\\\\Documents\\\\Github\\\\PLPCA\\\\datasets\\\\transcripts\\\\By Sector\\\\healthcare\\\\ResMed_20171026-Text.txt',\n",
       " 'C:\\\\Users\\\\nelso\\\\Documents\\\\Github\\\\PLPCA\\\\datasets\\\\transcripts\\\\By Sector\\\\healthcare\\\\Stryker Corp._20170727-Text.txt',\n",
       " 'C:\\\\Users\\\\nelso\\\\Documents\\\\Github\\\\PLPCA\\\\datasets\\\\transcripts\\\\By Sector\\\\healthcare\\\\Stryker Corp._20171026-Text.txt',\n",
       " 'C:\\\\Users\\\\nelso\\\\Documents\\\\Github\\\\PLPCA\\\\datasets\\\\transcripts\\\\By Sector\\\\healthcare\\\\Thermo Fisher Scientific_20170426-Text.txt',\n",
       " 'C:\\\\Users\\\\nelso\\\\Documents\\\\Github\\\\PLPCA\\\\datasets\\\\transcripts\\\\By Sector\\\\healthcare\\\\United Health Group Inc._20170418-Text.txt',\n",
       " 'C:\\\\Users\\\\nelso\\\\Documents\\\\Github\\\\PLPCA\\\\datasets\\\\transcripts\\\\By Sector\\\\healthcare\\\\United Health Group Inc._20171017-Text.txt',\n",
       " 'C:\\\\Users\\\\nelso\\\\Documents\\\\Github\\\\PLPCA\\\\datasets\\\\transcripts\\\\By Sector\\\\healthcare\\\\Varian Medical Systems_20170125-Text.txt',\n",
       " 'C:\\\\Users\\\\nelso\\\\Documents\\\\Github\\\\PLPCA\\\\datasets\\\\transcripts\\\\By Sector\\\\healthcare\\\\Varian Medical Systems_20171025-Text.txt']"
      ]
     },
     "execution_count": 2,
     "metadata": {},
     "output_type": "execute_result"
    }
   ],
   "source": [
    "import glob\n",
    "import os\n",
    "\n",
    "sector = 'healthcare'\n",
    "file_list = glob.glob(os.path.join(os.getcwd(), \"By Sector\", sector, \"*.txt\"))\n",
    "file_list"
   ]
  },
  {
   "cell_type": "code",
   "execution_count": 3,
   "metadata": {},
   "outputs": [
    {
     "name": "stdout",
     "output_type": "stream",
     "text": [
      "['Abbott Laboratories_20171018-Text', 'AbbVie Inc._20170427-Text', 'AbbVie Inc._20170728-Text', 'AbbVie Inc._20171027-Text', 'ABIOMED Inc_20170504-Text', 'Agilent Technologies Inc_20170214-Text', 'Alexion Pharmaceuticals_20171026-Text', 'Align Technology_20170131-Text', 'Align Technology_20170427-Text', 'Align Technology_20170727-Text', 'Allergan, Plc_20170803-Text', 'AmerisourceBergen Corp_20170131-Text', 'AmerisourceBergen Corp_20170504-Text', 'AmerisourceBergen Corp_20170803-Text', 'AmerisourceBergen Corp_20171102-Text', 'Amgen Inc._20170725-Text', 'Amgen Inc._20171025-Text', 'Anthem Inc._20170201-Text', 'Anthem Inc._20170426-Text', 'Anthem Inc._20170726-Text', 'Baxter International Inc._20170426-Text', 'Baxter International Inc._20170726-Text', 'Becton Dickinson_20170803-Text', 'Becton Dickinson_20171102-Text', 'Biogen Inc._20170126-Text', 'Bristol-Myers Squibb_20170427-Text', 'Bristol-Myers Squibb_20170727-Text', 'Cardinal Health Inc._20170501-Text', 'CIGNA Corp._20170202-Text', 'CIGNA Corp._20170505-Text', 'CIGNA Corp._20170804-Text', 'CVS Health_20170209-Text', 'DaVita Inc._20170502-Text', 'DaVita Inc._20170801-Text', 'Edwards Lifesciences_20170201-Text', 'Gilead Sciences_20170502-Text', 'Henry Schein_20170221-Text', 'Hologic_20170201-Text', 'Hologic_20170802-Text', 'Hologic_20171108-Text', 'Humana Inc._20170503-Text', 'Humana Inc._20170802-Text', 'Illumina Inc_20170131-Text', 'Illumina Inc_20170801-Text', 'Illumina Inc_20171024-Text', 'Incyte_20170214-Text', 'Incyte_20170504-Text', 'Incyte_20170801-Text', 'Lilly (Eli) & Co._20170131-Text', 'Lilly (Eli) & Co._20170425-Text', 'Merck & Co._20170202-Text', 'Merck & Co._20170502-Text', 'Merck & Co._20170728-Text', 'Merck & Co._20171027-Text', 'Mylan N.V._20170510-Text', 'PerkinElmer_20171102-Text', 'Perrigo_20171109-Text', 'Quest Diagnostics_20170420-Text', 'Quest Diagnostics_20170725-Text', 'ResMed_20170123-Text', 'ResMed_20170427-Text', 'ResMed_20171026-Text', 'Stryker Corp._20170727-Text', 'Stryker Corp._20171026-Text', 'Thermo Fisher Scientific_20170426-Text', 'United Health Group Inc._20170418-Text', 'United Health Group Inc._20171017-Text', 'Varian Medical Systems_20170125-Text', 'Varian Medical Systems_20171025-Text']\n"
     ]
    }
   ],
   "source": [
    "filename_list = []\n",
    "\n",
    "for file_path in file_list:\n",
    "    file_name = os.path.basename(file_path)\n",
    "    file_name = os.path.splitext(file_name)[0]\n",
    "    filename_list.append(file_name)\n",
    "    \n",
    "print(filename_list)"
   ]
  },
  {
   "cell_type": "code",
   "execution_count": 5,
   "metadata": {},
   "outputs": [
    {
     "ename": "KeyboardInterrupt",
     "evalue": "",
     "output_type": "error",
     "traceback": [
      "\u001b[1;31m---------------------------------------------------------------------------\u001b[0m",
      "\u001b[1;31mKeyboardInterrupt\u001b[0m                         Traceback (most recent call last)",
      "\u001b[1;32m<ipython-input-5-ac9db346ce33>\u001b[0m in \u001b[0;36m<module>\u001b[1;34m\u001b[0m\n\u001b[0;32m     11\u001b[0m         \u001b[0mmydata\u001b[0m \u001b[1;33m=\u001b[0m \u001b[0mfile\u001b[0m\u001b[1;33m.\u001b[0m\u001b[0mreadlines\u001b[0m\u001b[1;33m(\u001b[0m\u001b[1;33m)\u001b[0m\u001b[1;33m\u001b[0m\u001b[1;33m\u001b[0m\u001b[0m\n\u001b[0;32m     12\u001b[0m         \u001b[1;32mfor\u001b[0m \u001b[0mlines\u001b[0m \u001b[1;32min\u001b[0m \u001b[0mmydata\u001b[0m\u001b[1;33m:\u001b[0m\u001b[1;33m\u001b[0m\u001b[1;33m\u001b[0m\u001b[0m\n\u001b[1;32m---> 13\u001b[1;33m             \u001b[0mdoc\u001b[0m \u001b[1;33m=\u001b[0m \u001b[0mnlp\u001b[0m\u001b[1;33m(\u001b[0m\u001b[0mlines\u001b[0m\u001b[1;33m)\u001b[0m\u001b[1;33m\u001b[0m\u001b[1;33m\u001b[0m\u001b[0m\n\u001b[0m\u001b[0;32m     14\u001b[0m             \u001b[1;32mfor\u001b[0m \u001b[0msent\u001b[0m \u001b[1;32min\u001b[0m \u001b[0mdoc\u001b[0m\u001b[1;33m.\u001b[0m\u001b[0msents\u001b[0m\u001b[1;33m:\u001b[0m\u001b[1;33m\u001b[0m\u001b[1;33m\u001b[0m\u001b[0m\n\u001b[0;32m     15\u001b[0m                 \u001b[0msentences\u001b[0m\u001b[1;33m.\u001b[0m\u001b[0mappend\u001b[0m\u001b[1;33m(\u001b[0m\u001b[0msent\u001b[0m\u001b[1;33m.\u001b[0m\u001b[0mstring\u001b[0m\u001b[1;33m.\u001b[0m\u001b[0mstrip\u001b[0m\u001b[1;33m(\u001b[0m\u001b[1;33m)\u001b[0m\u001b[1;33m)\u001b[0m\u001b[1;33m\u001b[0m\u001b[1;33m\u001b[0m\u001b[0m\n",
      "\u001b[1;32m~\\Anaconda3\\lib\\site-packages\\spacy\\language.py\u001b[0m in \u001b[0;36m__call__\u001b[1;34m(self, text, disable, component_cfg)\u001b[0m\n\u001b[0;32m    433\u001b[0m             \u001b[1;32mif\u001b[0m \u001b[1;32mnot\u001b[0m \u001b[0mhasattr\u001b[0m\u001b[1;33m(\u001b[0m\u001b[0mproc\u001b[0m\u001b[1;33m,\u001b[0m \u001b[1;34m\"__call__\"\u001b[0m\u001b[1;33m)\u001b[0m\u001b[1;33m:\u001b[0m\u001b[1;33m\u001b[0m\u001b[1;33m\u001b[0m\u001b[0m\n\u001b[0;32m    434\u001b[0m                 \u001b[1;32mraise\u001b[0m \u001b[0mValueError\u001b[0m\u001b[1;33m(\u001b[0m\u001b[0mErrors\u001b[0m\u001b[1;33m.\u001b[0m\u001b[0mE003\u001b[0m\u001b[1;33m.\u001b[0m\u001b[0mformat\u001b[0m\u001b[1;33m(\u001b[0m\u001b[0mcomponent\u001b[0m\u001b[1;33m=\u001b[0m\u001b[0mtype\u001b[0m\u001b[1;33m(\u001b[0m\u001b[0mproc\u001b[0m\u001b[1;33m)\u001b[0m\u001b[1;33m,\u001b[0m \u001b[0mname\u001b[0m\u001b[1;33m=\u001b[0m\u001b[0mname\u001b[0m\u001b[1;33m)\u001b[0m\u001b[1;33m)\u001b[0m\u001b[1;33m\u001b[0m\u001b[1;33m\u001b[0m\u001b[0m\n\u001b[1;32m--> 435\u001b[1;33m             \u001b[0mdoc\u001b[0m \u001b[1;33m=\u001b[0m \u001b[0mproc\u001b[0m\u001b[1;33m(\u001b[0m\u001b[0mdoc\u001b[0m\u001b[1;33m,\u001b[0m \u001b[1;33m**\u001b[0m\u001b[0mcomponent_cfg\u001b[0m\u001b[1;33m.\u001b[0m\u001b[0mget\u001b[0m\u001b[1;33m(\u001b[0m\u001b[0mname\u001b[0m\u001b[1;33m,\u001b[0m \u001b[1;33m{\u001b[0m\u001b[1;33m}\u001b[0m\u001b[1;33m)\u001b[0m\u001b[1;33m)\u001b[0m\u001b[1;33m\u001b[0m\u001b[1;33m\u001b[0m\u001b[0m\n\u001b[0m\u001b[0;32m    436\u001b[0m             \u001b[1;32mif\u001b[0m \u001b[0mdoc\u001b[0m \u001b[1;32mis\u001b[0m \u001b[1;32mNone\u001b[0m\u001b[1;33m:\u001b[0m\u001b[1;33m\u001b[0m\u001b[1;33m\u001b[0m\u001b[0m\n\u001b[0;32m    437\u001b[0m                 \u001b[1;32mraise\u001b[0m \u001b[0mValueError\u001b[0m\u001b[1;33m(\u001b[0m\u001b[0mErrors\u001b[0m\u001b[1;33m.\u001b[0m\u001b[0mE005\u001b[0m\u001b[1;33m.\u001b[0m\u001b[0mformat\u001b[0m\u001b[1;33m(\u001b[0m\u001b[0mname\u001b[0m\u001b[1;33m=\u001b[0m\u001b[0mname\u001b[0m\u001b[1;33m)\u001b[0m\u001b[1;33m)\u001b[0m\u001b[1;33m\u001b[0m\u001b[1;33m\u001b[0m\u001b[0m\n",
      "\u001b[1;31mKeyboardInterrupt\u001b[0m: "
     ]
    }
   ],
   "source": [
    "import spacy\n",
    "nlp = spacy.load(\"en_core_web_sm\")\n",
    "\n",
    "corpus = {}\n",
    "sentences = []\n",
    "for file_path in file_list:\n",
    "    file_name = os.path.basename(file_path)\n",
    "    file_name = os.path.splitext(file_name)[0]\n",
    "    \n",
    "    with open(file_path, 'r', encoding=\"utf8\") as file:\n",
    "        mydata = file.readlines()\n",
    "        for lines in mydata:\n",
    "            doc = nlp(lines)\n",
    "            for sent in doc.sents:\n",
    "                sentences.append(sent.string.strip())\n",
    "                txt = {file_name : sentences}\n",
    "                corpus.update(txt)\n",
    "       "
   ]
  },
  {
   "cell_type": "code",
   "execution_count": 99,
   "metadata": {},
   "outputs": [],
   "source": [
    "#print(corpus[filename_list[0]]) # able to subset the dict by index nume of filename_list "
   ]
  },
  {
   "cell_type": "markdown",
   "metadata": {},
   "source": [
    "# 7. Cleaning Data\n",
    "As you can see there are many noise characters and extra spaces that is quite distracting. Let’s get rid of them using regular expressions."
   ]
  },
  {
   "cell_type": "code",
   "execution_count": 57,
   "metadata": {},
   "outputs": [
    {
     "name": "stdout",
     "output_type": "stream",
     "text": [
      "AbbVie Inc._20170427-Text\n"
     ]
    }
   ],
   "source": [
    "# subset to list\n",
    "data = corpus[filename_list[0]]\n",
    "print(filename_list[0])"
   ]
  },
  {
   "cell_type": "code",
   "execution_count": 108,
   "metadata": {},
   "outputs": [],
   "source": [
    "for i in range(0,len(filename_list)):\n",
    "    data = corpus[filename_list[i]]"
   ]
  },
  {
   "cell_type": "code",
   "execution_count": 109,
   "metadata": {},
   "outputs": [],
   "source": [
    "# Remove Emails\n",
    "data = [re.sub('\\S*@\\S*\\s?', '', sent) for sent in data]"
   ]
  },
  {
   "cell_type": "code",
   "execution_count": 110,
   "metadata": {},
   "outputs": [],
   "source": [
    "# Remove new line characters\n",
    "data = [re.sub('\\s+', ' ', sent) for sent in data]"
   ]
  },
  {
   "cell_type": "code",
   "execution_count": 111,
   "metadata": {},
   "outputs": [],
   "source": [
    "# Remove distracting single quotes\n",
    "data = [re.sub(\"\\'\", \"\", sent) for sent in data]"
   ]
  },
  {
   "cell_type": "code",
   "execution_count": 112,
   "metadata": {},
   "outputs": [
    {
     "name": "stdout",
     "output_type": "stream",
     "text": [
      "['Today Ill highlight recent pipeline updates and discuss some of the key '\n",
      " 'milestones we anticipate for the remainder of 2017.']\n"
     ]
    }
   ],
   "source": [
    "pprint(data[:1])"
   ]
  },
  {
   "cell_type": "markdown",
   "metadata": {},
   "source": [
    "After removing the stopwords and extra spaces, the text still looks messy. It is not ready for the LDA to consume. You need to break down each sentence into a list of words through tokenization, while clearing up all the messy text in the process.\n",
    "\n",
    "Gensim’s simple_preprocess is great for this."
   ]
  },
  {
   "cell_type": "markdown",
   "metadata": {},
   "source": [
    "# 8. Tokenize words and Clean-up text\n",
    "Let’s tokenize each sentence into a list of words, removing punctuations and unnecessary characters altogether.\n",
    "\n",
    "Gensim’s simple_preprocess() is great for this. Additionally I have set deacc=True to remove the punctuations."
   ]
  },
  {
   "cell_type": "code",
   "execution_count": 113,
   "metadata": {},
   "outputs": [],
   "source": [
    "def sent_to_words(sentences):\n",
    "    for sentence in sentences:\n",
    "        yield(gensim.utils.simple_preprocess(str(sentence), deacc=True))  # deacc=True removes punctuations\n",
    "\n",
    "data_words = list(sent_to_words(data))"
   ]
  },
  {
   "cell_type": "code",
   "execution_count": 114,
   "metadata": {},
   "outputs": [
    {
     "name": "stdout",
     "output_type": "stream",
     "text": [
      "[['today', 'ill', 'highlight', 'recent', 'pipeline', 'updates', 'and', 'discuss', 'some', 'of', 'the', 'key', 'milestones', 'we', 'anticipate', 'for', 'the', 'remainder', 'of'], ['ill', 'start', 'with', 'our', 'hem', 'onc', 'programs', 'where', 'we', 'continue', 'to', 'make', 'significant', 'progress', 'with', 'both', 'imbruvica', 'and', 'venclexta']]\n"
     ]
    }
   ],
   "source": [
    "print(data_words[:2])"
   ]
  },
  {
   "cell_type": "markdown",
   "metadata": {},
   "source": [
    "# 9. Creating Bigram and Trigram Models\n",
    "Bigrams are two words frequently occurring together in the document. Trigrams are 3 words frequently occurring.\n",
    "\n",
    "Some examples in our example are: ‘front_bumper’, ‘oil_leak’, ‘maryland_college_park’ etc.\n",
    "\n",
    "Gensim’s Phrases model can build and implement the bigrams, trigrams, quadgrams and more. The two important arguments to Phrases are min_count and threshold. The higher the values of these param, the harder it is for words to be combined to bigrams."
   ]
  },
  {
   "cell_type": "code",
   "execution_count": 115,
   "metadata": {},
   "outputs": [],
   "source": [
    "# Build the bigram and trigram models\n",
    "bigram = gensim.models.Phrases(data_words, min_count=5, threshold=100) # higher threshold fewer phrases.\n",
    "trigram = gensim.models.Phrases(bigram[data_words], threshold=100)  \n",
    "\n",
    "# Faster way to get a sentence clubbed as a trigram/bigram\n",
    "bigram_mod = gensim.models.phrases.Phraser(bigram)\n",
    "trigram_mod = gensim.models.phrases.Phraser(trigram)"
   ]
  },
  {
   "cell_type": "code",
   "execution_count": 116,
   "metadata": {},
   "outputs": [
    {
     "name": "stdout",
     "output_type": "stream",
     "text": [
      "['today', 'ill', 'highlight', 'recent', 'pipeline', 'updates', 'and', 'discuss', 'some', 'of', 'the', 'key', 'milestones', 'we', 'anticipate', 'for', 'the', 'remainder', 'of']\n"
     ]
    }
   ],
   "source": [
    "# See trigram example\n",
    "print(trigram_mod[bigram_mod[data_words[0]]])"
   ]
  },
  {
   "cell_type": "markdown",
   "metadata": {},
   "source": [
    "# 10. Remove Stopwords, Make Bigrams and Lemmatize\n",
    "The bigrams model is ready. Let’s define the functions to remove the stopwords, make bigrams and lemmatization and call them sequentially."
   ]
  },
  {
   "cell_type": "code",
   "execution_count": 117,
   "metadata": {},
   "outputs": [],
   "source": [
    "# Define functions for stopwords, bigrams, trigrams and lemmatization\n",
    "def remove_stopwords(texts):\n",
    "    return [[word for word in simple_preprocess(str(doc)) if word not in stop_words] for doc in texts]\n",
    "\n",
    "def make_bigrams(texts):\n",
    "    return [bigram_mod[doc] for doc in texts]\n",
    "\n",
    "def make_trigrams(texts):\n",
    "    return [trigram_mod[bigram_mod[doc]] for doc in texts]\n",
    "\n",
    "def lemmatization(texts, allowed_postags=['NOUN', 'ADJ', 'VERB', 'ADV']):\n",
    "    \"\"\"https://spacy.io/api/annotation\"\"\"\n",
    "    texts_out = []\n",
    "    for sent in texts:\n",
    "        doc = nlp(\" \".join(sent)) \n",
    "        texts_out.append([token.lemma_ for token in doc if token.pos_ in allowed_postags])\n",
    "    return texts_out"
   ]
  },
  {
   "cell_type": "code",
   "execution_count": 118,
   "metadata": {},
   "outputs": [],
   "source": [
    "# Let’s call the functions in order.\n",
    "\n",
    "# Remove Stop Words\n",
    "data_words_nostops = remove_stopwords(data_words)\n",
    "\n",
    "# Form Bigrams\n",
    "data_words_bigrams = make_bigrams(data_words_nostops)"
   ]
  },
  {
   "cell_type": "code",
   "execution_count": 119,
   "metadata": {},
   "outputs": [],
   "source": [
    "# Initialize spacy 'en' model, keeping only tagger component (for efficiency)\n",
    "# python3 -m spacy download en\n",
    "nlp = spacy.load('en', disable=['parser', 'ner'])"
   ]
  },
  {
   "cell_type": "code",
   "execution_count": 120,
   "metadata": {},
   "outputs": [
    {
     "name": "stdout",
     "output_type": "stream",
     "text": [
      "[['today', 'ill', 'highlight', 'recent', 'pipeline', 'update', 'discuss', 'key', 'milestone', 'anticipate'], ['ill', 'start', 'onc', 'program', 'continue', 'make', 'significant', 'progress']]\n"
     ]
    }
   ],
   "source": [
    "# Do lemmatization keeping only noun, adj, vb, adv\n",
    "data_lemmatized = lemmatization(data_words_bigrams, allowed_postags=['NOUN', 'ADJ', 'VERB', 'ADV'])\n",
    "\n",
    "print(data_lemmatized[:2])"
   ]
  },
  {
   "cell_type": "markdown",
   "metadata": {},
   "source": [
    "# 11. Create the Dictionary and Corpus needed for Topic Modeling\n",
    "The two main inputs to the LDA topic model are the dictionary(id2word) and the corpus. Let’s create them."
   ]
  },
  {
   "cell_type": "code",
   "execution_count": 121,
   "metadata": {},
   "outputs": [],
   "source": [
    "# Create Dictionary\n",
    "id2word = corpora.Dictionary(data_lemmatized)\n",
    "\n",
    "# Create Corpus\n",
    "texts = data_lemmatized\n",
    "\n",
    "# Term Document Frequency\n",
    "corpus = [id2word.doc2bow(text) for text in texts]"
   ]
  },
  {
   "cell_type": "code",
   "execution_count": 122,
   "metadata": {},
   "outputs": [
    {
     "name": "stdout",
     "output_type": "stream",
     "text": [
      "[[(0, 1), (1, 1), (2, 1), (3, 1), (4, 1), (5, 1), (6, 1), (7, 1), (8, 1), (9, 1)], [(3, 1), (10, 1), (11, 1), (12, 1), (13, 1), (14, 1), (15, 1), (16, 1)]]\n"
     ]
    }
   ],
   "source": [
    "# View\n",
    "print(corpus[:2])"
   ]
  },
  {
   "cell_type": "markdown",
   "metadata": {},
   "source": [
    "Gensim creates a unique id for each word in the document. The produced corpus shown above is a mapping of (word_id, word_frequency).\n",
    "\n",
    "For example, (0, 1) above implies, word id 0 occurs once in the first document. Likewise, word id 1 occurs twice and so on.\n",
    "\n",
    "This is used as the input by the LDA model.\n",
    "\n",
    "If you want to see what word a given id corresponds to, pass the id as a key to the dictionary.\n",
    "\n",
    "id2word[0]\n",
    "'addition'\n",
    "Or, you can see a human-readable form of the corpus itself."
   ]
  },
  {
   "cell_type": "code",
   "execution_count": 123,
   "metadata": {},
   "outputs": [
    {
     "data": {
      "text/plain": [
       "[[('anticipate', 1),\n",
       "  ('discuss', 1),\n",
       "  ('highlight', 1),\n",
       "  ('ill', 1),\n",
       "  ('key', 1),\n",
       "  ('milestone', 1),\n",
       "  ('pipeline', 1),\n",
       "  ('recent', 1),\n",
       "  ('today', 1),\n",
       "  ('update', 1)],\n",
       " [('ill', 1),\n",
       "  ('continue', 1),\n",
       "  ('make', 1),\n",
       "  ('onc', 1),\n",
       "  ('program', 1),\n",
       "  ('progress', 1),\n",
       "  ('significant', 1),\n",
       "  ('start', 1)]]"
      ]
     },
     "execution_count": 123,
     "metadata": {},
     "output_type": "execute_result"
    }
   ],
   "source": [
    "# Human readable format of corpus (term-frequency)\n",
    "[[(id2word[id], freq) for id, freq in cp] for cp in corpus[:2]]"
   ]
  },
  {
   "cell_type": "markdown",
   "metadata": {},
   "source": [
    "Alright, without digressing further let’s jump back on track with the next step: Building the topic model."
   ]
  },
  {
   "cell_type": "markdown",
   "metadata": {},
   "source": [
    "# 12. Building the Topic Model\n",
    "We have everything required to train the LDA model. In addition to the corpus and dictionary, you need to provide the number of topics as well.\n",
    "\n",
    "Apart from that, **alpha** and **eta** are hyperparameters that affect sparsity of the topics. According to the Gensim docs, both defaults to 1.0/num_topics prior.\n",
    "\n",
    "**chunksize** is the number of documents to be used in each training chunk. **update_every** determines how often the model parameters should be updated and **passes** is the total number of training passes."
   ]
  },
  {
   "cell_type": "code",
   "execution_count": 124,
   "metadata": {},
   "outputs": [],
   "source": [
    "# Build LDA model\n",
    "lda_model = gensim.models.ldamodel.LdaModel(corpus=corpus,\n",
    "                                           id2word=id2word,\n",
    "                                           num_topics=20, \n",
    "                                           random_state=100,\n",
    "                                           update_every=1,\n",
    "                                           chunksize=100,\n",
    "                                           passes=10,\n",
    "                                           alpha='auto',\n",
    "                                           per_word_topics=True)"
   ]
  },
  {
   "cell_type": "markdown",
   "metadata": {},
   "source": [
    "# 13. View the topics in LDA model\n",
    "The above LDA model is built with 20 different topics where each topic is a combination of keywords and each keyword contributes a certain weightage to the topic.\n",
    "\n",
    "You can see the keywords for each topic and the weightage(importance) of each keyword using lda_model.print_topics() as shown next."
   ]
  },
  {
   "cell_type": "code",
   "execution_count": 125,
   "metadata": {},
   "outputs": [
    {
     "name": "stdout",
     "output_type": "stream",
     "text": [
      "[(0,\n",
      "  '0.086*\"phase\" + 0.073*\"program\" + 0.066*\"study\" + 0.055*\"datum\" + '\n",
      "  '0.029*\"early\" + 0.025*\"month\" + 0.023*\"begin\" + 0.021*\"expect\" + '\n",
      "  '0.020*\"attention\" + 0.018*\"increase\"'),\n",
      " (1,\n",
      "  '0.043*\"share\" + 0.043*\"part\" + 0.041*\"data\" + 0.041*\"week\" + 0.040*\"may\" + '\n",
      "  '0.035*\"soon\" + 0.033*\"strategy\" + 0.023*\"meeting\" + 0.017*\"portion\" + '\n",
      "  '0.016*\"relate\"'),\n",
      " (2,\n",
      "  '0.248*\"approval\" + 0.037*\"track\" + 0.014*\"remain\" + 0.001*\"claim\" + '\n",
      "  '0.001*\"estimate\" + 0.001*\"gun\" + 0.001*\"licensure\" + 0.001*\"stuck\" + '\n",
      "  '0.001*\"projection\" + 0.001*\"forth\"'),\n",
      " (3,\n",
      "  '0.362*\"think\" + 0.121*\"strong\" + 0.050*\"obviously\" + 0.049*\"result\" + '\n",
      "  '0.048*\"time\" + 0.042*\"receive\" + 0.025*\"achieve\" + 0.018*\"approximately\" + '\n",
      "  '0.007*\"process\" + 0.007*\"early\"'),\n",
      " (4,\n",
      "  '0.115*\"great\" + 0.062*\"make\" + 0.054*\"run\" + 0.049*\"progress\" + '\n",
      "  '0.043*\"continue\" + 0.034*\"approve\" + 0.030*\"ongoing\" + 0.024*\"multiple\" + '\n",
      "  '0.020*\"indication\" + 0.019*\"area\"'),\n",
      " (5,\n",
      "  '0.037*\"addition\" + 0.028*\"type\" + 0.025*\"place\" + 0.020*\"promise\" + '\n",
      "  '0.007*\"express\" + 0.007*\"evaluate\" + 0.001*\"iis\" + 0.001*\"much\" + '\n",
      "  '0.001*\"consumer\" + 0.001*\"true\"'),\n",
      " (6,\n",
      "  '0.135*\"say\" + 0.082*\"year\" + 0.076*\"launch\" + 0.058*\"position\" + '\n",
      "  '0.057*\"next\" + 0.049*\"third\" + 0.044*\"high\" + 0.027*\"end\" + '\n",
      "  '0.023*\"generation\" + 0.018*\"course\"'),\n",
      " (7,\n",
      "  '0.234*\"good\" + 0.029*\"demonstrate\" + 0.026*\"approach\" + 0.025*\"disease\" + '\n",
      "  '0.023*\"asset\" + 0.012*\"block\" + 0.011*\"number\" + 0.011*\"crohns\" + '\n",
      "  '0.010*\"enter\" + 0.010*\"improve\"'),\n",
      " (8,\n",
      "  '0.260*\"product\" + 0.134*\"new\" + 0.069*\"take\" + 0.033*\"question\" + '\n",
      "  '0.023*\"market\" + 0.019*\"drug\" + 0.019*\"fast\" + 0.014*\"technology\" + '\n",
      "  '0.013*\"continue\" + 0.012*\"evidence\"'),\n",
      " (9,\n",
      "  '0.093*\"patient\" + 0.067*\"update\" + 0.058*\"feel\" + 0.036*\"genotype\" + '\n",
      "  '0.028*\"report\" + 0.027*\"provide\" + 0.026*\"difficult\" + 0.025*\"last\" + '\n",
      "  '0.021*\"datum\" + 0.019*\"include\"'),\n",
      " (10,\n",
      "  '0.126*\"include\" + 0.038*\"key\" + 0.037*\"medical\" + 0.028*\"non\" + '\n",
      "  '0.026*\"anticipate\" + 0.025*\"study\" + 0.020*\"could\" + 0.020*\"available\" + '\n",
      "  '0.018*\"form\" + 0.018*\"additional\"'),\n",
      " (11,\n",
      "  '0.110*\"s\" + 0.096*\"know\" + 0.079*\"start\" + 0.069*\"trial\" + 0.068*\"rate\" + '\n",
      "  '0.048*\"drive\" + 0.035*\"patient\" + 0.034*\"well\" + 0.024*\"year\" + '\n",
      "  '0.020*\"market\"'),\n",
      " (12,\n",
      "  '0.091*\"performance\" + 0.076*\"number\" + 0.046*\"call\" + 0.045*\"large\" + '\n",
      "  '0.040*\"different\" + 0.036*\"issue\" + 0.035*\"example\" + 0.034*\"ill\" + '\n",
      "  '0.031*\"care\" + 0.029*\"also\"'),\n",
      " (13,\n",
      "  '0.056*\"compare\" + 0.023*\"show\" + 0.013*\"superior\" + 0.013*\"associate\" + '\n",
      "  '0.007*\"blockade\" + 0.007*\"selective\" + 0.001*\"response\" + 0.001*\"clinical\" '\n",
      "  '+ 0.001*\"adjust\" + 0.001*\"value\"'),\n",
      " (14,\n",
      "  '0.075*\"life\" + 0.025*\"threaten\" + 0.017*\"transplant\" + 0.006*\"occur\" + '\n",
      "  '0.006*\"marrow\" + 0.006*\"complication\" + 0.006*\"severe\" + '\n",
      "  '0.006*\"potentially\" + 0.001*\"real\" + 0.001*\"impact\"'),\n",
      " (15,\n",
      "  '0.102*\"world\" + 0.087*\"full\" + 0.074*\"move\" + 0.021*\"priority\" + '\n",
      "  '0.018*\"survival\" + 0.017*\"plan\" + 0.017*\"base\" + 0.017*\"assessment\" + '\n",
      "  '0.014*\"disease\" + 0.009*\"bowel\"'),\n",
      " (16,\n",
      "  '0.134*\"well\" + 0.097*\"market\" + 0.065*\"level\" + 0.051*\"particularly\" + '\n",
      "  '0.041*\"excited\" + 0.036*\"acquisition\" + 0.035*\"change\" + 0.033*\"segment\" + '\n",
      "  '0.032*\"grow\" + 0.027*\"remain\"'),\n",
      " (17,\n",
      "  '0.196*\"have\" + 0.126*\"would\" + 0.122*\"see\" + 0.074*\"look\" + 0.068*\"first\" + '\n",
      "  '0.022*\"year\" + 0.021*\"expect\" + 0.020*\"transition\" + 0.018*\"indicate\" + '\n",
      "  '0.013*\"condition\"'),\n",
      " (18,\n",
      "  '0.221*\"be\" + 0.094*\"back\" + 0.078*\"come\" + 0.028*\"establish\" + '\n",
      "  '0.022*\"combination\" + 0.021*\"effect\" + 0.019*\"broad\" + 0.015*\"venclexta\" + '\n",
      "  '0.012*\"perspective\" + 0.011*\"safety\"'),\n",
      " (19,\n",
      "  '0.274*\"growth\" + 0.201*\"quarter\" + 0.071*\"year\" + 0.040*\"expect\" + '\n",
      "  '0.036*\"second\" + 0.017*\"important\" + 0.012*\"line\" + 0.011*\"driver\" + '\n",
      "  '0.010*\"risankizumab\" + 0.009*\"also\"')]\n"
     ]
    }
   ],
   "source": [
    "# Print the Keyword in the 10 topics\n",
    "pprint(lda_model.print_topics())"
   ]
  },
  {
   "cell_type": "code",
   "execution_count": 126,
   "metadata": {},
   "outputs": [],
   "source": [
    "doc_lda = lda_model[corpus]"
   ]
  },
  {
   "cell_type": "markdown",
   "metadata": {},
   "source": [
    "How to interpret this?\n",
    "\n",
    "Topic 0 is a represented as _0.016“car” + 0.014“power” + 0.010“light” + 0.009“drive” + 0.007“mount” + 0.007“controller” + 0.007“cool” + 0.007“engine” + 0.007“back” + ‘0.006“turn”.\n",
    "\n",
    "It means the top 10 keywords that contribute to this topic are: ‘car’, ‘power’, ‘light’.. and so on and the weight of ‘car’ on topic 0 is 0.016.\n",
    "\n",
    "The weights reflect how important a keyword is to that topic.\n",
    "\n",
    "Looking at these keywords, can you guess what this topic could be? You may summarise it either are ‘cars’ or ‘automobiles’.\n",
    "\n",
    "Likewise, can you go through the remaining topic keywords and judge what the topic is?\n",
    "\n",
    "Inferring Topic from Keywords\n",
    "Inferring Topic from Keywords"
   ]
  },
  {
   "cell_type": "markdown",
   "metadata": {},
   "source": [
    "# 14. Compute Model Perplexity and Coherence Score\n",
    "Model perplexity and topic coherence provide a convenient measure to judge how good a given topic model is. In my experience, topic coherence score, in particular, has been more helpful."
   ]
  },
  {
   "cell_type": "code",
   "execution_count": 127,
   "metadata": {},
   "outputs": [
    {
     "name": "stdout",
     "output_type": "stream",
     "text": [
      "\n",
      "Perplexity:  -14.180606564318573\n"
     ]
    }
   ],
   "source": [
    "# Compute Perplexity\n",
    "print('\\nPerplexity: ', lda_model.log_perplexity(corpus))  # a measure of how good the model is. lower the better."
   ]
  },
  {
   "cell_type": "code",
   "execution_count": 128,
   "metadata": {},
   "outputs": [
    {
     "name": "stderr",
     "output_type": "stream",
     "text": [
      "/Users/briansum/opt/anaconda3/envs/TPML/lib/python3.7/site-packages/scipy/sparse/lil.py:504: FutureWarning: future versions will not create a writeable array from broadcast_array. Set the writable flag explicitly to avoid this warning.\n",
      "  if not i.flags.writeable or i.dtype not in (np.int32, np.int64):\n",
      "/Users/briansum/opt/anaconda3/envs/TPML/lib/python3.7/site-packages/scipy/sparse/lil.py:506: FutureWarning: future versions will not create a writeable array from broadcast_array. Set the writable flag explicitly to avoid this warning.\n",
      "  if not j.flags.writeable or j.dtype not in (np.int32, np.int64):\n"
     ]
    },
    {
     "name": "stdout",
     "output_type": "stream",
     "text": [
      "\n",
      "Coherence Score:  0.381687011514246\n"
     ]
    }
   ],
   "source": [
    "# Compute Coherence Score\n",
    "coherence_model_lda = CoherenceModel(model=lda_model, texts=data_lemmatized, dictionary=id2word, coherence='c_v')\n",
    "coherence_lda = coherence_model_lda.get_coherence()\n",
    "print('\\nCoherence Score: ', coherence_lda)"
   ]
  },
  {
   "cell_type": "markdown",
   "metadata": {},
   "source": [
    "# 15. Visualize the topics-keywords\n",
    "Now that the LDA model is built, the next step is to examine the produced topics and the associated keywords. There is no better tool than pyLDAvis package’s interactive chart and is designed to work well with jupyter notebooks."
   ]
  },
  {
   "cell_type": "code",
   "execution_count": 129,
   "metadata": {},
   "outputs": [],
   "source": [
    "# Visualize the topics\n",
    "pyLDAvis.enable_notebook()"
   ]
  },
  {
   "cell_type": "code",
   "execution_count": 150,
   "metadata": {},
   "outputs": [
    {
     "name": "stderr",
     "output_type": "stream",
     "text": [
      "/Users/briansum/opt/anaconda3/envs/TPML/lib/python3.7/site-packages/pyLDAvis/_prepare.py:257: FutureWarning: Sorting because non-concatenation axis is not aligned. A future version\n",
      "of pandas will change to not sort by default.\n",
      "\n",
      "To accept the future behavior, pass 'sort=False'.\n",
      "\n",
      "To retain the current behavior and silence the warning, pass 'sort=True'.\n",
      "\n",
      "  return pd.concat([default_term_info] + list(topic_dfs))\n"
     ]
    },
    {
     "data": {
      "text/html": [
       "\n",
       "<link rel=\"stylesheet\" type=\"text/css\" href=\"https://cdn.rawgit.com/bmabey/pyLDAvis/files/ldavis.v1.0.0.css\">\n",
       "\n",
       "\n",
       "<div id=\"ldavis_el2214655693298729821881027\"></div>\n",
       "<script type=\"text/javascript\">\n",
       "\n",
       "var ldavis_el2214655693298729821881027_data = {\"mdsDat\": {\"x\": [-0.2241988897917062, -0.1760629544811344, -0.008892853134778429, -0.14595495682754053, -0.16341925670120297, 0.0038566986262846205, -0.02423810510890275, 0.07528218255946449, 0.0600303706364896, 0.029936705473574063, 0.04559024381800452, 0.06973089542562724, 0.06486047733878297, 0.06864867094991081, 0.06396659896349206, 0.057502880552065046, 0.05687397294044747, 0.04876030932064205, 0.04792636808194567, 0.04980064135853343], \"y\": [0.22293926725959765, -0.19242372914311465, -0.10177074013093325, -0.04506644382199368, -0.09462557129199846, 0.03635054572308332, 0.17677579592494977, -0.017391057781168603, -0.015234204215784421, 0.06897997846869831, 0.009510597830897466, -0.014768628064413952, -0.014906964585432997, -0.002264809799089069, -0.0019625483755135735, -0.0005960796789159005, 5.037966081220798e-05, -0.003681705298306175, -0.005187862255968694, -0.004726220425405658], \"topics\": [1, 2, 3, 4, 5, 6, 7, 8, 9, 10, 11, 12, 13, 14, 15, 16, 17, 18, 19, 20], \"cluster\": [1, 1, 1, 1, 1, 1, 1, 1, 1, 1, 1, 1, 1, 1, 1, 1, 1, 1, 1, 1], \"Freq\": [11.19868278503418, 11.06917667388916, 10.01756477355957, 8.263319969177246, 8.051589965820312, 7.638443946838379, 6.340726375579834, 5.64298152923584, 4.791548252105713, 4.540502071380615, 4.366743087768555, 3.3712401390075684, 3.2004826068878174, 2.8318417072296143, 2.623826742172241, 2.5866191387176514, 1.3790030479431152, 0.7650561332702637, 0.735146164894104, 0.5855080485343933]}, \"tinfo\": {\"Category\": [\"Default\", \"Default\", \"Default\", \"Default\", \"Default\", \"Default\", \"Default\", \"Default\", \"Default\", \"Default\", \"Default\", \"Default\", \"Default\", \"Default\", \"Default\", \"Default\", \"Default\", \"Default\", \"Default\", \"Default\", \"Default\", \"Default\", \"Default\", \"Default\", \"Default\", \"Default\", \"Default\", \"Default\", \"Default\", \"Default\", \"Topic1\", \"Topic1\", \"Topic1\", \"Topic1\", \"Topic1\", \"Topic1\", \"Topic1\", \"Topic1\", \"Topic1\", \"Topic1\", \"Topic1\", \"Topic1\", \"Topic1\", \"Topic1\", \"Topic1\", \"Topic1\", \"Topic1\", \"Topic1\", \"Topic1\", \"Topic1\", \"Topic1\", \"Topic1\", \"Topic1\", \"Topic1\", \"Topic1\", \"Topic1\", \"Topic1\", \"Topic1\", \"Topic1\", \"Topic1\", \"Topic1\", \"Topic1\", \"Topic1\", \"Topic1\", \"Topic1\", \"Topic1\", \"Topic1\", \"Topic2\", \"Topic2\", \"Topic2\", \"Topic2\", \"Topic2\", \"Topic2\", \"Topic2\", \"Topic2\", \"Topic2\", \"Topic2\", \"Topic2\", \"Topic2\", \"Topic2\", \"Topic2\", \"Topic2\", \"Topic2\", \"Topic2\", \"Topic2\", \"Topic2\", \"Topic2\", \"Topic2\", \"Topic2\", \"Topic2\", \"Topic2\", \"Topic2\", \"Topic2\", \"Topic2\", \"Topic2\", \"Topic2\", \"Topic2\", \"Topic2\", \"Topic2\", \"Topic2\", \"Topic2\", \"Topic2\", \"Topic2\", \"Topic2\", \"Topic2\", \"Topic2\", \"Topic3\", \"Topic3\", \"Topic3\", \"Topic3\", \"Topic3\", \"Topic3\", \"Topic3\", \"Topic3\", \"Topic3\", \"Topic3\", \"Topic3\", \"Topic3\", \"Topic3\", \"Topic3\", \"Topic3\", \"Topic3\", \"Topic3\", \"Topic3\", \"Topic3\", \"Topic3\", \"Topic3\", \"Topic3\", \"Topic3\", \"Topic3\", \"Topic3\", \"Topic3\", \"Topic3\", \"Topic3\", \"Topic3\", \"Topic3\", \"Topic3\", \"Topic3\", \"Topic3\", \"Topic3\", \"Topic3\", \"Topic4\", \"Topic4\", \"Topic4\", \"Topic4\", \"Topic4\", \"Topic4\", \"Topic4\", \"Topic4\", \"Topic4\", \"Topic4\", \"Topic4\", \"Topic4\", \"Topic4\", \"Topic4\", \"Topic4\", \"Topic4\", \"Topic4\", \"Topic4\", \"Topic4\", \"Topic4\", \"Topic4\", \"Topic4\", \"Topic4\", \"Topic4\", \"Topic4\", \"Topic4\", \"Topic4\", \"Topic4\", \"Topic4\", \"Topic4\", \"Topic4\", \"Topic4\", \"Topic4\", \"Topic5\", \"Topic5\", \"Topic5\", \"Topic5\", \"Topic5\", \"Topic5\", \"Topic5\", \"Topic5\", \"Topic5\", \"Topic5\", \"Topic5\", \"Topic5\", \"Topic5\", \"Topic5\", \"Topic5\", \"Topic5\", \"Topic5\", \"Topic5\", \"Topic5\", \"Topic5\", \"Topic5\", \"Topic5\", \"Topic5\", \"Topic5\", \"Topic5\", \"Topic5\", \"Topic5\", \"Topic5\", \"Topic5\", \"Topic5\", \"Topic5\", \"Topic5\", \"Topic5\", \"Topic5\", \"Topic6\", \"Topic6\", \"Topic6\", \"Topic6\", \"Topic6\", \"Topic6\", \"Topic6\", \"Topic6\", \"Topic6\", \"Topic6\", \"Topic6\", \"Topic6\", \"Topic6\", \"Topic6\", \"Topic6\", \"Topic6\", \"Topic6\", \"Topic6\", \"Topic6\", \"Topic6\", \"Topic6\", \"Topic6\", \"Topic6\", \"Topic6\", \"Topic6\", \"Topic6\", \"Topic6\", \"Topic6\", \"Topic6\", \"Topic6\", \"Topic6\", \"Topic6\", \"Topic6\", \"Topic6\", \"Topic6\", \"Topic6\", \"Topic7\", \"Topic7\", \"Topic7\", \"Topic7\", \"Topic7\", \"Topic7\", \"Topic7\", \"Topic7\", \"Topic7\", \"Topic7\", \"Topic7\", \"Topic7\", \"Topic7\", \"Topic7\", \"Topic7\", \"Topic7\", \"Topic7\", \"Topic7\", \"Topic7\", \"Topic7\", \"Topic7\", \"Topic7\", \"Topic7\", \"Topic7\", \"Topic7\", \"Topic7\", \"Topic7\", \"Topic7\", \"Topic7\", \"Topic7\", \"Topic7\", \"Topic7\", \"Topic7\", \"Topic7\", \"Topic8\", \"Topic8\", \"Topic8\", \"Topic8\", \"Topic8\", \"Topic8\", \"Topic8\", \"Topic8\", \"Topic8\", \"Topic8\", \"Topic8\", \"Topic8\", \"Topic8\", \"Topic8\", \"Topic8\", \"Topic8\", \"Topic8\", \"Topic8\", \"Topic8\", \"Topic8\", \"Topic8\", \"Topic8\", \"Topic8\", \"Topic8\", \"Topic8\", \"Topic8\", \"Topic8\", \"Topic8\", \"Topic8\", \"Topic8\", \"Topic8\", \"Topic8\", \"Topic8\", \"Topic9\", \"Topic9\", \"Topic9\", \"Topic9\", \"Topic9\", \"Topic9\", \"Topic9\", \"Topic9\", \"Topic9\", \"Topic9\", \"Topic9\", \"Topic9\", \"Topic9\", \"Topic9\", \"Topic9\", \"Topic9\", \"Topic9\", \"Topic9\", \"Topic9\", \"Topic9\", \"Topic9\", \"Topic9\", \"Topic9\", \"Topic9\", \"Topic9\", \"Topic9\", \"Topic9\", \"Topic9\", \"Topic9\", \"Topic9\", \"Topic9\", \"Topic9\", \"Topic9\", \"Topic9\", \"Topic10\", \"Topic10\", \"Topic10\", \"Topic10\", \"Topic10\", \"Topic10\", \"Topic10\", \"Topic10\", \"Topic10\", \"Topic10\", \"Topic10\", \"Topic10\", \"Topic10\", \"Topic10\", \"Topic10\", \"Topic10\", \"Topic10\", \"Topic10\", \"Topic10\", \"Topic10\", \"Topic10\", \"Topic10\", \"Topic10\", \"Topic10\", \"Topic10\", \"Topic10\", \"Topic10\", \"Topic10\", \"Topic10\", \"Topic10\", \"Topic10\", \"Topic10\", \"Topic10\", \"Topic10\", \"Topic11\", \"Topic11\", \"Topic11\", \"Topic11\", \"Topic11\", \"Topic11\", \"Topic11\", \"Topic11\", \"Topic11\", \"Topic11\", \"Topic11\", \"Topic11\", \"Topic11\", \"Topic11\", \"Topic11\", \"Topic11\", \"Topic11\", \"Topic11\", \"Topic11\", \"Topic11\", \"Topic11\", \"Topic11\", \"Topic11\", \"Topic11\", \"Topic11\", \"Topic11\", \"Topic11\", \"Topic11\", \"Topic11\", \"Topic11\", \"Topic11\", \"Topic11\", \"Topic11\", \"Topic11\", \"Topic11\", \"Topic11\", \"Topic11\", \"Topic12\", \"Topic12\", \"Topic12\", \"Topic12\", \"Topic12\", \"Topic12\", \"Topic12\", \"Topic12\", \"Topic12\", \"Topic12\", \"Topic12\", \"Topic12\", \"Topic12\", \"Topic12\", \"Topic12\", \"Topic12\", \"Topic12\", \"Topic12\", \"Topic12\", \"Topic12\", \"Topic12\", \"Topic12\", \"Topic12\", \"Topic12\", \"Topic12\", \"Topic12\", \"Topic12\", \"Topic12\", \"Topic12\", \"Topic12\", \"Topic12\", \"Topic12\", \"Topic12\", \"Topic13\", \"Topic13\", \"Topic13\", \"Topic13\", \"Topic13\", \"Topic13\", \"Topic13\", \"Topic13\", \"Topic13\", \"Topic13\", \"Topic13\", \"Topic13\", \"Topic13\", \"Topic13\", \"Topic13\", \"Topic13\", \"Topic13\", \"Topic13\", \"Topic13\", \"Topic13\", \"Topic13\", \"Topic13\", \"Topic13\", \"Topic13\", \"Topic13\", \"Topic13\", \"Topic13\", \"Topic13\", \"Topic13\", \"Topic13\", \"Topic13\", \"Topic13\", \"Topic13\", \"Topic13\", \"Topic14\", \"Topic14\", \"Topic14\", \"Topic14\", \"Topic14\", \"Topic14\", \"Topic14\", \"Topic14\", \"Topic14\", \"Topic14\", \"Topic14\", \"Topic14\", \"Topic14\", \"Topic14\", \"Topic14\", \"Topic14\", \"Topic14\", \"Topic14\", \"Topic14\", \"Topic14\", \"Topic14\", \"Topic14\", \"Topic14\", \"Topic14\", \"Topic14\", \"Topic14\", \"Topic14\", \"Topic14\", \"Topic14\", \"Topic14\", \"Topic14\", \"Topic15\", \"Topic15\", \"Topic15\", \"Topic15\", \"Topic15\", \"Topic15\", \"Topic15\", \"Topic15\", \"Topic15\", \"Topic15\", \"Topic15\", \"Topic15\", \"Topic15\", \"Topic15\", \"Topic15\", \"Topic15\", \"Topic15\", \"Topic15\", \"Topic15\", \"Topic15\", \"Topic15\", \"Topic15\", \"Topic15\", \"Topic15\", \"Topic15\", \"Topic15\", \"Topic15\", \"Topic15\", \"Topic15\", \"Topic15\", \"Topic15\", \"Topic15\", \"Topic15\", \"Topic16\", \"Topic16\", \"Topic16\", \"Topic16\", \"Topic16\", \"Topic16\", \"Topic16\", \"Topic16\", \"Topic16\", \"Topic16\", \"Topic16\", \"Topic16\", \"Topic16\", \"Topic16\", \"Topic16\", \"Topic16\", \"Topic16\", \"Topic16\", \"Topic16\", \"Topic16\", \"Topic16\", \"Topic16\", \"Topic16\", \"Topic16\", \"Topic16\", \"Topic16\", \"Topic16\", \"Topic16\", \"Topic16\", \"Topic16\", \"Topic16\", \"Topic16\", \"Topic16\", \"Topic17\", \"Topic17\", \"Topic17\", \"Topic17\", \"Topic17\", \"Topic17\", \"Topic17\", \"Topic17\", \"Topic17\", \"Topic17\", \"Topic17\", \"Topic17\", \"Topic17\", \"Topic17\", \"Topic17\", \"Topic17\", \"Topic17\", \"Topic17\", \"Topic17\", \"Topic17\", \"Topic17\", \"Topic17\", \"Topic17\", \"Topic17\", \"Topic17\", \"Topic17\", \"Topic17\", \"Topic17\", \"Topic17\", \"Topic17\", \"Topic17\", \"Topic17\", \"Topic17\", \"Topic17\", \"Topic17\", \"Topic17\", \"Topic17\", \"Topic18\", \"Topic18\", \"Topic18\", \"Topic18\", \"Topic18\", \"Topic18\", \"Topic18\", \"Topic18\", \"Topic18\", \"Topic18\", \"Topic18\", \"Topic18\", \"Topic18\", \"Topic18\", \"Topic18\", \"Topic18\", \"Topic18\", \"Topic18\", \"Topic18\", \"Topic18\", \"Topic18\", \"Topic18\", \"Topic18\", \"Topic18\", \"Topic18\", \"Topic18\", \"Topic18\", \"Topic18\", \"Topic18\", \"Topic18\", \"Topic18\", \"Topic18\", \"Topic18\", \"Topic18\", \"Topic18\", \"Topic18\", \"Topic18\", \"Topic18\", \"Topic18\", \"Topic18\", \"Topic19\", \"Topic19\", \"Topic19\", \"Topic19\", \"Topic19\", \"Topic19\", \"Topic19\", \"Topic19\", \"Topic19\", \"Topic19\", \"Topic19\", \"Topic19\", \"Topic19\", \"Topic19\", \"Topic19\", \"Topic19\", \"Topic19\", \"Topic19\", \"Topic19\", \"Topic19\", \"Topic19\", \"Topic19\", \"Topic19\", \"Topic19\", \"Topic19\", \"Topic19\", \"Topic19\", \"Topic19\", \"Topic19\", \"Topic19\", \"Topic19\", \"Topic19\", \"Topic19\", \"Topic19\", \"Topic19\", \"Topic19\", \"Topic19\", \"Topic19\", \"Topic19\", \"Topic19\", \"Topic19\", \"Topic20\", \"Topic20\", \"Topic20\", \"Topic20\", \"Topic20\", \"Topic20\", \"Topic20\", \"Topic20\", \"Topic20\", \"Topic20\", \"Topic20\", \"Topic20\", \"Topic20\", \"Topic20\", \"Topic20\", \"Topic20\", \"Topic20\", \"Topic20\", \"Topic20\", \"Topic20\", \"Topic20\", \"Topic20\", \"Topic20\", \"Topic20\", \"Topic20\", \"Topic20\", \"Topic20\", \"Topic20\", \"Topic20\", \"Topic20\", \"Topic20\", \"Topic20\", \"Topic20\", \"Topic20\", \"Topic20\", \"Topic20\", \"Topic20\", \"Topic20\", \"Topic20\", \"Topic20\", \"Topic20\", \"Topic20\", \"Topic20\", \"Topic20\", \"Topic20\", \"Topic20\", \"Topic20\", \"Topic20\", \"Topic20\", \"Topic20\", \"Topic20\", \"Topic20\", \"Topic20\", \"Topic20\", \"Topic20\", \"Topic20\", \"Topic20\", \"Topic20\", \"Topic20\", \"Topic20\", \"Topic20\", \"Topic20\", \"Topic20\", \"Topic20\", \"Topic20\", \"Topic20\", \"Topic20\", \"Topic20\", \"Topic20\", \"Topic20\"], \"Freq\": [122.0, 97.0, 96.0, 72.0, 52.0, 62.0, 60.0, 50.0, 33.0, 54.0, 55.0, 30.0, 44.0, 48.0, 27.0, 82.0, 38.0, 42.0, 37.0, 25.0, 16.0, 37.0, 43.0, 33.0, 22.0, 34.0, 34.0, 34.0, 28.0, 23.0, 54.032958984375, 46.882896423339844, 33.76175308227539, 33.51462173461914, 23.566713333129883, 38.57942199707031, 8.324318885803223, 7.742449760437012, 7.489590644836426, 7.194019794464111, 6.277648448944092, 5.196883678436279, 4.026120185852051, 8.487225532531738, 2.767404079437256, 2.723658323287964, 8.134798049926758, 2.362900733947754, 2.2036561965942383, 1.5314027070999146, 6.755794525146484, 5.133835315704346, 6.337258815765381, 17.344280242919922, 1.8074581623077393, 0.6995711326599121, 0.6995711326599121, 0.6995711326599121, 0.6995711326599121, 0.6995711326599121, 16.44780158996582, 2.8637855052948, 9.604710578918457, 3.2405176162719727, 11.633248329162598, 3.435798406600952, 2.804912567138672, 95.0778579711914, 61.12192916870117, 59.01787185668945, 36.0725212097168, 32.89931106567383, 9.916947364807129, 8.940231323242188, 6.50065803527832, 5.374112606048584, 4.098663806915283, 3.1039881706237793, 2.7326645851135254, 2.650209426879883, 2.4722740650177, 2.4110119342803955, 3.1263835430145264, 2.039283514022827, 1.7176215648651123, 1.485207200050354, 0.7846143245697021, 0.7846143245697021, 0.7845767140388489, 0.7845540642738342, 0.7845540642738342, 0.7845540642738342, 0.7845540642738342, 0.7845540642738342, 0.7845003008842468, 1.4903637170791626, 0.7854139804840088, 10.096253395080566, 6.201296806335449, 10.704132080078125, 1.8605819940567017, 1.330433964729309, 1.0678430795669556, 1.1438088417053223, 0.7873650193214417, 0.7854139804840088, 37.617218017578125, 32.02722930908203, 8.963221549987793, 7.755300521850586, 6.991081714630127, 6.675938606262207, 11.006403923034668, 28.85833740234375, 5.459845066070557, 5.1446852684021, 4.8124566078186035, 4.69423770904541, 3.9288079738616943, 3.7827746868133545, 7.41847562789917, 12.714852333068848, 3.1632068157196045, 3.163144111633301, 3.1631112098693848, 2.9260380268096924, 10.214917182922363, 2.7293756008148193, 2.3976590633392334, 2.397606134414673, 2.397585153579712, 2.2516536712646484, 2.251326322555542, 2.250514507293701, 24.035680770874023, 4.634896278381348, 5.605781078338623, 7.007836818695068, 9.322875022888184, 4.018670082092285, 2.915466070175171, 48.97559356689453, 27.581083297729492, 20.867597579956055, 20.45615005493164, 16.00037384033203, 9.839411735534668, 8.351719856262207, 6.3364176750183105, 5.992050647735596, 5.991946220397949, 5.2130632400512695, 4.720991611480713, 17.636064529418945, 3.7510573863983154, 3.0447990894317627, 2.488534450531006, 2.2514615058898926, 2.1954243183135986, 5.254699230194092, 1.5640287399291992, 5.743217945098877, 2.611172914505005, 0.7146208882331848, 0.7146208882331848, 0.7145280838012695, 0.7145280838012695, 0.7145280838012695, 0.7144139409065247, 0.7144139409065247, 0.7143358588218689, 29.68796730041504, 2.6301114559173584, 1.835646390914917, 96.51364135742188, 70.85585021972656, 12.813750267028809, 3.9870002269744873, 3.512874126434326, 6.091690540313721, 3.172097682952881, 2.452218770980835, 14.184152603149414, 0.7258184552192688, 0.7258184552192688, 0.7256816029548645, 0.7255561351776123, 1.3675591945648193, 4.356715679168701, 25.13871192932129, 2.5586001873016357, 1.107272982597351, 0.7229518890380859, 3.322533369064331, 0.08503257483243942, 0.08487530797719955, 0.08484134823083878, 0.08483049273490906, 0.08482813090085983, 0.08487600088119507, 0.08483276516199112, 0.0848303735256195, 0.08481854200363159, 0.08480771631002426, 2.846315622329712, 0.08484898507595062, 0.08483204990625381, 0.08503513783216476, 121.1284408569336, 16.590206146240234, 16.188457489013672, 14.206028938293457, 40.634517669677734, 8.408968925476074, 5.975996494293213, 16.346927642822266, 2.2936549186706543, 1.8564507961273193, 1.8104722499847412, 1.28986656665802, 1.7426655292510986, 1.1103582382202148, 2.230158567428589, 0.5893052816390991, 1.4678958654403687, 1.403387427330017, 2.242053508758545, 0.06903178244829178, 0.06894005089998245, 0.06890381127595901, 0.06889776885509491, 0.06888199597597122, 0.06889861077070236, 0.06889135390520096, 0.06889745593070984, 0.06887486577033997, 0.06887932121753693, 0.06888023763895035, 0.06887854635715485, 0.06887941062450409, 0.0689123123884201, 0.06887979805469513, 0.06887979805469513, 0.06888002157211304, 17.92376136779785, 14.076505661010742, 11.481414794921875, 9.902790069580078, 9.59684944152832, 9.301078796386719, 7.242166042327881, 6.758047103881836, 7.459532737731934, 3.834465265274048, 8.973665237426758, 3.4484081268310547, 3.4216768741607666, 37.15694046020508, 27.050621032714844, 3.5935676097869873, 1.3743984699249268, 1.3743947744369507, 1.3743904829025269, 1.374385952949524, 1.1826740503311157, 1.2760027647018433, 0.6279286742210388, 0.6279137134552002, 0.6279137134552002, 0.6278465986251831, 0.6278465986251831, 0.6278465986251831, 0.6278465986251831, 0.6278465986251831, 0.6279246211051941, 0.6278995871543884, 0.6278668642044067, 0.6278508305549622, 22.463621139526367, 11.311556816101074, 11.137931823730469, 9.801129341125488, 18.738304138183594, 8.814032554626465, 8.746227264404297, 8.371172904968262, 7.622453212738037, 6.816718578338623, 4.4642558097839355, 6.897977828979492, 3.750220775604248, 3.525857925415039, 1.9875319004058838, 1.9874814748764038, 1.6814457178115845, 1.681351900100708, 1.681105375289917, 1.4161444902420044, 1.4161444902420044, 1.4160813093185425, 7.247199535369873, 0.6470168828964233, 0.646968424320221, 0.646968424320221, 0.6469419002532959, 0.6469419002532959, 0.6469419002532959, 0.6469419002532959, 1.7905055284500122, 1.414047122001648, 1.1830713748931885, 24.238021850585938, 12.929468154907227, 11.3534574508667, 10.309228897094727, 7.216649055480957, 6.372202396392822, 5.01683235168457, 4.233440399169922, 3.92398738861084, 3.8758060932159424, 3.556830644607544, 2.991426467895508, 1.899131417274475, 1.899129867553711, 1.6059892177581787, 1.352977991104126, 1.1643166542053223, 8.947638511657715, 1.164399266242981, 2.152266502380371, 0.6181952953338623, 0.6181952953338623, 0.6181952953338623, 0.6181798577308655, 0.6181798577308655, 0.6181798577308655, 0.6181071996688843, 0.6181071996688843, 0.6181071996688843, 0.6180850863456726, 1.16424560546875, 1.373496174812317, 1.6619274616241455, 1.3385255336761475, 51.71721267700195, 26.67667579650879, 13.799784660339355, 6.5151047706604, 3.6925454139709473, 2.8084330558776855, 2.3982698917388916, 1.7415331602096558, 3.7421131134033203, 0.5526983141899109, 0.5526983141899109, 0.5526983141899109, 0.5525050163269043, 0.5525050163269043, 0.5525050163269043, 0.5524852871894836, 0.5521743893623352, 1.6826575994491577, 2.639747142791748, 4.5970869064331055, 0.06461884826421738, 0.06458833068609238, 0.0645800456404686, 0.06458833068609238, 0.06458006799221039, 0.0645739734172821, 0.06456205993890762, 0.06455930322408676, 0.06457223743200302, 0.06456804275512695, 0.2849407196044922, 0.06457405537366867, 0.0645863339304924, 0.06464137881994247, 12.87911605834961, 11.063814163208008, 6.903006076812744, 5.388435363769531, 5.028406620025635, 4.76534366607666, 3.288501501083374, 3.2233223915100098, 2.496811866760254, 2.4000768661499023, 2.2531142234802246, 2.171992301940918, 5.147736549377441, 1.5459182262420654, 1.545863389968872, 1.1207042932510376, 1.120689868927002, 1.120689868927002, 1.120671272277832, 1.120627760887146, 1.1205487251281738, 17.715730667114258, 1.6463018655776978, 0.594965398311615, 0.594965398311615, 0.5949620008468628, 0.5949620008468628, 0.5949620008468628, 0.5949620008468628, 0.5949620008468628, 2.798501968383789, 0.5949620008468628, 0.5949620008468628, 1.868452548980713, 3.5485966205596924, 4.009363174438477, 0.940081000328064, 32.60432434082031, 13.851381301879883, 11.477771759033203, 4.201126575469971, 3.2601232528686523, 3.082383155822754, 2.8023762702941895, 1.8310683965682983, 1.6835758686065674, 1.2563074827194214, 2.17629075050354, 0.4834994971752167, 0.4834994971752167, 0.4834994971752167, 0.4834994971752167, 0.4834994971752167, 0.4834994971752167, 0.4834994971752167, 0.4834994971752167, 0.48339080810546875, 0.48339080810546875, 0.4824371337890625, 1.084965467453003, 0.056707773357629776, 0.05656283348798752, 0.05654790624976158, 0.05651461333036423, 0.05649156868457794, 0.05648978054523468, 0.05648978054523468, 0.056508272886276245, 0.07829800993204117, 0.05689789727330208, 5.383301258087158, 5.118824481964111, 17.680803298950195, 3.8785836696624756, 3.5966196060180664, 2.838862895965576, 2.8386764526367188, 2.550682783126831, 2.2536840438842773, 1.4516209363937378, 1.2227448225021362, 2.5349555015563965, 2.0879719257354736, 1.0523911714553833, 0.5587164759635925, 0.5587077736854553, 0.5587077736854553, 0.5587030053138733, 0.5587030053138733, 0.5586910247802734, 0.5587077140808105, 0.6190454363822937, 3.472304344177246, 1.2871770858764648, 0.8334975242614746, 0.0652623400092125, 0.0652386024594307, 0.06523693352937698, 0.06523693352937698, 0.06523693352937698, 1.542269229888916, 1.475996494293213, 0.06524856388568878, 0.06524856388568878, 29.00076675415039, 3.642699956893921, 3.2553744316101074, 2.806589126586914, 1.5451875925064087, 1.357232928276062, 1.2744507789611816, 1.274329662322998, 0.923836886882782, 0.9238205552101135, 0.9236928820610046, 1.0452989339828491, 3.0698530673980713, 0.9238205552101135, 0.49044594168663025, 0.49044594168663025, 0.49044594168663025, 0.49044594168663025, 0.49044570326805115, 0.49044570326805115, 0.49044570326805115, 0.49043646454811096, 0.49043646454811096, 0.49043646454811096, 0.49044570326805115, 0.6920623779296875, 0.4856192469596863, 0.4904455244541168, 1.3819345235824585, 0.057355109602212906, 0.10274620354175568, 11.668684005737305, 10.016003608703613, 8.542845726013184, 2.3727800846099854, 2.116394281387329, 2.004023313522339, 1.9648890495300293, 1.9337862730026245, 1.0872186422348022, 1.0872186422348022, 1.0872176885604858, 1.0871378183364868, 0.496762216091156, 0.496762216091156, 0.496762216091156, 0.49673962593078613, 0.49673962593078613, 0.8820760250091553, 1.6146447658538818, 0.05804822966456413, 0.05804824084043503, 0.05803584307432175, 0.05803584307432175, 0.05802808701992035, 0.05801576375961304, 0.05801576375961304, 0.05801576375961304, 0.05801581218838692, 0.0580049529671669, 0.05801581218838692, 0.05800892040133476, 0.058015428483486176, 0.05801576375961304, 4.925833702087402, 4.832846641540527, 4.564657211303711, 3.91005539894104, 3.731175661087036, 2.553779125213623, 4.611517906188965, 1.9626102447509766, 1.8424986600875854, 1.532754898071289, 4.605456352233887, 0.9163594245910645, 1.294615387916565, 0.486550897359848, 0.486550897359848, 0.486550897359848, 0.486550897359848, 0.486550897359848, 0.48649531602859497, 0.48649531602859497, 0.4864383935928345, 0.4864383935928345, 0.4864383935928345, 0.48628056049346924, 0.5143853425979614, 0.4863050580024719, 0.056860923767089844, 0.056817349046468735, 0.056817349046468735, 0.056817349046468735, 1.3911967277526855, 1.0818120241165161, 0.11876802146434784, 14.965010643005371, 2.230518102645874, 0.8650515079498291, 0.03728363290429115, 0.037279099225997925, 0.037279099225997925, 0.037279099225997925, 0.037279099225997925, 0.03727775812149048, 0.037279099225997925, 0.03726993501186371, 0.03727530315518379, 0.03726355731487274, 0.03726355731487274, 0.03726355731487274, 0.03726355731487274, 0.03726354241371155, 0.03726354241371155, 0.03726354241371155, 0.037271060049533844, 0.03726354241371155, 0.03726355731487274, 0.0372624434530735, 0.03726354241371155, 0.037262313067913055, 0.037262313067913055, 0.037262313067913055, 0.03726354241371155, 0.03726266324520111, 0.03726354241371155, 0.037279099225997925, 0.03726477548480034, 0.03726354241371155, 0.03726354241371155, 0.03726354241371155, 0.0372668094933033, 0.03726354241371155, 1.8655688762664795, 0.42112481594085693, 0.42112481594085693, 0.7549793720245361, 0.22359780967235565, 0.22359780967235565, 0.026102215051651, 0.026102215051651, 0.026102215051651, 0.026102215051651, 0.026100726798176765, 0.026100726798176765, 0.026100726798176765, 0.026100726798176765, 0.026102215051651, 0.026102671399712563, 0.02609923854470253, 0.026100726798176765, 0.02609923854470253, 0.02609923854470253, 0.02609923854470253, 0.02609969861805439, 0.026100726798176765, 0.026097359135746956, 0.026097359135746956, 0.026097359135746956, 0.026096275076270103, 0.026096275076270103, 0.026096275076270103, 0.026096275076270103, 0.026096275076270103, 0.026096275076270103, 0.02609860897064209, 0.026097359135746956, 0.02609969861805439, 0.02609969861805439, 0.026102209463715553, 0.03486499935388565, 0.03116454929113388, 0.02609977498650551, 1.2009714841842651, 0.8949616551399231, 0.8074958324432373, 0.6549494862556458, 0.21322309970855713, 0.21319563686847687, 0.024901295080780983, 0.024901295080780983, 0.024901295080780983, 0.024901295080780983, 0.02489887923002243, 0.024896638467907906, 0.02489233948290348, 0.02489233948290348, 0.02489178627729416, 0.02489178627729416, 0.02489178627729416, 0.02489178627729416, 0.02489178627729416, 0.02489233948290348, 0.02489233948290348, 0.02489233948290348, 0.02489233948290348, 0.02488800324499607, 0.02488800324499607, 0.02488800324499607, 0.024886958301067352, 0.024886958301067352, 0.024886958301067352, 0.024886958301067352, 0.024886958301067352, 0.024886958301067352, 0.024886958301067352, 0.024886958301067352, 0.02488800324499607, 0.02488885447382927, 0.02488800324499607, 0.024886958301067352, 0.02488800324499607, 0.02489178627729416, 0.02488800324499607, 1.918951153755188, 0.6432883143424988, 0.42940327525138855, 0.16526149213314056, 0.16526149213314056, 0.16526149213314056, 0.16526149213314056, 0.16526149213314056, 0.01932120881974697, 0.01932120881974697, 0.01930510438978672, 0.01930510438978672, 0.019293708726763725, 0.019291512668132782, 0.019289320334792137, 0.019289320334792137, 0.019289320334792137, 0.019289320334792137, 0.01928713358938694, 0.01928713358938694, 0.01928713358938694, 0.01928713358938694, 0.01928713358938694, 0.01928713358938694, 0.01928713358938694, 0.01928713358938694, 0.01928713358938694, 0.01928713358938694, 0.01928713358938694, 0.01928713358938694, 0.01928713358938694, 0.01928713358938694, 0.01928713358938694, 0.01928713358938694, 0.01928713358938694, 0.01928713358938694, 0.01928713358938694, 0.01928713358938694, 0.01928713358938694, 0.01928713358938694, 0.01928713358938694, 0.01928713358938694, 0.01928713358938694, 0.01928713358938694, 0.01928713358938694, 0.01928713358938694, 0.01928713358938694, 0.01928713358938694, 0.01928713358938694, 0.01928713358938694, 0.01928713358938694, 0.01928713358938694, 0.01928713358938694, 0.01928713358938694, 0.01928713358938694, 0.01928713358938694, 0.01928713358938694, 0.01928713358938694, 0.01928713358938694, 0.01928713358938694, 0.01928713358938694, 0.01928713358938694, 0.01928713358938694, 0.01928713358938694, 0.01928713358938694, 0.01928713358938694, 0.01928713358938694, 0.01928713358938694, 0.01928713358938694, 0.01928713358938694], \"Term\": [\"think\", \"growth\", \"have\", \"quarter\", \"product\", \"would\", \"see\", \"say\", \"be\", \"well\", \"s\", \"good\", \"strong\", \"know\", \"new\", \"year\", \"phase\", \"market\", \"patient\", \"great\", \"approval\", \"look\", \"start\", \"program\", \"include\", \"trial\", \"rate\", \"first\", \"launch\", \"performance\", \"s\", \"know\", \"trial\", \"rate\", \"drive\", \"start\", \"clinical\", \"several\", \"add\", \"prior\", \"set\", \"trinity\", \"chemotherapy\", \"response\", \"confident\", \"human\", \"pipeline\", \"preclinical\", \"submit\", \"durable\", \"therapy\", \"drug\", \"line\", \"patient\", \"chronic\", \"graft\", \"supplemental\", \"systemic\", \"host\", \"application\", \"well\", \"disease\", \"market\", \"begin\", \"year\", \"third\", \"strong\", \"have\", \"would\", \"see\", \"look\", \"first\", \"transition\", \"indicate\", \"condition\", \"significant\", \"many\", \"readout\", \"currently\", \"gvhd\", \"understand\", \"forward\", \"submission\", \"summary\", \"specifically\", \"underway\", \"extensive\", \"clear\", \"evolution\", \"endometrial\", \"abnormal\", \"finding\", \"importantly\", \"uninterrupted\", \"pivotal\", \"chronic\", \"conversation\", \"expect\", \"datum\", \"year\", \"therapy\", \"later\", \"important\", \"pipeline\", \"psoriasis\", \"regulator\", \"phase\", \"program\", \"attention\", \"increase\", \"stage\", \"half\", \"month\", \"study\", \"late\", \"top\", \"option\", \"dose\", \"tumor\", \"solid\", \"later\", \"early\", \"efficacy\", \"oncology\", \"elagolix\", \"administration\", \"begin\", \"comprehensive\", \"select\", \"design\", \"highly\", \"concept\", \"thoroughly\", \"particular\", \"datum\", \"potential\", \"treatment\", \"continue\", \"expect\", \"year\", \"also\", \"say\", \"launch\", \"position\", \"next\", \"high\", \"end\", \"generation\", \"course\", \"access\", \"commercial\", \"decision\", \"regulatory\", \"third\", \"benefit\", \"complete\", \"major\", \"respond\", \"substantially\", \"recently\", \"review\", \"treatment\", \"support\", \"letter\", \"knowledge\", \"steroid\", \"reduce\", \"almost\", \"enable\", \"thereafter\", \"fully\", \"year\", \"therapy\", \"response\", \"growth\", \"quarter\", \"second\", \"driver\", \"risankizumab\", \"important\", \"mid\", \"front\", \"expect\", \"future\", \"outline\", \"additionally\", \"maru\", \"evaluate\", \"line\", \"year\", \"recently\", \"follow\", \"psoriasis\", \"also\", \"sale\", \"operational\", \"row\", \"adjust\", \"single\", \"get\", \"earning\", \"guidance\", \"internationally\", \"sustain\", \"start\", \"go\", \"pretty\", \"publish\", \"think\", \"obviously\", \"time\", \"receive\", \"strong\", \"achieve\", \"approximately\", \"result\", \"process\", \"closely\", \"situation\", \"speculate\", \"follow\", \"label\", \"support\", \"manner\", \"compare\", \"data\", \"early\", \"pretty\", \"want\", \"organization\", \"execution\", \"favorable\", \"way\", \"always\", \"focus\", \"synergistic\", \"idea\", \"uptick\", \"claim\", \"bad\", \"go\", \"flexibility\", \"strategic\", \"really\", \"level\", \"particularly\", \"excited\", \"acquisition\", \"change\", \"segment\", \"believe\", \"represent\", \"remain\", \"risk\", \"grow\", \"bit\", \"profile\", \"well\", \"market\", \"population\", \"abbvie\", \"confidence\", \"anti\", \"roughly\", \"optimize\", \"class\", \"treated\", \"enthusiasm\", \"past\", \"discovery\", \"bring\", \"stemcentrx\", \"attractive\", \"platform\", \"biologic\", \"inadequate\", \"responder\", \"development\", \"performance\", \"call\", \"large\", \"different\", \"number\", \"issue\", \"example\", \"ill\", \"care\", \"comment\", \"regard\", \"turn\", \"range\", \"lymphoma\", \"explore\", \"robust\", \"significantly\", \"advance\", \"advancement\", \"indolent\", \"diffuse\", \"standard\", \"also\", \"bill\", \"inform\", \"hodgkin\", \"promising\", \"mediate\", \"immunology\", \"immune\", \"population\", \"additional\", \"cell\", \"great\", \"make\", \"run\", \"progress\", \"approve\", \"ongoing\", \"multiple\", \"indication\", \"area\", \"similar\", \"respect\", \"relapse\", \"cll\", \"refractory\", \"completion\", \"marginal\", \"expand\", \"continue\", \"development\", \"front\", \"hematologic\", \"core\", \"malignancy\", \"use\", \"zone\", \"list\", \"fit\", \"comorbiditie\", \"young\", \"statement\", \"evaluate\", \"venclexta\", \"line\", \"early\", \"product\", \"new\", \"take\", \"question\", \"fast\", \"technology\", \"evidence\", \"build\", \"drug\", \"extend\", \"reach\", \"capability\", \"antibody\", \"conjugate\", \"grant\", \"strongly\", \"jurisdiction\", \"pipeline\", \"continue\", \"market\", \"forth\", \"uptick\", \"inventory\", \"execution\", \"experience\", \"fact\", \"comfortable\", \"mix\", \"system\", \"need\", \"trinity\", \"really\", \"go\", \"early\", \"update\", \"feel\", \"genotype\", \"report\", \"difficult\", \"last\", \"recent\", \"treat\", \"milestone\", \"discuss\", \"today\", \"cirrhosis\", \"provide\", \"highlight\", \"previously\", \"endurance\", \"expedition\", \"compensate\", \"common\", \"cure\", \"generate\", \"patient\", \"present\", \"globally\", \"challenge\", \"duration\", \"infection\", \"majority\", \"reinforce\", \"together\", \"week\", \"therapie\", \"short\", \"potential\", \"include\", \"datum\", \"result\", \"be\", \"back\", \"come\", \"establish\", \"combination\", \"effect\", \"broad\", \"perspective\", \"safety\", \"help\", \"venclexta\", \"attenuate\", \"density\", \"flash\", \"tolerate\", \"mineral\", \"side\", \"hormonal\", \"hot\", \"rituxan\", \"foundational\", \"onc\", \"also\", \"go\", \"let\", \"answer\", \"fruition\", \"manage\", \"idiot\", \"sustainable\", \"forth\", \"strong\", \"ill\", \"key\", \"medical\", \"include\", \"non\", \"anticipate\", \"could\", \"available\", \"form\", \"old\", \"disorder\", \"interim\", \"additional\", \"cell\", \"uterine\", \"comorbid\", \"detailed\", \"society\", \"timeframe\", \"become\", \"analyse\", \"endometriosis\", \"present\", \"study\", \"result\", \"month\", \"forecast\", \"calibrate\", \"closure\", \"heartmate\", \"voltage\", \"datum\", \"patient\", \"lot\", \"thing\", \"good\", \"demonstrate\", \"approach\", \"asset\", \"block\", \"crohns\", \"enter\", \"improve\", \"placebo\", \"fibroid\", \"clinic\", \"ddw\", \"disease\", \"uterine\", \"remission\", \"suggest\", \"therapeutic\", \"endoscopic\", \"cel\", \"induction\", \"moderate\", \"bispecific\", \"remainder\", \"novel\", \"severe\", \"show\", \"underway\", \"present\", \"number\", \"quick\", \"clinical\", \"world\", \"full\", \"move\", \"priority\", \"survival\", \"plan\", \"base\", \"assessment\", \"inflammatory\", \"bowel\", \"accelerate\", \"read\", \"free\", \"overall\", \"progression\", \"ra\", \"selective\", \"present\", \"disease\", \"exactly\", \"damage\", \"burst\", \"real\", \"forecast\", \"prepare\", \"facility\", \"able\", \"flow\", \"hiccup\", \"cash\", \"testing\", \"give\", \"thing\", \"share\", \"part\", \"may\", \"soon\", \"strategy\", \"meeting\", \"data\", \"portion\", \"relate\", \"positive\", \"week\", \"upcoming\", \"show\", \"oral\", \"open\", \"break\", \"presentation\", \"maintenance\", \"imbruvica\", \"regimen\", \"bleeding\", \"heavy\", \"investigate\", \"gbm\", \"ddw\", \"label\", \"experience\", \"recovery\", \"match\", \"gratify\", \"study\", \"start\", \"generation\", \"approval\", \"track\", \"remain\", \"claim\", \"stuck\", \"licensure\", \"projection\", \"gun\", \"project\", \"estimate\", \"expectation\", \"give\", \"defibrillator\", \"earlier\", \"implantable\", \"compatible\", \"rightly\", \"positively\", \"admit\", \"hit\", \"maybe\", \"pacemaker\", \"optimistically\", \"scepticism\", \"objective\", \"scrutiny\", \"consideration\", \"bode\", \"wait\", \"ought\", \"forth\", \"deliver\", \"organic\", \"like\", \"target\", \"get\", \"lot\", \"compare\", \"superior\", \"associate\", \"show\", \"blockade\", \"selective\", \"offering\", \"stunning\", \"value\", \"proposition\", \"strengthen\", \"existing\", \"advantage\", \"offer\", \"competitive\", \"adjust\", \"prescription\", \"leadership\", \"humira\", \"price\", \"low\", \"exceed\", \"global\", \"picture\", \"differentiate\", \"clearly\", \"unfavorable\", \"account\", \"experienced\", \"ahead\", \"optimism\", \"inspection\", \"work\", \"teen\", \"guidance\", \"earning\", \"sale\", \"response\", \"clinical\", \"datum\", \"addition\", \"type\", \"place\", \"promise\", \"express\", \"evaluate\", \"iis\", \"consumer\", \"true\", \"much\", \"quite\", \"currency\", \"deliberately\", \"quickly\", \"adverse\", \"hedge\", \"due\", \"however\", \"movement\", \"hand\", \"management\", \"team\", \"put\", \"differentiate\", \"picture\", \"clearly\", \"unfavorable\", \"account\", \"experienced\", \"reorganization\", \"ahead\", \"win\", \"doubt\", \"optimism\", \"teen\", \"portfolio\", \"extent\", \"inspection\", \"term\", \"impact\", \"long\", \"life\", \"threaten\", \"transplant\", \"complication\", \"marrow\", \"potentially\", \"occur\", \"severe\", \"real\", \"impact\", \"facility\", \"damage\", \"heart\", \"failure\", \"pump\", \"crucial\", \"advanced\", \"wait\", \"unfavorable\", \"account\", \"experienced\", \"win\", \"reorganization\", \"doubt\", \"ahead\", \"inspection\", \"optimism\", \"force\", \"territorial\", \"hopeful\", \"brush\", \"home\", \"disruption\", \"lose\", \"discussion\", \"fire\", \"amount\", \"strike\", \"housekeeping\", \"partner\", \"literally\", \"uptake\", \"introduction\", \"lesser\", \"totally\", \"tremendous\", \"certainly\", \"capacity\", \"genetic\", \"inhibition\", \"limit\", \"body\", \"skin\", \"unknown\", \"role\", \"embrace\", \"government\", \"narrow\", \"density\", \"flash\", \"hormonal\", \"hot\", \"mineral\", \"side\", \"tolerate\", \"raw\", \"back\", \"endometrial\", \"attenuate\", \"rapid\"], \"Total\": [122.0, 97.0, 96.0, 72.0, 52.0, 62.0, 60.0, 50.0, 33.0, 54.0, 55.0, 30.0, 44.0, 48.0, 27.0, 82.0, 38.0, 42.0, 37.0, 25.0, 16.0, 37.0, 43.0, 33.0, 22.0, 34.0, 34.0, 34.0, 28.0, 23.0, 55.21881103515625, 48.068748474121094, 34.94760513305664, 34.700477600097656, 24.7525577545166, 43.551876068115234, 9.560729026794434, 8.928296089172363, 8.675436973571777, 8.379864692687988, 7.463493347167969, 6.603147506713867, 5.211965560913086, 11.434067726135254, 3.953248977661133, 3.909503221511841, 11.990979194641113, 3.548745632171631, 3.3895010948181152, 2.717247724533081, 12.257307052612305, 9.997272491455078, 13.384847640991211, 37.58720016479492, 4.392058849334717, 1.8854161500930786, 1.8854161500930786, 1.8854161500930786, 1.8854161500930786, 1.8854161500930786, 54.71729278564453, 8.618896484375, 42.30044937133789, 14.540141105651855, 82.0285873413086, 22.174287796020508, 44.57834243774414, 96.25375366210938, 62.297847747802734, 60.193790435791016, 37.25513458251953, 34.07522964477539, 11.092860221862793, 10.116144180297852, 7.676570892333984, 6.55002498626709, 5.274576187133789, 4.279900074005127, 3.908576726913452, 3.8261215686798096, 3.648186206817627, 3.5869240760803223, 4.830774307250977, 3.215195655822754, 2.893533706665039, 3.0894927978515625, 1.9605265855789185, 1.9605265855789185, 1.9604889154434204, 1.9604662656784058, 1.9604662656784058, 1.9604662656784058, 1.9604662656784058, 1.9604662656784058, 1.9604123830795288, 4.392058849334717, 2.5918002128601074, 34.59334182739258, 36.72873306274414, 82.0285873413086, 12.257307052612305, 9.823684692382812, 8.250703811645508, 11.990979194641113, 2.6014857292175293, 2.5918002128601074, 38.78360366821289, 33.1936149597168, 10.129603385925293, 8.921682357788086, 8.157463073730469, 7.842319488525391, 12.941071510314941, 34.76628494262695, 6.626226902008057, 6.311066627502441, 5.978837966918945, 5.860734939575195, 5.095189094543457, 4.949155807495117, 9.823684692382812, 17.32097816467285, 4.329587936401367, 4.329525470733643, 4.32951021194458, 4.092419624328613, 14.540141105651855, 3.895756721496582, 3.564040184020996, 3.5639874935150146, 3.563969612121582, 3.418034553527832, 3.4177074432373047, 3.416895627975464, 36.72873306274414, 7.600316047668457, 12.432072639465332, 19.625534057617188, 34.59334182739258, 82.0285873413086, 15.519879341125488, 50.159698486328125, 28.76518440246582, 22.051698684692383, 21.64025115966797, 17.18447494506836, 11.023513793945312, 9.59780216217041, 7.520519256591797, 7.176152229309082, 7.176047325134277, 6.397176742553711, 5.905093193054199, 22.174287796020508, 4.935158729553223, 4.22890043258667, 3.672635555267334, 3.4355626106262207, 3.3795254230499268, 8.91265869140625, 2.7481298446655273, 12.432072639465332, 5.956637382507324, 1.8987220525741577, 1.8987220525741577, 1.8986293077468872, 1.8986293077468872, 1.8986293077468872, 1.8985151052474976, 1.8985151052474976, 1.8984371423721313, 82.0285873413086, 12.257307052612305, 11.434067726135254, 97.69640350341797, 72.04290008544922, 13.996528625488281, 5.169776916503906, 4.695651054382324, 8.250703811645508, 6.05588436126709, 5.715106964111328, 34.59334182739258, 1.9085956811904907, 1.9085956811904907, 1.9084588289260864, 1.908333420753479, 3.8307337760925293, 13.384847640991211, 82.0285873413086, 8.91265869140625, 3.963920831680298, 2.6014857292175293, 15.519879341125488, 1.2682429552078247, 1.2677226066589355, 1.2676970958709717, 1.2676854133605957, 1.2676550149917603, 1.2684094905853271, 1.2677663564682007, 1.2677550315856934, 1.267652153968811, 1.2676208019256592, 43.551876068115234, 1.2690885066986084, 1.268383502960205, 2.7983431816101074, 122.32715606689453, 17.788930892944336, 17.387182235717773, 15.404755592346191, 44.57834243774414, 9.607705116271973, 7.174721717834473, 19.638254165649414, 3.4923806190490723, 3.0551764965057373, 3.009197950363159, 2.4885921478271484, 3.963920831680298, 2.7386019229888916, 5.956637382507324, 1.788030982017517, 4.506093978881836, 7.156844139099121, 17.32097816467285, 1.268383502960205, 1.2680189609527588, 1.2678176164627075, 1.2678568363189697, 1.2676246166229248, 1.267940878868103, 1.267825722694397, 1.26801598072052, 1.2676035165786743, 1.2676936388015747, 1.2677228450775146, 1.2676987648010254, 1.267734408378601, 1.2690885066986084, 1.2678029537200928, 1.2678029537200928, 1.2681366205215454, 19.11798095703125, 15.270726203918457, 12.67563533782959, 11.097010612487793, 10.791069984436035, 10.495299339294434, 8.436387062072754, 7.952266693115234, 9.481554985046387, 5.028684616088867, 11.845979690551758, 4.642627716064453, 4.615896224975586, 54.71729278564453, 42.30044937133789, 6.502765655517578, 2.568618059158325, 2.5686142444610596, 2.5686099529266357, 2.568605422973633, 2.376894950866699, 3.3713371753692627, 1.8221484422683716, 1.8221334218978882, 1.8221334218978882, 1.8220661878585815, 1.8220661878585815, 1.8220661878585815, 1.8220661878585815, 1.8220661878585815, 2.587419033050537, 3.3530733585357666, 4.118528842926025, 2.9143128395080566, 23.65561294555664, 12.503551483154297, 12.329926490783691, 10.993124008178711, 21.254981994628906, 10.006027221679688, 9.93822193145752, 9.563628196716309, 8.814447402954102, 8.008711814880371, 5.656249046325684, 8.942358016967773, 4.942214012145996, 4.717851638793945, 3.179525375366211, 3.1794748306274414, 2.873439311981201, 2.873345375061035, 2.873098850250244, 2.608138084411621, 2.608138084411621, 2.60807466506958, 15.519879341125488, 1.8390103578567505, 1.8389619588851929, 1.8389619588851929, 1.8389354944229126, 1.8389354944229126, 1.8389354944229126, 1.8389354944229126, 6.502765655517578, 5.07578706741333, 4.397824764251709, 25.43338394165039, 14.124832153320312, 12.548822402954102, 11.504592895507812, 8.412013053894043, 7.56760311126709, 6.21219539642334, 5.428803443908691, 5.119350433349609, 5.071169853210449, 4.752194404602051, 4.186809062957764, 3.094494581222534, 3.0944931507110596, 2.8013525009155273, 2.5483412742614746, 2.3596808910369873, 19.625534057617188, 2.9143128395080566, 5.715106964111328, 1.8135586977005005, 1.8135586977005005, 1.8135586977005005, 1.8135432004928589, 1.8135432004928589, 1.8135432004928589, 1.8134706020355225, 1.8134706020355225, 1.8134706020355225, 1.8134485483169556, 3.8307337760925293, 4.688713550567627, 13.384847640991211, 17.32097816467285, 52.92021560668945, 27.879674911499023, 15.002784729003906, 7.718103408813477, 4.895544052124023, 4.01143217086792, 3.601268768310547, 2.9445319175720215, 9.997272491455078, 1.755697250366211, 1.755697250366211, 1.755697250366211, 1.7555040121078491, 1.7555040121078491, 1.7555040121078491, 1.7554842233657837, 1.7551733255386353, 11.990979194641113, 19.625534057617188, 42.30044937133789, 1.268244743347168, 1.2677228450775146, 1.2676490545272827, 1.2678568363189697, 1.2678314447402954, 1.2677701711654663, 1.2676256895065308, 1.2675776481628418, 1.2678474187850952, 1.2677994966506958, 6.603147506713867, 1.2681366205215454, 1.2690885066986084, 17.32097816467285, 14.077191352844238, 12.261889457702637, 8.101080894470215, 6.58651065826416, 6.226481914520264, 5.963418960571289, 4.486576557159424, 4.421397686004639, 3.694887161254883, 3.5981521606445312, 3.4511895179748535, 3.370068073272705, 8.030817985534668, 2.7439935207366943, 2.743938684463501, 2.318779468536377, 2.318765163421631, 2.318765163421631, 2.318746566772461, 2.3187031745910645, 2.3186240196228027, 37.58720016479492, 4.655501365661621, 1.7930407524108887, 1.7930407524108887, 1.7930372953414917, 1.7930372953414917, 1.7930372953414917, 1.7930372953414917, 1.7930372953414917, 8.545247077941895, 1.7930372953414917, 1.7930372953414917, 7.600316047668457, 22.36226463317871, 36.72873306274414, 19.638254165649414, 33.81541061401367, 15.062464714050293, 13.767110824584961, 5.412209987640381, 4.471207141876221, 4.293466567993164, 4.0134596824646, 3.042151927947998, 2.8946592807769775, 2.467391014099121, 4.688713550567627, 1.6945829391479492, 1.6945829391479492, 1.6945829391479492, 1.6945829391479492, 1.6945829391479492, 1.6945829391479492, 1.6945829391479492, 1.6945829391479492, 1.694474220275879, 1.694474220275879, 1.6935205459594727, 15.519879341125488, 1.2690885066986084, 1.2678806781768799, 1.2677202224731445, 1.2676265239715576, 1.2676362991333008, 1.2676664590835571, 1.2677007913589478, 1.268244743347168, 44.57834243774414, 9.563628196716309, 6.5856099128723145, 6.321133136749268, 22.36226463317871, 5.080892562866211, 4.798928260803223, 4.041171550750732, 4.040985107421875, 3.7529916763305664, 3.4559926986694336, 2.6539297103881836, 2.425053596496582, 5.07578706741333, 4.397824764251709, 3.1212713718414307, 1.761025309562683, 1.7610167264938354, 1.7610167264938354, 1.7610119581222534, 1.7610119581222534, 1.7609999179840088, 2.3069162368774414, 4.655501365661621, 34.76628494262695, 19.638254165649414, 12.941071510314941, 1.267837643623352, 1.267580509185791, 1.2675687074661255, 1.2675687074661255, 1.2675687074661255, 36.72873306274414, 37.58720016479492, 1.2681200504302979, 1.268129587173462, 30.211042404174805, 4.85297155380249, 4.465645790100098, 4.016872406005859, 2.7554590702056885, 2.567504405975342, 2.484722137451172, 2.4846010208129883, 2.134108066558838, 2.134091854095459, 2.133965015411377, 2.7131686210632324, 8.618896484375, 3.1212713718414307, 1.7007173299789429, 1.7007173299789429, 1.7007173299789429, 1.7007173299789429, 1.7007170915603638, 1.7007170915603638, 1.7007170915603638, 1.7007079124450684, 1.7007079124450684, 1.7007079124450684, 1.8466914892196655, 3.869044780731201, 3.0894927978515625, 4.655501365661621, 21.254981994628906, 1.2676299810409546, 9.560729026794434, 12.87822151184082, 11.225541114807129, 9.7523832321167, 3.5823171138763428, 3.3259313106536865, 3.2135603427886963, 3.1744258403778076, 3.1433231830596924, 2.29675555229187, 2.29675555229187, 2.2967545986175537, 2.2966747283935547, 1.7062991857528687, 1.7062991857528687, 1.7062991857528687, 1.7062766551971436, 1.9037781953811646, 4.655501365661621, 8.618896484375, 1.2676297426223755, 1.267774224281311, 1.2676944732666016, 1.2678486108779907, 1.267837643623352, 1.2676138877868652, 1.2676336765289307, 1.2676938772201538, 1.2677600383758545, 1.2675426006317139, 1.2677860260009766, 1.2676477432250977, 1.2678890228271484, 1.268129587173462, 6.136567115783691, 6.043580055236816, 5.775390625, 5.120791912078857, 4.941909313201904, 3.764512300491333, 7.156844139099121, 3.1733434200286865, 3.053231716156006, 2.743488073348999, 8.545247077941895, 2.1270933151245117, 3.869044780731201, 1.69728422164917, 1.69728422164917, 1.69728422164917, 1.69728422164917, 1.69728422164917, 1.6972285509109497, 1.6972285509109497, 1.697171688079834, 1.697171688079834, 1.697171688079834, 1.6970138549804688, 2.7131686210632324, 2.7386019229888916, 1.2678314447402954, 1.2675514221191406, 1.2675514221191406, 1.2675514221191406, 34.76628494262695, 43.551876068115234, 9.59780216217041, 16.195281982421875, 3.460789203643799, 9.481554985046387, 1.2676987648010254, 1.2675672769546509, 1.2675672769546509, 1.2675672769546509, 1.2675912380218506, 1.267629623413086, 1.2677890062332153, 1.2676703929901123, 1.2678890228271484, 1.267553687095642, 1.267553687095642, 1.267553687095642, 1.267553687095642, 1.2675601243972778, 1.2675601243972778, 1.2675601243972778, 1.267821192741394, 1.2675658464431763, 1.2675846815109253, 1.2675580978393555, 1.2676013708114624, 1.2675631046295166, 1.2675631046295166, 1.2675631046295166, 1.267606258392334, 1.2675871849060059, 1.267617106437683, 1.268244743347168, 1.2676838636398315, 1.2676548957824707, 1.2676604986190796, 1.2676793336868286, 1.2684094905853271, 1.2681200504302979, 4.506093978881836, 1.6625491380691528, 1.6625491380691528, 3.869044780731201, 1.465022087097168, 1.9037781953811646, 1.2675377130508423, 1.2675377130508423, 1.267578363418579, 1.267578363418579, 1.2675436735153198, 1.2675436735153198, 1.2675436735153198, 1.267574667930603, 1.2676564455032349, 1.2676854133605957, 1.2675390243530273, 1.2676230669021606, 1.267551064491272, 1.2675596475601196, 1.2675808668136597, 1.2676136493682861, 1.267691731452942, 1.267541766166687, 1.267541766166687, 1.267557144165039, 1.2675210237503052, 1.2675212621688843, 1.2675212621688843, 1.2675215005874634, 1.2675215005874634, 1.2675215005874634, 1.2676613330841064, 1.2675938606262207, 1.2677550315856934, 1.2677663564682007, 1.2682429552078247, 11.434067726135254, 9.560729026794434, 36.72873306274414, 2.4436049461364746, 2.1375951766967773, 2.0501294136047363, 1.8975830078125, 1.4558566808700562, 3.8307337760925293, 1.2675448656082153, 1.2675682306289673, 1.2676109075546265, 1.2677319049835205, 1.267649531364441, 1.2675904035568237, 1.267545223236084, 1.267545223236084, 1.2675366401672363, 1.2675366401672363, 1.2675366401672363, 1.2675366401672363, 1.2675870656967163, 1.2676259279251099, 1.2676385641098022, 1.2676465511322021, 1.2677613496780396, 1.267541766166687, 1.267541766166687, 1.267557144165039, 1.2675210237503052, 1.2675212621688843, 1.2675212621688843, 1.2675215005874634, 1.2675215005874634, 1.2675215005874634, 1.2675215005874634, 1.2675215005874634, 1.2675938606262207, 1.2676572799682617, 1.2676059007644653, 1.2675215005874634, 1.2676451206207275, 1.268193006515503, 1.2676646709442139, 3.167184591293335, 1.891521692276001, 1.677636742591858, 1.4134949445724487, 1.4134949445724487, 1.4134949445724487, 1.4134949445724487, 1.8466914892196655, 1.2678486108779907, 1.268193006515503, 1.2676336765289307, 1.267774224281311, 1.2676855325698853, 1.2676092386245728, 1.2675518989562988, 1.2675518989562988, 1.2675693035125732, 1.2675871849060059, 1.2675210237503052, 1.2675212621688843, 1.2675212621688843, 1.2675215005874634, 1.2675215005874634, 1.2675215005874634, 1.2675215005874634, 1.2675215005874634, 1.2675215005874634, 1.2675219774246216, 1.2675219774246216, 1.2675219774246216, 1.2675219774246216, 1.2675219774246216, 1.2675219774246216, 1.2675219774246216, 1.2675224542617798, 1.2675234079360962, 1.267522931098938, 1.2675261497497559, 1.2675261497497559, 1.267533540725708, 1.2675354480743408, 1.2675437927246094, 1.2675437927246094, 1.2675336599349976, 1.267535924911499, 1.2675330638885498, 1.2675390243530273, 1.2675436735153198, 1.2675416469573975, 1.2675416469573975, 1.2675436735153198, 1.2675340175628662, 1.2675379514694214, 1.2675472497940063, 1.2675367593765259, 1.2675340175628662, 1.2675578594207764, 1.2675509452819824, 1.6945829391479492, 1.6945829391479492, 1.6945829391479492, 1.6945829391479492, 1.6945829391479492, 1.6945829391479492, 1.6945829391479492, 1.267716646194458, 15.062464714050293, 1.9604662656784058, 1.6945829391479492, 2.0325450897216797], \"loglift\": [30.0, 29.0, 28.0, 27.0, 26.0, 25.0, 24.0, 23.0, 22.0, 21.0, 20.0, 19.0, 18.0, 17.0, 16.0, 15.0, 14.0, 13.0, 12.0, 11.0, 10.0, 9.0, 8.0, 7.0, 6.0, 5.0, 4.0, 3.0, 2.0, 1.0, 2.1677000522613525, 2.164400100708008, 2.154900074005127, 2.154599905014038, 2.1403000354766846, 2.0680999755859375, 2.0508999824523926, 2.0469000339508057, 2.0423998832702637, 2.036799907684326, 2.0162999629974365, 1.9499000310897827, 1.9312000274658203, 1.8912999629974365, 1.8327000141143799, 1.8279000520706177, 1.8013999462127686, 1.7826999425888062, 1.7588000297546387, 1.6159000396728516, 1.5937000513076782, 1.5228999853134155, 1.4416999816894531, 1.4160000085830688, 1.3014999628067017, 1.1979000568389893, 1.1979000568389893, 1.1979000568389893, 1.1979000568389893, 1.1979000568389893, 0.9873999953269958, 1.0875999927520752, 0.7067999839782715, 0.6881999969482422, 0.2362000048160553, 0.3246999979019165, -0.5764999985694885, 2.188699960708618, 2.1819000244140625, 2.181299924850464, 2.1686999797821045, 2.1658999919891357, 2.088900089263916, 2.077399969100952, 2.0346999168395996, 2.0030999183654785, 1.948799967765808, 1.8797999620437622, 1.8430999517440796, 1.833799958229065, 1.811900019645691, 1.8037999868392944, 1.7659000158309937, 1.7457000017166138, 1.6794999837875366, 1.4686000347137451, 1.2851999998092651, 1.2851999998092651, 1.2851999998092651, 1.2851999998092651, 1.2851999998092651, 1.2851999998092651, 1.2851999998092651, 1.2851999998092651, 1.285099983215332, 1.1202000379562378, 1.007099986076355, 0.9695000052452087, 0.4221999943256378, 0.16459999978542328, 0.3158000111579895, 0.20170000195503235, 0.15629999339580536, -0.14880000054836273, 1.0059000253677368, 1.007099986076355, 2.2702999114990234, 2.2651000022888184, 2.178499937057495, 2.1607000827789307, 2.1465001106262207, 2.1398000717163086, 2.1389000415802, 2.1145999431610107, 2.1071999073028564, 2.0964999198913574, 2.0838000774383545, 2.078900098800659, 2.0408999919891357, 2.032099962234497, 2.0199999809265137, 1.9917000532150269, 1.986899971961975, 1.986899971961975, 1.986899971961975, 1.9652999639511108, 1.9478000402450562, 1.9450000524520874, 1.9043999910354614, 1.9043999910354614, 1.9043999910354614, 1.8833999633789062, 1.8833999633789062, 1.8832999467849731, 1.8767999410629272, 1.8063000440597534, 1.5042999982833862, 1.2710000276565552, 0.9896000027656555, -0.7153000235557556, 0.6287000179290771, 2.4695000648498535, 2.4512999057769775, 2.438199996948242, 2.4370999336242676, 2.4219000339508057, 2.379699945449829, 2.354300022125244, 2.322000026702881, 2.312999963760376, 2.312999963760376, 2.2887001037597656, 2.2695000171661377, 2.264400005340576, 2.2190001010894775, 2.164799928665161, 2.104099988937378, 2.07069993019104, 2.062000036239624, 1.965000033378601, 1.9297000169754028, 1.7210999727249146, 1.6685999631881714, 1.5161999464035034, 1.5161999464035034, 1.5161000490188599, 1.5161000490188599, 1.5161000490188599, 1.5160000324249268, 1.5160000324249268, 1.5159000158309937, 1.4769999980926514, 0.954200029373169, 0.6640999913215637, 2.5071001052856445, 2.502700090408325, 2.430999994277954, 2.259500026702881, 2.229099988937378, 2.21589994430542, 1.8726999759674072, 1.673200011253357, 1.6277999877929688, 1.5525000095367432, 1.5525000095367432, 1.55239999294281, 1.552299976348877, 1.489300012588501, 1.3969000577926636, 1.3365999460220337, 1.271299958229065, 1.24399995803833, 1.238800048828125, 0.9779000282287598, -0.18310000002384186, -0.18449999392032623, -0.18490000069141388, -0.1850000023841858, -0.1850000023841858, -0.1850000023841858, -0.1850000023841858, -0.1850000023841858, -0.1851000040769577, -0.18520000576972961, -0.2085999995470047, -0.1859000027179718, -0.18549999594688416, -0.974399983882904, 2.5620999336242676, 2.50219988822937, 2.500499963760376, 2.490999937057495, 2.479300022125244, 2.438699960708618, 2.38919997215271, 2.3884999752044678, 2.1514999866485596, 2.0738000869750977, 2.0638999938964844, 1.9148000478744507, 1.7502000331878662, 1.6691999435424805, 1.5894999504089355, 1.4621000289916992, 1.4503999948501587, 0.942799985408783, 0.5274999737739563, -0.33899998664855957, -0.3400000035762787, -0.34040001034736633, -0.34049999713897705, -0.34049999713897705, -0.34049999713897705, -0.34060001373291016, -0.34060001373291016, -0.34060001373291016, -0.34060001373291016, -0.34060001373291016, -0.34060001373291016, -0.3407000005245209, -0.34119999408721924, -0.3407000005245209, -0.3407000005245209, -0.3409999907016754, 2.693700075149536, 2.6767001152038574, 2.6591999530792236, 2.6442999839782715, 2.640899896621704, 2.637399911880493, 2.6054999828338623, 2.5954999923706055, 2.5183000564575195, 2.486999988555908, 2.4804999828338623, 2.4607999324798584, 2.4588000774383545, 2.3710999488830566, 2.3111000061035156, 2.16510009765625, 2.1328001022338867, 2.1328001022338867, 2.1328001022338867, 2.1328001022338867, 2.0601999759674072, 1.7865999937057495, 1.6928000450134277, 1.6928000450134277, 1.6928000450134277, 1.6927000284194946, 1.6927000284194946, 1.6927000284194946, 1.6927000284194946, 1.6927000284194946, 1.3422000408172607, 1.082900047302246, 0.8773000240325928, 1.223099946975708, 2.8231000900268555, 2.774600028991699, 2.773099899291992, 2.759999990463257, 2.748699903488159, 2.7479000091552734, 2.746999979019165, 2.7416000366210938, 2.7295000553131104, 2.713599920272827, 2.6380999088287354, 2.6152000427246094, 2.59879994392395, 2.5834999084472656, 2.404900074005127, 2.404900074005127, 2.338900089263916, 2.338900089263916, 2.3387999534606934, 2.2641000747680664, 2.2641000747680664, 2.2639999389648438, 2.113300085067749, 1.8301000595092773, 1.8301000595092773, 1.8301000595092773, 1.8301000595092773, 1.8301000595092773, 1.8301000595092773, 1.8301000595092773, 1.5850000381469727, 1.5966999530792236, 1.5618000030517578, 2.9902000427246094, 2.949899911880493, 2.938199996948242, 2.9286000728607178, 2.884999990463257, 2.8664000034332275, 2.8245999813079834, 2.789599895477295, 2.77239990234375, 2.7695000171661377, 2.7486000061035156, 2.7021000385284424, 2.550100088119507, 2.550100088119507, 2.4820001125335693, 2.4052000045776367, 2.331899881362915, 2.2528998851776123, 2.1208999156951904, 2.0617001056671143, 1.9621000289916992, 1.9621000289916992, 1.9621000289916992, 1.9621000289916992, 1.9621000289916992, 1.9621000289916992, 1.9620000123977661, 1.9620000123977661, 1.9620000123977661, 1.9620000123977661, 1.8473000526428223, 1.8105000257492065, 0.9521999955177307, 0.4779999852180481, 3.0690999031066895, 3.0480000972747803, 3.008500099182129, 2.9226999282836914, 2.8101000785827637, 2.735599994659424, 2.6856000423431396, 2.5669000148773193, 2.109499931335449, 1.9363000392913818, 1.9363000392913818, 1.9363000392913818, 1.9361000061035156, 1.9361000061035156, 1.9361000061035156, 1.9361000061035156, 1.9357000589370728, 1.1283999681472778, 1.0859999656677246, 0.8727999925613403, 0.1151999980211258, 0.1151999980211258, 0.11509999632835388, 0.11509999632835388, 0.11500000208616257, 0.11490000039339066, 0.11490000039339066, 0.11490000039339066, 0.11479999870061874, 0.11479999870061874, -0.05090000107884407, 0.11460000276565552, 0.11410000175237656, -2.498699903488159, 3.0422000885009766, 3.0283000469207764, 2.971100091934204, 2.9303998947143555, 2.9173998832702637, 2.906899929046631, 2.820499897003174, 2.8150999546051025, 2.7392001152038574, 2.7262001037597656, 2.704699993133545, 2.6919000148773193, 2.6863999366760254, 2.5573999881744385, 2.557300090789795, 2.404099941253662, 2.404099941253662, 2.404099941253662, 2.404099941253662, 2.4040000438690186, 2.4040000438690186, 2.3789000511169434, 2.091599941253662, 2.0280001163482666, 2.0280001163482666, 2.0280001163482666, 2.0280001163482666, 2.0280001163482666, 2.0280001163482666, 2.0280001163482666, 2.014899969100952, 2.0280001163482666, 2.0280001163482666, 1.7280999422073364, 1.2903000116348267, 0.9161999821662903, 0.09189999848604202, 3.3533999919891357, 3.3060998916625977, 3.2079999446868896, 3.1366000175476074, 3.0739998817443848, 3.058500051498413, 3.0306999683380127, 2.882200002670288, 2.847899913787842, 2.714900016784668, 2.6224000453948975, 2.135699987411499, 2.135699987411499, 2.135699987411499, 2.135699987411499, 2.135699987411499, 2.135699987411499, 2.135699987411499, 2.135699987411499, 2.1356000900268555, 2.1356000900268555, 2.134200096130371, 0.7293000221252441, 0.2816999852657318, 0.2800999879837036, 0.2800000011920929, 0.27950000762939453, 0.2791000008583069, 0.27900001406669617, 0.27900001406669617, 0.27889999747276306, -2.9546000957489014, -1.7345999479293823, 3.240299940109253, 3.2309000492095947, 3.2070000171661377, 3.1719000339508057, 3.1535000801086426, 3.08870005607605, 3.08870005607605, 3.0557000637054443, 3.0143001079559326, 2.8385000228881836, 2.7571001052856445, 2.7476000785827637, 2.697000026702881, 2.3547000885009766, 2.2939000129699707, 2.293800115585327, 2.293800115585327, 2.293800115585327, 2.293800115585327, 2.293800115585327, 2.0237998962402344, 1.4242000579833984, 1.1380000114440918, 0.7167999744415283, 0.6992999911308289, 0.47519999742507935, 0.47510001063346863, 0.4749999940395355, 0.4749999940395355, 0.4749999940395355, 0.27160000801086426, 0.2045000046491623, 0.4747999906539917, 0.4747999906539917, 3.523400068283081, 3.277400016784668, 3.2481000423431396, 3.205699920654297, 2.98580002784729, 2.926800012588501, 2.8966000080108643, 2.8966000080108643, 2.7269999980926514, 2.7269999980926514, 2.726900100708008, 2.6103999614715576, 2.531899929046631, 2.3468000888824463, 2.3208000659942627, 2.3208000659942627, 2.3208000659942627, 2.3208000659942627, 2.3208000659942627, 2.3208000659942627, 2.3208000659942627, 2.32069993019104, 2.32069993019104, 2.32069993019104, 2.2383999824523926, 1.8431999683380127, 1.7138999700546265, 1.3137999773025513, 0.8310999870300293, 0.46860000491142273, -0.9689000248908997, 3.5418999195098877, 3.5264999866485596, 3.5081000328063965, 3.228600025177002, 3.188499927520752, 3.168299913406372, 3.160799980163574, 3.1547000408172607, 2.892699956893921, 2.892699956893921, 2.892699956893921, 2.8926000595092773, 2.406599998474121, 2.406599998474121, 2.406599998474121, 2.4065001010894775, 2.296999931335449, 1.9769999980926514, 1.9657000303268433, 0.5569000244140625, 0.5568000078201294, 0.5565999746322632, 0.5565000176429749, 0.5564000010490417, 0.5564000010490417, 0.5562999844551086, 0.5562999844551086, 0.5562000274658203, 0.5562000274658203, 0.5562000274658203, 0.5562000274658203, 0.5561000108718872, 0.5559999942779541, 3.434999942779541, 3.431299924850464, 3.419600009918213, 3.3850998878479004, 3.373800039291382, 3.2667999267578125, 3.2153000831604004, 3.174299955368042, 3.1496999263763428, 3.072700023651123, 3.0367000102996826, 2.812700033187866, 2.559999942779541, 2.405400037765503, 2.405400037765503, 2.405400037765503, 2.405400037765503, 2.405400037765503, 2.4052999019622803, 2.4052999019622803, 2.4052000045776367, 2.4052000045776367, 2.4052000045776367, 2.4049999713897705, 1.9918999671936035, 1.9264999628067017, 0.5504000186920166, 0.5497999787330627, 0.5497999787330627, 0.5497999787330627, 0.43630000948905945, -0.04050000011920929, -0.7372999787330627, 4.204800128936768, 3.8445000648498535, 1.8895000219345093, 0.7573999762535095, 0.7573999762535095, 0.7573999762535095, 0.7573999762535095, 0.7573999762535095, 0.7573000192642212, 0.7572000026702881, 0.757099986076355, 0.7570000290870667, 0.7570000290870667, 0.7570000290870667, 0.7570000290870667, 0.7570000290870667, 0.7570000290870667, 0.7570000290870667, 0.7570000290870667, 0.7570000290870667, 0.7570000290870667, 0.7570000290870667, 0.7569000124931335, 0.7569000124931335, 0.7569000124931335, 0.7569000124931335, 0.7569000124931335, 0.7569000124931335, 0.7569000124931335, 0.7569000124931335, 0.7569000124931335, 0.7569000124931335, 0.7569000124931335, 0.7569000124931335, 0.7569000124931335, 0.7563999891281128, 0.7565000057220459, 3.9911000728607178, 3.499799966812134, 3.499799966812134, 3.2388999462127686, 2.9932000637054443, 2.7311999797821045, 0.9901999831199646, 0.9901999831199646, 0.9901000261306763, 0.9901000261306763, 0.9901000261306763, 0.9901000261306763, 0.9901000261306763, 0.9901000261306763, 0.9901000261306763, 0.9901000261306763, 0.9900000095367432, 0.9900000095367432, 0.9900000095367432, 0.9900000095367432, 0.9900000095367432, 0.9900000095367432, 0.9900000095367432, 0.9900000095367432, 0.9900000095367432, 0.9900000095367432, 0.9900000095367432, 0.9900000095367432, 0.9900000095367432, 0.9900000095367432, 0.9900000095367432, 0.9900000095367432, 0.9898999929428101, 0.9898999929428101, 0.9898999929428101, 0.9898999929428101, 0.9896000027656555, -0.9199000000953674, -0.8532000184059143, -2.3763999938964844, 4.202499866485596, 4.042200088500977, 3.981100082397461, 3.849100112915039, 2.99180006980896, 2.0243000984191895, 0.9829000234603882, 0.9829000234603882, 0.9829000234603882, 0.9828000068664551, 0.9828000068664551, 0.982699990272522, 0.9825999736785889, 0.9825999736785889, 0.9825999736785889, 0.9825999736785889, 0.9825999736785889, 0.9825999736785889, 0.9825000166893005, 0.9825000166893005, 0.9825000166893005, 0.9825000166893005, 0.9824000000953674, 0.9824000000953674, 0.9824000000953674, 0.9824000000953674, 0.9824000000953674, 0.9824000000953674, 0.9824000000953674, 0.9824000000953674, 0.9824000000953674, 0.9824000000953674, 0.9824000000953674, 0.9824000000953674, 0.9824000000953674, 0.9824000000953674, 0.9824000000953674, 0.9824000000953674, 0.9822999835014343, 0.9819999933242798, 0.9822999835014343, 4.639400005340576, 4.0619001388549805, 3.7776999473571777, 2.9941999912261963, 2.9941999912261963, 2.9941999912261963, 2.9941999912261963, 2.726799964904785, 0.95660001039505, 0.9563000202178955, 0.9559000134468079, 0.9557999968528748, 0.955299973487854, 0.9552000164985657, 0.9552000164985657, 0.9552000164985657, 0.9550999999046326, 0.9550999999046326, 0.9550999999046326, 0.9550999999046326, 0.9550999999046326, 0.9550999999046326, 0.9550999999046326, 0.9550999999046326, 0.9550999999046326, 0.9550999999046326, 0.9550999999046326, 0.9550999999046326, 0.9550999999046326, 0.9550999999046326, 0.9550999999046326, 0.9550999999046326, 0.9550999999046326, 0.9550999999046326, 0.9550999999046326, 0.9550999999046326, 0.9550999999046326, 0.9550999999046326, 0.9550999999046326, 0.9550999999046326, 0.9550999999046326, 0.9549999833106995, 0.9549999833106995, 0.9550999999046326, 0.9550999999046326, 0.9550999999046326, 0.9550999999046326, 0.9549999833106995, 0.9549999833106995, 0.9549999833106995, 0.9549999833106995, 0.9550999999046326, 0.9550999999046326, 0.9549999833106995, 0.9550999999046326, 0.9550999999046326, 0.9549999833106995, 0.9549999833106995, 0.6646999716758728, 0.6646999716758728, 0.6646999716758728, 0.6646999716758728, 0.6646999716758728, 0.6646999716758728, 0.6646999716758728, 0.9549000263214111, -1.5200999975204468, 0.5188999772071838, 0.6646999716758728, 0.4828000068664551], \"logprob\": [30.0, 29.0, 28.0, 27.0, 26.0, 25.0, 24.0, 23.0, 22.0, 21.0, 20.0, 19.0, 18.0, 17.0, 16.0, 15.0, 14.0, 13.0, 12.0, 11.0, 10.0, 9.0, 8.0, 7.0, 6.0, 5.0, 4.0, 3.0, 2.0, 1.0, -2.2060999870300293, -2.3480000495910645, -2.676300048828125, -2.6837000846862793, -3.035799980163574, -2.5429000854492188, -4.076499938964844, -4.148900032043457, -4.18209981918335, -4.222400188446045, -4.358699798583984, -4.547599792480469, -4.8028998374938965, -4.05709981918335, -5.177700042724609, -5.193699836730957, -4.0995001792907715, -5.3358001708984375, -5.4054999351501465, -5.769499778747559, -4.285299777984619, -4.559800148010254, -4.3491997718811035, -3.342400074005127, -5.603700160980225, -6.5528998374938965, -6.5528998374938965, -6.5528998374938965, -6.5528998374938965, -6.5528998374938965, -3.3954999446868896, -5.143499851226807, -3.9333999156951904, -5.019899845123291, -3.74180006980896, -4.961400032043457, -5.164299964904785, -1.6292999982833862, -2.071199893951416, -2.1061999797821045, -2.5985000133514404, -2.6905999183654785, -3.8898000717163086, -3.993499994277954, -4.312099933624268, -4.502399921417236, -4.773399829864502, -5.051300048828125, -5.178699970245361, -5.209400177001953, -5.278900146484375, -5.303999900817871, -5.0441999435424805, -5.471399784088135, -5.643099784851074, -5.78849983215332, -6.426599979400635, -6.426599979400635, -6.426599979400635, -6.426700115203857, -6.426700115203857, -6.426700115203857, -6.426700115203857, -6.426700115203857, -6.426700115203857, -5.784999847412109, -6.425600051879883, -3.8719000816345215, -4.359300136566162, -3.8134000301361084, -5.5630998611450195, -5.898499965667725, -6.1184000968933105, -6.049699783325195, -6.423099994659424, -6.425600051879883, -2.456700086593628, -2.6175999641418457, -3.8910999298095703, -4.035799980163574, -4.139599800109863, -4.185699939727783, -3.685699939727783, -2.7218000888824463, -4.3867998123168945, -4.446199893951416, -4.513000011444092, -4.537899971008301, -4.71589994430542, -4.753699779510498, -4.0802001953125, -3.5413999557495117, -4.932600021362305, -4.932600021362305, -4.932600021362305, -5.0106000900268555, -3.7604000568389893, -5.080100059509277, -5.209700107574463, -5.209700107574463, -5.209700107574463, -5.272500038146973, -5.27269983291626, -5.2729997634887695, -2.9047000408172607, -4.550600051879883, -4.360400199890137, -4.137199878692627, -3.8517000675201416, -4.693299770355225, -5.014200210571289, -2.0004000663757324, -2.5745999813079834, -2.8534998893737793, -2.8733999729156494, -3.1191000938415527, -3.605299949645996, -3.769200086593628, -4.045400142669678, -4.10129976272583, -4.10129976272583, -4.240499973297119, -4.339700222015381, -3.021699905395508, -4.569699764251709, -4.778299808502197, -4.980000019073486, -5.080100059509277, -5.105299949645996, -4.232600212097168, -5.444399833679199, -4.143700122833252, -4.9319000244140625, -6.227700233459473, -6.227700233459473, -6.227799892425537, -6.227799892425537, -6.227799892425537, -6.228000164031982, -6.228000164031982, -6.228099822998047, -2.5009000301361084, -4.924699783325195, -5.284299850463867, -1.2960000038146973, -1.6051000356674194, -3.315200090408325, -4.482699871063232, -4.609300136566162, -4.058800220489502, -4.711299896240234, -4.968699932098389, -3.213599920272827, -6.186200141906738, -6.186200141906738, -6.186399936676025, -6.186500072479248, -5.552700042724609, -4.394000053405762, -2.6412999629974365, -4.926300048828125, -5.763800144195557, -6.190100193023682, -4.664999961853027, -8.330499649047852, -8.332300186157227, -8.3326997756958, -8.332799911499023, -8.332900047302246, -8.332300186157227, -8.332799911499023, -8.332799911499023, -8.333000183105469, -8.333100318908691, -4.819699764251709, -8.332599639892578, -8.332799911499023, -8.330400466918945, -1.0161999464035034, -3.004199981689453, -3.0288000106811523, -3.15939998626709, -2.1084001064300537, -3.683799982070923, -4.025300025939941, -3.0190000534057617, -4.982900142669678, -5.194399833679199, -5.2195000648498535, -5.558499813079834, -5.257599830627441, -5.708399772644043, -5.011000156402588, -6.341899871826172, -5.429200172424316, -5.4741997718811035, -5.00570011138916, -8.486200332641602, -8.487600326538086, -8.488100051879883, -8.488200187683105, -8.48840045928955, -8.488200187683105, -8.488300323486328, -8.488200187683105, -8.488499641418457, -8.488499641418457, -8.48840045928955, -8.488499641418457, -8.488499641418457, -8.48799991607666, -8.48840045928955, -8.48840045928955, -8.48840045928955, -2.7407000064849854, -2.982300043106079, -3.1861000061035156, -3.3340001106262207, -3.3654000759124756, -3.396699905395508, -3.646899938583374, -3.716099977493286, -3.6173999309539795, -4.282800197601318, -3.4326000213623047, -4.388899803161621, -4.396699905395508, -2.011699914932251, -2.3290998935699463, -4.347700119018555, -5.308800220489502, -5.308800220489502, -5.308800220489502, -5.308800220489502, -5.459099769592285, -5.3831000328063965, -6.092199802398682, -6.092199802398682, -6.092199802398682, -6.092299938201904, -6.092299938201904, -6.092299938201904, -6.092299938201904, -6.092299938201904, -6.092199802398682, -6.092199802398682, -6.092299938201904, -6.092299938201904, -2.398400068283081, -3.084399938583374, -3.099900007247925, -3.227799892425537, -2.579699993133545, -3.333899974822998, -3.3417000770568848, -3.385499954223633, -3.4791998863220215, -3.59089994430542, -4.014200210571289, -3.5789999961853027, -4.188499927520752, -4.250199794769287, -4.823400020599365, -4.823400020599365, -4.990600109100342, -4.990699768066406, -4.990799903869629, -5.162300109863281, -5.162300109863281, -5.162399768829346, -3.5297000408172607, -5.945700168609619, -5.945700168609619, -5.945700168609619, -5.945799827575684, -5.945799827575684, -5.945799827575684, -5.945799827575684, -4.927800178527832, -5.16379976272583, -5.342199802398682, -2.158799886703491, -2.7871999740600586, -2.9172000885009766, -3.013700008392334, -3.370300054550171, -3.494800090789795, -3.7339000701904297, -3.903700113296509, -3.979599952697754, -3.992000102996826, -4.0777997970581055, -4.250999927520752, -4.7052998542785645, -4.7052998542785645, -4.873000144958496, -5.044400215148926, -5.1946001052856445, -3.1552999019622803, -5.194499969482422, -4.5802001953125, -5.827700138092041, -5.827700138092041, -5.827700138092041, -5.827700138092041, -5.827700138092041, -5.827700138092041, -5.8277997970581055, -5.8277997970581055, -5.8277997970581055, -5.8277997970581055, -5.1946001052856445, -5.029399871826172, -4.838699817657471, -5.055099964141846, -1.347100019454956, -2.0090999603271484, -2.6682000160217285, -3.418800115585327, -3.986599922180176, -4.260300159454346, -4.4182000160217285, -4.738100051879883, -3.9732000827789307, -5.885799884796143, -5.885799884796143, -5.885799884796143, -5.886199951171875, -5.886199951171875, -5.886199951171875, -5.886199951171875, -5.8867998123168945, -4.772500038146973, -4.322199821472168, -3.7674999237060547, -8.032099723815918, -8.032600402832031, -8.03279972076416, -8.032600402832031, -8.032699584960938, -8.03279972076416, -8.032999992370605, -8.033100128173828, -8.032899856567383, -8.032899856567383, -6.548399925231934, -8.03279972076416, -8.032699584960938, -8.031800270080566, -2.6982998847961426, -2.8501999378204346, -3.321899890899658, -3.5696001052856445, -3.6387999057769775, -3.692500114440918, -4.063399791717529, -4.083499908447266, -4.338900089263916, -4.378399848937988, -4.4415998458862305, -4.4781999588012695, -3.615299940109253, -4.818299770355225, -4.818299770355225, -5.139900207519531, -5.139900207519531, -5.139900207519531, -5.139999866485596, -5.139999866485596, -5.140100002288818, -2.3794000148773193, -4.755300045013428, -5.773099899291992, -5.773099899291992, -5.773099899291992, -5.773099899291992, -5.773099899291992, -5.773099899291992, -5.773099899291992, -4.224800109863281, -5.773099899291992, -5.773099899291992, -4.628799915313721, -3.987299919128418, -3.8652000427246094, -5.315700054168701, -1.510699987411499, -2.36680006980896, -2.5546998977661133, -3.559799909591675, -3.8134000301361084, -3.8694000244140625, -3.9646999835968018, -4.390200138092041, -4.4741997718811035, -4.767000198364258, -4.21750020980835, -5.721799850463867, -5.721799850463867, -5.721799850463867, -5.721799850463867, -5.721799850463867, -5.721799850463867, -5.721799850463867, -5.721799850463867, -5.722099781036377, -5.722099781036377, -5.723999977111816, -4.913599967956543, -7.864999771118164, -7.867499828338623, -7.867800235748291, -7.8684000968933105, -7.868800163269043, -7.868800163269043, -7.868800163269043, -7.868500232696533, -7.542399883270264, -7.861599922180176, -3.2599000930786133, -3.3101999759674072, -2.07069993019104, -3.5876998901367188, -3.6631999015808105, -3.8998000621795654, -3.8998000621795654, -4.006800174713135, -4.1305999755859375, -4.570499897003174, -4.742099761962891, -4.013000011444092, -4.206999778747559, -4.892099857330322, -5.525300025939941, -5.525300025939941, -5.525300025939941, -5.525300025939941, -5.525300025939941, -5.525300025939941, -5.525300025939941, -5.422699928283691, -3.6982998847961426, -4.690700054168701, -5.12529993057251, -7.672500133514404, -7.672900199890137, -7.672900199890137, -7.672900199890137, -7.672900199890137, -4.509900093078613, -4.553800106048584, -7.672699928283691, -7.672699928283691, -1.4535000324249268, -3.52810001373291, -3.640500068664551, -3.788800001144409, -4.3856000900268555, -4.5152997970581055, -4.5782999992370605, -4.578400135040283, -4.900000095367432, -4.900000095367432, -4.900199890136719, -4.776500225067139, -3.699199914932251, -4.900000095367432, -5.533199787139893, -5.533199787139893, -5.533199787139893, -5.533199787139893, -5.533199787139893, -5.533199787139893, -5.533199787139893, -5.533199787139893, -5.533199787139893, -5.533199787139893, -5.533199787139893, -5.188899993896484, -5.543099880218506, -5.533199787139893, -4.497300148010254, -7.679299831390381, -7.09630012512207, -2.287600040435791, -2.4402999877929688, -2.599400043487549, -3.8803999423980713, -3.994800090789795, -4.049300193786621, -4.0690999031066895, -4.085000038146973, -4.660900115966797, -4.660900115966797, -4.660900115966797, -4.660900115966797, -5.4440999031066895, -5.4440999031066895, -5.4440999031066895, -5.444200038909912, -5.444200038909912, -4.869999885559082, -4.265399932861328, -7.591000080108643, -7.591000080108643, -7.59119987487793, -7.59119987487793, -7.591300010681152, -7.5914998054504395, -7.5914998054504395, -7.5914998054504395, -7.5914998054504395, -7.591700077056885, -7.5914998054504395, -7.591700077056885, -7.5914998054504395, -7.5914998054504395, -3.135699987411499, -3.1547999382019043, -3.211899995803833, -3.3666999340057373, -3.4135000705718994, -3.79259991645813, -3.20169997215271, -4.0559000968933105, -4.119100093841553, -4.303100109100342, -3.203000068664551, -4.817599773406982, -4.4720001220703125, -5.4506001472473145, -5.4506001472473145, -5.4506001472473145, -5.4506001472473145, -5.4506001472473145, -5.450699806213379, -5.450699806213379, -5.450900077819824, -5.450900077819824, -5.450900077819824, -5.451200008392334, -5.394999980926514, -5.451099872589111, -7.597400188446045, -7.598100185394287, -7.598100185394287, -7.598100185394287, -4.400000095367432, -4.651599884033203, -6.860799789428711, -1.3954999446868896, -3.2990000247955322, -4.246200084686279, -7.390399932861328, -7.390500068664551, -7.390500068664551, -7.390500068664551, -7.390500068664551, -7.390600204467773, -7.390500068664551, -7.3907999992370605, -7.390600204467773, -7.390999794006348, -7.390999794006348, -7.390999794006348, -7.390999794006348, -7.390999794006348, -7.390999794006348, -7.390999794006348, -7.3907999992370605, -7.390999794006348, -7.390999794006348, -7.390999794006348, -7.390999794006348, -7.390999794006348, -7.390999794006348, -7.390999794006348, -7.390999794006348, -7.390999794006348, -7.390999794006348, -7.390500068664551, -7.390900135040283, -7.390999794006348, -7.390999794006348, -7.390999794006348, -7.390900135040283, -7.390999794006348, -2.8884999752044678, -4.3769001960754395, -4.3769001960754395, -3.793100118637085, -5.010000228881836, -5.010000228881836, -7.157800197601318, -7.157800197601318, -7.157800197601318, -7.157800197601318, -7.157800197601318, -7.157800197601318, -7.157800197601318, -7.157800197601318, -7.157800197601318, -7.157800197601318, -7.157899856567383, -7.157800197601318, -7.157899856567383, -7.157899856567383, -7.157899856567383, -7.157899856567383, -7.157800197601318, -7.1579999923706055, -7.1579999923706055, -7.1579999923706055, -7.1579999923706055, -7.1579999923706055, -7.1579999923706055, -7.1579999923706055, -7.1579999923706055, -7.1579999923706055, -7.157899856567383, -7.1579999923706055, -7.157899856567383, -7.157899856567383, -7.157800197601318, -6.868299961090088, -6.980500221252441, -7.157899856567383, -3.2890000343322754, -3.583199977874756, -3.686000108718872, -3.895400047302246, -5.017600059509277, -5.0177001953125, -7.164999961853027, -7.164999961853027, -7.164999961853027, -7.164999961853027, -7.16510009765625, -7.165200233459473, -7.16540002822876, -7.16540002822876, -7.16540002822876, -7.16540002822876, -7.16540002822876, -7.16540002822876, -7.16540002822876, -7.16540002822876, -7.16540002822876, -7.16540002822876, -7.16540002822876, -7.165500164031982, -7.165500164031982, -7.165500164031982, -7.165599822998047, -7.165599822998047, -7.165599822998047, -7.165599822998047, -7.165599822998047, -7.165599822998047, -7.165599822998047, -7.165599822998047, -7.165500164031982, -7.165500164031982, -7.165500164031982, -7.165599822998047, -7.165500164031982, -7.16540002822876, -7.165500164031982, -2.5927999019622803, -3.685699939727783, -4.089900016784668, -5.0447998046875, -5.0447998046875, -5.0447998046875, -5.0447998046875, -5.0447998046875, -7.191100120544434, -7.191100120544434, -7.191999912261963, -7.191999912261963, -7.192599773406982, -7.192699909210205, -7.192800045013428, -7.192800045013428, -7.192800045013428, -7.192800045013428, -7.19290018081665, -7.19290018081665, -7.19290018081665, -7.19290018081665, -7.19290018081665, -7.19290018081665, -7.19290018081665, -7.19290018081665, -7.19290018081665, -7.19290018081665, -7.19290018081665, -7.19290018081665, -7.19290018081665, -7.19290018081665, -7.19290018081665, -7.19290018081665, -7.19290018081665, -7.19290018081665, -7.19290018081665, -7.19290018081665, -7.19290018081665, -7.19290018081665, -7.19290018081665, -7.19290018081665, -7.19290018081665, -7.19290018081665, -7.19290018081665, -7.19290018081665, -7.19290018081665, -7.19290018081665, -7.19290018081665, -7.19290018081665, -7.19290018081665, -7.19290018081665, -7.19290018081665, -7.19290018081665, -7.19290018081665, -7.19290018081665, -7.19290018081665, -7.19290018081665, -7.19290018081665, -7.19290018081665, -7.19290018081665, -7.19290018081665, -7.19290018081665, -7.19290018081665, -7.19290018081665, -7.19290018081665, -7.19290018081665, -7.19290018081665, -7.19290018081665, -7.19290018081665]}, \"token.table\": {\"Topic\": [7, 2, 15, 4, 6, 7, 1, 19, 8, 13, 5, 3, 8, 8, 4, 3, 5, 8, 12, 13, 7, 10, 13, 1, 14, 17, 9, 6, 9, 15, 14, 3, 7, 13, 12, 15, 12, 13, 1, 3, 7, 4, 8, 3, 7, 7, 14, 15, 7, 12, 10, 8, 10, 8, 8, 13, 11, 7, 1, 1, 2, 11, 3, 7, 2, 14, 1, 9, 6, 12, 3, 12, 8, 4, 11, 13, 9, 6, 18, 11, 4, 9, 3, 3, 2, 7, 1, 10, 3, 9, 10, 2, 4, 9, 13, 4, 14, 11, 2, 6, 16, 2, 3, 11, 13, 14, 16, 4, 14, 3, 13, 7, 9, 8, 11, 8, 7, 11, 1, 14, 15, 13, 3, 1, 5, 1, 10, 1, 11, 3, 6, 9, 12, 3, 3, 4, 4, 2, 9, 13, 11, 14, 7, 12, 5, 9, 10, 2, 8, 7, 9, 2, 3, 5, 11, 8, 10, 2, 10, 11, 14, 2, 2, 9, 5, 6, 13, 2, 5, 9, 15, 4, 5, 11, 4, 11, 11, 14, 1, 10, 9, 1, 7, 5, 2, 3, 2, 12, 9, 4, 11, 3, 8, 1, 1, 8, 8, 8, 2, 5, 2, 14, 3, 7, 11, 13, 3, 2, 9, 8, 11, 15, 8, 13, 8, 10, 13, 1, 4, 6, 8, 11, 3, 2, 3, 4, 4, 7, 20, 1, 5, 9, 9, 2, 8, 4, 11, 9, 9, 6, 2, 9, 1, 7, 10, 5, 16, 8, 13, 16, 3, 5, 11, 3, 13, 15, 9, 10, 4, 13, 8, 14, 6, 13, 3, 9, 7, 3, 5, 16, 3, 7, 7, 1, 11, 13, 8, 12, 3, 1, 2, 10, 2, 19, 14, 15, 7, 7, 8, 16, 4, 16, 3, 11, 1, 11, 13, 15, 11, 1, 15, 6, 10, 7, 3, 9, 19, 8, 3, 11, 2, 5, 3, 5, 10, 8, 3, 1, 10, 15, 2, 6, 11, 4, 5, 4, 9, 8, 2, 4, 4, 11, 9, 16, 7, 17, 11, 7, 9, 4, 3, 7, 1, 4, 6, 11, 13, 4, 5, 7, 8, 7, 9, 1, 12, 4, 5, 2, 7, 3, 1, 1, 16, 11, 14, 16, 18, 2, 8, 9, 6, 13, 3, 16, 2, 6, 3, 8, 1, 5, 16, 9, 7, 4, 16, 1, 6, 10, 3, 13, 16, 2, 9, 1, 4, 2, 1, 4, 6, 15, 1, 10, 10, 11, 1, 2, 4, 4, 6, 1, 4, 3, 20, 6, 13, 11, 11, 3, 17, 2, 11, 7, 3, 4, 1, 1, 3, 3, 8, 19, 2, 2, 2, 16, 11, 9, 13, 14, 9, 12, 11, 16, 1, 7, 15, 2, 1, 2, 3, 4, 5, 9, 9], \"Freq\": [0.3893144130706787, 0.5100827217102051, 0.4353969693183899, 0.8361026644706726, 0.8326650261878967, 0.9011436104774475, 0.8068757653236389, 0.4092314541339874, 0.19701378047466278, 0.5910413265228271, 0.5239830017089844, 0.7330626845359802, 0.6960527896881104, 0.6961125135421753, 0.526695728302002, 0.19330047070980072, 0.19330047070980072, 0.45103442668914795, 0.0644334927201271, 0.5678591728210449, 0.3893156349658966, 0.5696370005607605, 0.833519458770752, 0.5303868651390076, 0.6717953085899353, 0.9261956810951233, 0.832143247127533, 0.8362693786621094, 0.7813491225242615, 0.6362692713737488, 0.7468497157096863, 0.8884849548339844, 0.5488274693489075, 0.7423932552337646, 0.929462730884552, 0.6300352215766907, 0.9758864045143127, 0.5678552985191345, 0.20632536709308624, 0.6877512335777283, 0.8297390937805176, 0.8105109333992004, 0.5437707304954529, 0.3864855170249939, 0.3864855170249939, 0.6461857557296753, 0.7258318662643433, 0.43539679050445557, 0.5488274693489075, 0.7474847435951233, 0.6792250871658325, 0.8797500729560852, 0.5695742964744568, 0.9076008796691895, 0.22738513350486755, 0.4547702670097351, 0.5577117800712585, 0.9266921877861023, 0.7674647569656372, 0.4553672969341278, 0.2276836484670639, 0.5934598445892334, 0.2966182231903076, 0.2966182231903076, 0.5100670456886292, 0.4686112403869629, 0.8367562890052795, 0.6463090777397156, 0.6546266674995422, 0.6709597706794739, 0.07263687998056412, 0.7990056872367859, 0.8740481734275818, 0.8361148834228516, 0.43126747012138367, 0.5678510069847107, 0.5514288544654846, 0.22192169725894928, 0.44384339451789856, 0.4312640130519867, 0.7094042897224426, 0.7139408588409424, 0.7700686454772949, 0.5851315855979919, 0.9118654727935791, 0.3893149793148041, 0.758869469165802, 0.5696370005607605, 0.35667818784713745, 0.4585862457752228, 0.152862086892128, 0.3858322203159332, 0.3858322203159332, 0.5514020323753357, 0.7423589825630188, 0.7978172302246094, 0.3894832730293274, 0.43127554655075073, 0.767542839050293, 0.13972638547420502, 0.6986319422721863, 0.1633598357439041, 0.6534393429756165, 0.10890655964612961, 0.054453279823064804, 0.36857274174690247, 0.36857274174690247, 0.7815948128700256, 0.8242372870445251, 0.5611692070960999, 0.5678537487983704, 0.3431340754032135, 0.3431340754032135, 0.9096595048904419, 0.8030216693878174, 0.3834152817726135, 0.5488274693489075, 0.5558408498764038, 0.3480724096298218, 0.3480724096298218, 0.23204827308654785, 0.37679973244667053, 0.853135347366333, 0.9695967435836792, 0.7737277746200562, 0.5001364350318909, 0.4001091420650482, 0.736038863658905, 0.5577129125595093, 0.7505349516868591, 0.11546692252159119, 0.05773346126079559, 0.6987360715866089, 0.6929065585136414, 0.6929190158843994, 0.5267274379730225, 0.9071517586708069, 0.5100827217102051, 0.43347910046577454, 0.43347910046577454, 0.4312613606452942, 0.4024595022201538, 0.5488072037696838, 0.7390696406364441, 0.2610465884208679, 0.2610465884208679, 0.5553598403930664, 0.5100768208503723, 0.9055945873260498, 0.867806613445282, 0.42378610372543335, 0.2890729606151581, 0.26016566157341003, 0.40470215678215027, 0.4312640130519867, 0.6290246844291687, 0.5695742964744568, 0.5100670456886292, 0.8170695304870605, 0.8970885276794434, 0.4685834050178528, 0.5100827217102051, 0.9684454202651978, 0.5514288544654846, 0.2522754669189453, 0.5045509338378906, 0.799362301826477, 0.557580828666687, 0.3499497175216675, 0.3499497175216675, 0.890825629234314, 0.5267490744590759, 0.5239454507827759, 0.43129026889801025, 0.8335241675376892, 0.8640822172164917, 0.5577117800712585, 0.9599139094352722, 0.5303868651390076, 0.5696370005607605, 0.9436416625976562, 0.1688336580991745, 0.7597514390945435, 0.9928717613220215, 0.7840838432312012, 0.8925930857658386, 0.9869744777679443, 0.40528640151023865, 0.5514020323753357, 0.9310729503631592, 0.7288646697998047, 0.5611720085144043, 0.543785035610199, 0.5303868651390076, 0.7673609256744385, 0.8365026116371155, 0.5437928438186646, 0.5437928438186646, 0.1212017834186554, 0.7272107005119324, 0.5100827217102051, 0.4024791121482849, 0.5964677333831787, 0.29823386669158936, 0.17887276411056519, 0.804927408695221, 0.8966918587684631, 0.8896670341491699, 0.7368106245994568, 0.3834152817726135, 0.5577129125595093, 0.43539679050445557, 0.543785035610199, 0.4123620092868805, 0.8994578719139099, 0.5697442889213562, 0.7592311501502991, 0.9777662754058838, 0.5266700387001038, 0.3651498258113861, 0.8921383023262024, 0.8384451866149902, 0.7545772194862366, 0.10179480165243149, 0.7125635743141174, 0.9733989238739014, 0.5266700387001038, 0.9415220022201538, 0.6314756870269775, 0.4482680857181549, 0.2988453805446625, 0.14942269027233124, 0.551406741142273, 0.9663097262382507, 0.8478435277938843, 0.5445680618286133, 0.5577129125595093, 0.9203649163246155, 0.5514020323753357, 0.559274435043335, 0.7583547830581665, 0.39241212606430054, 0.23640410602092743, 0.6382911205291748, 0.11820205301046371, 0.5240174531936646, 0.8657423257827759, 0.5437928438186646, 0.7909974455833435, 0.7969159483909607, 0.3302572965621948, 0.49538594484329224, 0.5412884950637817, 0.8500068783760071, 0.07727335393428802, 0.9228513240814209, 0.8048684597015381, 0.9684474468231201, 0.9242036938667297, 0.7872632741928101, 0.8939080834388733, 0.04704779386520386, 0.9556504487991333, 0.5787049531936646, 0.6929165720939636, 0.7928534150123596, 0.42071694135665894, 0.8362829089164734, 0.5239454507827759, 0.8273242115974426, 0.585326611995697, 0.916786789894104, 0.5488072037696838, 0.4522816240787506, 0.4788864254951477, 0.026604801416397095, 0.9300118088722229, 0.6574293375015259, 0.979795515537262, 0.6671682000160217, 0.08339602500200272, 0.16679205000400543, 0.5100967288017273, 0.4877740740776062, 0.46857982873916626, 0.6223626732826233, 0.5488274693489075, 0.61512291431427, 0.307561457157135, 0.630250096321106, 0.9523075819015503, 0.7289989590644836, 0.6578673720359802, 0.26314693689346313, 0.5635794401168823, 0.4295992851257324, 0.2147996425628662, 0.2147996425628662, 0.7288792729377747, 0.8353356719017029, 0.558297872543335, 0.5726752877235413, 0.9826112389564514, 0.6499279737472534, 0.9640408158302307, 0.8692180514335632, 0.5269861817359924, 0.5437928438186646, 0.2490406334400177, 0.6226015686988831, 0.3843957185745239, 0.3843957185745239, 0.7147086262702942, 0.9855238795280457, 0.9069585800170898, 0.8093538880348206, 0.4919939935207367, 0.9798135757446289, 0.5695742964744568, 0.43541210889816284, 0.7009509205818176, 0.9088102579116821, 0.6686612963676453, 0.5609998106956482, 0.3365998864173889, 0.526695728302002, 0.6463093757629395, 0.7071824669837952, 0.3858322203159332, 0.3858322203159332, 0.8467267155647278, 0.5577129125595093, 0.7165361642837524, 0.6550436615943909, 0.7382755279541016, 0.10546793043613434, 0.7591273188591003, 0.8802521824836731, 0.8417164087295532, 0.5821462869644165, 0.48561030626296997, 0.24280515313148499, 0.699663519859314, 0.1749158799648285, 0.8147363662719727, 0.05092102289199829, 0.05092102289199829, 0.7277676463127136, 0.8518520593643188, 0.7954366207122803, 0.629034698009491, 0.3893163204193115, 0.87657630443573, 0.9779276251792908, 0.6909276247024536, 0.976879894733429, 0.9288017153739929, 0.98016756772995, 0.8575267791748047, 0.5611609220504761, 0.8039131164550781, 0.8960276246070862, 0.8147878050804138, 0.5577129125595093, 0.25846171379089355, 0.25846171379089355, 0.25846171379089355, 0.7633558511734009, 0.6960300207138062, 0.7887726426124573, 0.6646289229393005, 0.5678537487983704, 0.8082186579704285, 0.7811291813850403, 0.6911963820457458, 0.4018336236476898, 0.8581099510192871, 0.3834246098995209, 0.8954837918281555, 0.06888336688280106, 0.022961122915148735, 0.5514355301856995, 0.5488274693489075, 0.526695728302002, 0.8094037771224976, 0.06729725003242493, 0.9197291135787964, 0.5696433782577515, 0.8341414928436279, 0.08629049360752106, 0.02876349911093712, 0.6210184693336487, 0.20700615644454956, 0.5900573134422302, 0.5917990803718567, 0.6220461130142212, 0.5303868651390076, 0.5036398768424988, 0.3357599079608917, 0.601335346698761, 0.5303868651390076, 0.9331600666046143, 0.7478625774383545, 0.5577129125595093, 0.5710878968238831, 0.16316798329353333, 0.2447519600391388, 0.5267274379730225, 0.9891507625579834, 0.13529182970523834, 0.8117510080337524, 0.5851876139640808, 0.5286749005317688, 0.9202181100845337, 0.5678552985191345, 0.5795103311538696, 0.5577129125595093, 0.7922590970993042, 0.5779028534889221, 0.9014807343482971, 0.6785184741020203, 0.5488027334213257, 0.4826226532459259, 0.4826226532459259, 0.9728849530220032, 0.7572146654129028, 0.7850542664527893, 0.11182732880115509, 0.7827913165092468, 0.46781542897224426, 0.5482176542282104, 0.3236777186393738, 0.5100827217102051, 0.47012510895729065, 0.9234796762466431, 0.551406741142273, 0.3203822672367096, 0.3203822672367096, 0.21327811479568481, 0.42655622959136963, 0.3510723412036896, 0.5851206183433533, 0.292412132024765, 0.6762030720710754, 0.9318056702613831, 0.9791670441627502, 0.14629046618938446, 0.1340995877981186, 0.04876348748803139, 0.36572614312171936, 0.3047718107700348, 0.5514288544654846, 0.551406741142273], \"Term\": [\"abbvie\", \"abnormal\", \"accelerate\", \"access\", \"achieve\", \"acquisition\", \"add\", \"addition\", \"additional\", \"additional\", \"additionally\", \"administration\", \"advance\", \"advancement\", \"almost\", \"also\", \"also\", \"also\", \"also\", \"analyse\", \"anti\", \"antibody\", \"anticipate\", \"application\", \"approach\", \"approval\", \"approve\", \"approximately\", \"area\", \"assessment\", \"asset\", \"attention\", \"attractive\", \"available\", \"back\", \"base\", \"be\", \"become\", \"begin\", \"begin\", \"believe\", \"benefit\", \"bill\", \"biologic\", \"biologic\", \"bit\", \"block\", \"bowel\", \"bring\", \"broad\", \"build\", \"call\", \"capability\", \"care\", \"cell\", \"cell\", \"challenge\", \"change\", \"chemotherapy\", \"chronic\", \"chronic\", \"cirrhosis\", \"class\", \"class\", \"clear\", \"clinic\", \"clinical\", \"cll\", \"closely\", \"combination\", \"come\", \"come\", \"comment\", \"commercial\", \"common\", \"comorbid\", \"comorbiditie\", \"compare\", \"compare\", \"compensate\", \"complete\", \"completion\", \"comprehensive\", \"concept\", \"condition\", \"confidence\", \"confident\", \"conjugate\", \"continue\", \"continue\", \"continue\", \"conversation\", \"conversation\", \"core\", \"could\", \"course\", \"crohns\", \"cure\", \"currently\", \"data\", \"data\", \"datum\", \"datum\", \"datum\", \"datum\", \"ddw\", \"ddw\", \"decision\", \"demonstrate\", \"design\", \"detailed\", \"development\", \"development\", \"different\", \"difficult\", \"diffuse\", \"discovery\", \"discuss\", \"disease\", \"disease\", \"disease\", \"disorder\", \"dose\", \"drive\", \"driver\", \"drug\", \"drug\", \"durable\", \"duration\", \"early\", \"early\", \"early\", \"effect\", \"efficacy\", \"elagolix\", \"enable\", \"end\", \"endometrial\", \"endometriosis\", \"endometriosis\", \"endurance\", \"enter\", \"enthusiasm\", \"establish\", \"evaluate\", \"evaluate\", \"evidence\", \"evolution\", \"example\", \"excited\", \"expand\", \"expect\", \"expect\", \"expect\", \"expedition\", \"explore\", \"extend\", \"extensive\", \"fast\", \"feel\", \"fibroid\", \"finding\", \"first\", \"fit\", \"follow\", \"follow\", \"form\", \"forward\", \"front\", \"front\", \"full\", \"fully\", \"future\", \"generate\", \"generation\", \"genotype\", \"globally\", \"good\", \"graft\", \"grant\", \"great\", \"grow\", \"grow\", \"growth\", \"gvhd\", \"half\", \"have\", \"help\", \"hematologic\", \"high\", \"highlight\", \"highly\", \"hodgkin\", \"host\", \"human\", \"ill\", \"immune\", \"immunology\", \"important\", \"important\", \"importantly\", \"improve\", \"inadequate\", \"inadequate\", \"include\", \"include\", \"increase\", \"indicate\", \"indication\", \"indolent\", \"infection\", \"inflammatory\", \"inform\", \"interim\", \"issue\", \"jurisdiction\", \"key\", \"know\", \"knowledge\", \"label\", \"large\", \"last\", \"late\", \"later\", \"later\", \"launch\", \"letter\", \"level\", \"life\", \"line\", \"line\", \"line\", \"list\", \"look\", \"lymphoma\", \"major\", \"majority\", \"make\", \"malignancy\", \"manner\", \"many\", \"marginal\", \"market\", \"market\", \"market\", \"maru\", \"may\", \"mediate\", \"medical\", \"meeting\", \"mid\", \"mid\", \"milestone\", \"month\", \"month\", \"move\", \"multiple\", \"new\", \"next\", \"non\", \"number\", \"number\", \"obviously\", \"old\", \"oncology\", \"ongoing\", \"optimize\", \"option\", \"outline\", \"part\", \"particular\", \"particularly\", \"past\", \"patient\", \"patient\", \"patient\", \"performance\", \"perspective\", \"phase\", \"pipeline\", \"pipeline\", \"pipeline\", \"pivotal\", \"place\", \"placebo\", \"plan\", \"platform\", \"population\", \"population\", \"portion\", \"position\", \"positive\", \"potential\", \"potential\", \"preclinical\", \"present\", \"present\", \"present\", \"previously\", \"prior\", \"priority\", \"process\", \"product\", \"profile\", \"program\", \"progress\", \"promise\", \"promising\", \"provide\", \"provide\", \"psoriasis\", \"psoriasis\", \"publish\", \"quarter\", \"question\", \"range\", \"rapid\", \"rate\", \"reach\", \"read\", \"readout\", \"receive\", \"recent\", \"recently\", \"recently\", \"reduce\", \"refractory\", \"regard\", \"regulator\", \"regulator\", \"regulatory\", \"reinforce\", \"relapse\", \"relate\", \"remain\", \"remain\", \"report\", \"represent\", \"respect\", \"respond\", \"responder\", \"responder\", \"response\", \"response\", \"result\", \"result\", \"result\", \"review\", \"risankizumab\", \"risk\", \"robust\", \"roughly\", \"run\", \"s\", \"safety\", \"say\", \"second\", \"see\", \"segment\", \"select\", \"set\", \"several\", \"share\", \"short\", \"show\", \"show\", \"show\", \"significant\", \"significantly\", \"similar\", \"situation\", \"society\", \"solid\", \"soon\", \"specifically\", \"speculate\", \"stage\", \"standard\", \"start\", \"start\", \"start\", \"statement\", \"stemcentrx\", \"steroid\", \"strategy\", \"strong\", \"strong\", \"strongly\", \"study\", \"study\", \"study\", \"submission\", \"submission\", \"submit\", \"substantially\", \"summary\", \"supplemental\", \"support\", \"support\", \"survival\", \"systemic\", \"take\", \"technology\", \"therapie\", \"therapy\", \"therapy\", \"therapy\", \"thereafter\", \"think\", \"third\", \"third\", \"thoroughly\", \"threaten\", \"time\", \"timeframe\", \"today\", \"together\", \"top\", \"track\", \"transition\", \"treat\", \"treated\", \"treatment\", \"treatment\", \"trial\", \"trinity\", \"tumor\", \"turn\", \"turn\", \"type\", \"understand\", \"underway\", \"uninterrupted\", \"upcoming\", \"update\", \"use\", \"uterine\", \"uterine\", \"venclexta\", \"venclexta\", \"week\", \"week\", \"well\", \"well\", \"world\", \"would\", \"year\", \"year\", \"year\", \"year\", \"year\", \"young\", \"zone\"]}, \"R\": 30, \"lambda.step\": 0.01, \"plot.opts\": {\"xlab\": \"PC1\", \"ylab\": \"PC2\"}, \"topic.order\": [12, 18, 1, 7, 20, 4, 17, 13, 5, 9, 10, 19, 11, 8, 16, 2, 3, 14, 6, 15]};\n",
       "\n",
       "function LDAvis_load_lib(url, callback){\n",
       "  var s = document.createElement('script');\n",
       "  s.src = url;\n",
       "  s.async = true;\n",
       "  s.onreadystatechange = s.onload = callback;\n",
       "  s.onerror = function(){console.warn(\"failed to load library \" + url);};\n",
       "  document.getElementsByTagName(\"head\")[0].appendChild(s);\n",
       "}\n",
       "\n",
       "if(typeof(LDAvis) !== \"undefined\"){\n",
       "   // already loaded: just create the visualization\n",
       "   !function(LDAvis){\n",
       "       new LDAvis(\"#\" + \"ldavis_el2214655693298729821881027\", ldavis_el2214655693298729821881027_data);\n",
       "   }(LDAvis);\n",
       "}else if(typeof define === \"function\" && define.amd){\n",
       "   // require.js is available: use it to load d3/LDAvis\n",
       "   require.config({paths: {d3: \"https://cdnjs.cloudflare.com/ajax/libs/d3/3.5.5/d3.min\"}});\n",
       "   require([\"d3\"], function(d3){\n",
       "      window.d3 = d3;\n",
       "      LDAvis_load_lib(\"https://cdn.rawgit.com/bmabey/pyLDAvis/files/ldavis.v1.0.0.js\", function(){\n",
       "        new LDAvis(\"#\" + \"ldavis_el2214655693298729821881027\", ldavis_el2214655693298729821881027_data);\n",
       "      });\n",
       "    });\n",
       "}else{\n",
       "    // require.js not available: dynamically load d3 & LDAvis\n",
       "    LDAvis_load_lib(\"https://cdnjs.cloudflare.com/ajax/libs/d3/3.5.5/d3.min.js\", function(){\n",
       "         LDAvis_load_lib(\"https://cdn.rawgit.com/bmabey/pyLDAvis/files/ldavis.v1.0.0.js\", function(){\n",
       "                 new LDAvis(\"#\" + \"ldavis_el2214655693298729821881027\", ldavis_el2214655693298729821881027_data);\n",
       "            })\n",
       "         });\n",
       "}\n",
       "</script>"
      ],
      "text/plain": [
       "PreparedData(topic_coordinates=              x         y  topics  cluster       Freq\n",
       "topic                                                \n",
       "11    -0.224199  0.222939       1        1  11.198683\n",
       "17    -0.176063 -0.192424       2        1  11.069177\n",
       "0     -0.008893 -0.101771       3        1  10.017565\n",
       "6     -0.145955 -0.045066       4        1   8.263320\n",
       "19    -0.163419 -0.094626       5        1   8.051590\n",
       "3      0.003857  0.036351       6        1   7.638444\n",
       "16    -0.024238  0.176776       7        1   6.340726\n",
       "12     0.075282 -0.017391       8        1   5.642982\n",
       "4      0.060030 -0.015234       9        1   4.791548\n",
       "8      0.029937  0.068980      10        1   4.540502\n",
       "9      0.045590  0.009511      11        1   4.366743\n",
       "18     0.069731 -0.014769      12        1   3.371240\n",
       "10     0.064860 -0.014907      13        1   3.200483\n",
       "7      0.068649 -0.002265      14        1   2.831842\n",
       "15     0.063967 -0.001963      15        1   2.623827\n",
       "1      0.057503 -0.000596      16        1   2.586619\n",
       "2      0.056874  0.000050      17        1   1.379003\n",
       "13     0.048760 -0.003682      18        1   0.765056\n",
       "5      0.047926 -0.005188      19        1   0.735146\n",
       "14     0.049801 -0.004726      20        1   0.585508, topic_info=     Category        Freq         Term       Total  loglift  logprob\n",
       "431   Default  122.000000        think  122.000000  30.0000  30.0000\n",
       "20    Default   97.000000       growth   97.000000  29.0000  29.0000\n",
       "21    Default   96.000000         have   96.000000  28.0000  28.0000\n",
       "47    Default   72.000000      quarter   72.000000  27.0000  27.0000\n",
       "444   Default   52.000000      product   52.000000  26.0000  26.0000\n",
       "...       ...         ...          ...         ...      ...      ...\n",
       "1139  Topic20    0.019287          raw    1.267717   0.9549  -7.1929\n",
       "375   Topic20    0.019287         back   15.062465  -1.5201  -7.1929\n",
       "384   Topic20    0.019287  endometrial    1.960466   0.5189  -7.1929\n",
       "374   Topic20    0.019287    attenuate    1.694583   0.6647  -7.1929\n",
       "373   Topic20    0.019287        rapid    2.032545   0.4828  -7.1929\n",
       "\n",
       "[768 rows x 6 columns], token_table=      Topic      Freq        Term\n",
       "term                             \n",
       "183       7  0.389314      abbvie\n",
       "383       2  0.510083    abnormal\n",
       "232      15  0.435397  accelerate\n",
       "402       4  0.836103      access\n",
       "69        6  0.832665     achieve\n",
       "...     ...       ...         ...\n",
       "36        3  0.048763        year\n",
       "36        4  0.365726        year\n",
       "36        5  0.304772        year\n",
       "123       9  0.551429       young\n",
       "37        9  0.551407        zone\n",
       "\n",
       "[453 rows x 3 columns], R=30, lambda_step=0.01, plot_opts={'xlab': 'PC1', 'ylab': 'PC2'}, topic_order=[12, 18, 1, 7, 20, 4, 17, 13, 5, 9, 10, 19, 11, 8, 16, 2, 3, 14, 6, 15])"
      ]
     },
     "execution_count": 150,
     "metadata": {},
     "output_type": "execute_result"
    }
   ],
   "source": [
    "vis = pyLDAvis.gensim.prepare(lda_model, corpus, id2word)\n",
    "vis"
   ]
  },
  {
   "cell_type": "markdown",
   "metadata": {},
   "source": [
    "So how to infer pyLDAvis’s output?\n",
    "\n",
    "Each bubble on the left-hand side plot represents a topic. The larger the bubble, the more prevalent is that topic.\n",
    "\n",
    "A good topic model will have fairly big, non-overlapping bubbles scattered throughout the chart instead of being clustered in one quadrant.\n",
    "\n",
    "A model with too many topics, will typically have many overlaps, small sized bubbles clustered in one region of the chart.\n",
    "\n",
    "Alright, if you move the cursor over one of the bubbles, the words and bars on the right-hand side will update. These words are the salient keywords that form the selected topic.\n",
    "\n",
    "We have successfully built a good looking topic model.\n",
    "\n",
    "Given our prior knowledge of the number of natural topics in the document, finding the best model was fairly straightforward.\n",
    "\n",
    "Upnext, we will improve upon this model by using Mallet’s version of LDA algorithm and then we will focus on how to arrive at the optimal number of topics given any large corpus of text."
   ]
  },
  {
   "cell_type": "markdown",
   "metadata": {},
   "source": [
    "# 16. Building LDA Mallet Model\n",
    "So far you have seen Gensim’s inbuilt version of the LDA algorithm. Mallet’s version, however, often gives a better quality of topics.\n",
    "\n",
    "Gensim provides a wrapper to implement Mallet’s LDA from within Gensim itself. You only need to download the zipfile, unzip it and provide the path to mallet in the unzipped directory to gensim.models.wrappers.LdaMallet. See how I have done this below."
   ]
  },
  {
   "cell_type": "code",
   "execution_count": 34,
   "metadata": {},
   "outputs": [],
   "source": [
    "# Download File: http://mallet.cs.umass.edu/dist/mallet-2.0.8.zip\n",
    "# mallet_path = '/mallet' # update this path for the zip file\n",
    "# ldamallet = gensim.models.wrappers.LdaMallet(mallet_path, corpus=corpus, num_topics=20, id2word=id2word)\n",
    "\n",
    "# Show Topics\n",
    "#pprint(ldamallet.show_topics(formatted=False))\n",
    "\n",
    "# Compute Coherence Score\n",
    "#coherence_model_ldamallet = CoherenceModel(model=ldamallet, texts=data_lemmatized, dictionary=id2word, coherence='c_v')\n",
    "#coherence_ldamallet = coherence_model_ldamallet.get_coherence()\n",
    "#print('\\nCoherence Score: ', coherence_ldamallet)"
   ]
  },
  {
   "cell_type": "markdown",
   "metadata": {},
   "source": [
    "# 17. How to find the optimal number of topics for LDA?\n",
    "My approach to finding the optimal number of topics is to build many LDA models with different values of number of topics (k) and pick the one that gives the highest coherence value.\n",
    "\n",
    "Choosing a ‘k’ that marks the end of a rapid growth of topic coherence usually offers meaningful and interpretable topics. Picking an even higher value can sometimes provide more granular sub-topics.\n",
    "\n",
    "If you see the same keywords being repeated in multiple topics, it’s probably a sign that the ‘k’ is too large.\n",
    "\n",
    "The compute_coherence_values() (see below) trains multiple LDA models and provides the models and their corresponding coherence scores."
   ]
  },
  {
   "cell_type": "code",
   "execution_count": 131,
   "metadata": {},
   "outputs": [],
   "source": [
    "def compute_coherence_values(dictionary, corpus, texts, limit, start=2, step=3):\n",
    "    \"\"\"\n",
    "    Compute c_v coherence for various number of topics\n",
    "\n",
    "    Parameters:\n",
    "    ----------\n",
    "    dictionary : Gensim dictionary\n",
    "    corpus : Gensim corpus\n",
    "    texts : List of input texts\n",
    "    limit : Max num of topics\n",
    "\n",
    "    Returns:\n",
    "    -------\n",
    "    model_list : List of LDA topic models\n",
    "    coherence_values : Coherence values corresponding to the LDA model with respective number of topics\n",
    "    \"\"\"\n",
    "    coherence_values = []\n",
    "    model_list = []\n",
    "\n",
    "    for num_topics in range(start, limit, step):\n",
    "        model = gensim.models.ldamodel.LdaModel(corpus=corpus, num_topics=num_topics, id2word=id2word)\n",
    "        model_list.append(model)\n",
    "        coherencemodel = CoherenceModel(model=model, texts=texts, dictionary=dictionary, coherence='c_v')\n",
    "        coherence_values.append(coherencemodel.get_coherence())\n",
    "\n",
    "    return model_list, coherence_values"
   ]
  },
  {
   "cell_type": "code",
   "execution_count": 132,
   "metadata": {},
   "outputs": [
    {
     "name": "stderr",
     "output_type": "stream",
     "text": [
      "/Users/briansum/opt/anaconda3/envs/TPML/lib/python3.7/site-packages/scipy/sparse/lil.py:504: FutureWarning: future versions will not create a writeable array from broadcast_array. Set the writable flag explicitly to avoid this warning.\n",
      "  if not i.flags.writeable or i.dtype not in (np.int32, np.int64):\n",
      "/Users/briansum/opt/anaconda3/envs/TPML/lib/python3.7/site-packages/scipy/sparse/lil.py:506: FutureWarning: future versions will not create a writeable array from broadcast_array. Set the writable flag explicitly to avoid this warning.\n",
      "  if not j.flags.writeable or j.dtype not in (np.int32, np.int64):\n"
     ]
    }
   ],
   "source": [
    "# Can take a long time to run.\n",
    "model_list, coherence_values = compute_coherence_values(dictionary=id2word, corpus=corpus, texts=data_lemmatized, start=2, limit=40, step=6)"
   ]
  },
  {
   "cell_type": "code",
   "execution_count": 133,
   "metadata": {},
   "outputs": [
    {
     "data": {
      "image/png": "[encoded data removed]",
      "text/plain": [
       "<Figure size 432x288 with 1 Axes>"
      ]
     },
     "metadata": {
      "needs_background": "light"
     },
     "output_type": "display_data"
    }
   ],
   "source": [
    "# Show graph\n",
    "limit=40; start=2; step=6;\n",
    "x = range(start, limit, step)\n",
    "plt.plot(x, coherence_values)\n",
    "plt.xlabel(\"Num Topics\")\n",
    "plt.ylabel(\"Coherence score\")\n",
    "plt.legend((\"coherence_values\"), loc='best')\n",
    "plt.show()"
   ]
  },
  {
   "cell_type": "code",
   "execution_count": 134,
   "metadata": {},
   "outputs": [
    {
     "name": "stdout",
     "output_type": "stream",
     "text": [
      "Num Topics = 2  has Coherence Value of 0.2604\n",
      "Num Topics = 8  has Coherence Value of 0.3751\n",
      "Num Topics = 14  has Coherence Value of 0.4319\n",
      "Num Topics = 20  has Coherence Value of 0.4284\n",
      "Num Topics = 26  has Coherence Value of 0.4448\n",
      "Num Topics = 32  has Coherence Value of 0.4494\n",
      "Num Topics = 38  has Coherence Value of 0.441\n"
     ]
    }
   ],
   "source": [
    "# Choosing the optimal number of LDA topics\n",
    "# Print the coherence scores\n",
    "for m, cv in zip(x, coherence_values):\n",
    "    print(\"Num Topics =\", m, \" has Coherence Value of\", round(cv, 4))"
   ]
  },
  {
   "cell_type": "markdown",
   "metadata": {},
   "source": [
    "If the coherence score seems to keep increasing, it may make better sense to pick the model that gave the highest CV before flattening out. This is exactly the case here.\n",
    "\n",
    "So for further steps I will choose the model with 32 topics itself."
   ]
  },
  {
   "cell_type": "code",
   "execution_count": 135,
   "metadata": {},
   "outputs": [
    {
     "name": "stdout",
     "output_type": "stream",
     "text": [
      "[(30,\n",
      "  '0.019*\"study\" + 0.019*\"think\" + 0.018*\"include\" + 0.017*\"second\" + '\n",
      "  '0.017*\"product\" + 0.017*\"datum\" + 0.015*\"phase\" + 0.014*\"high\" + '\n",
      "  '0.013*\"survival\" + 0.012*\"forth\"'),\n",
      " (19,\n",
      "  '0.034*\"go\" + 0.028*\"lot\" + 0.014*\"possible\" + 0.014*\"thing\" + '\n",
      "  '0.014*\"device\" + 0.014*\"have\" + 0.014*\"acquisition\" + 0.014*\"know\" + '\n",
      "  '0.014*\"broad\" + 0.014*\"establish\"'),\n",
      " (18,\n",
      "  '0.032*\"approval\" + 0.025*\"heart\" + 0.016*\"testing\" + 0.016*\"failure\" + '\n",
      "  '0.016*\"receive\" + 0.015*\"much\" + 0.014*\"year\" + 0.013*\"alere\" + '\n",
      "  '0.012*\"good\" + 0.009*\"go\"'),\n",
      " (8,\n",
      "  '0.044*\"patient\" + 0.029*\"want\" + 0.022*\"large\" + 0.022*\"run\" + 0.022*\"well\" '\n",
      "  '+ 0.022*\"quarter\" + 0.015*\"phase\" + 0.015*\"quite\" + 0.015*\"also\" + '\n",
      "  '0.015*\"study\"'),\n",
      " (9,\n",
      "  '0.033*\"program\" + 0.025*\"phase\" + 0.025*\"see\" + 0.017*\"result\" + '\n",
      "  '0.017*\"add\" + 0.017*\"confident\" + 0.017*\"remain\" + 0.017*\"week\" + '\n",
      "  '0.017*\"base\" + 0.017*\"position\"'),\n",
      " (14,\n",
      "  '0.036*\"go\" + 0.026*\"have\" + 0.020*\"new\" + 0.016*\"be\" + 0.015*\"market\" + '\n",
      "  '0.012*\"treatment\" + 0.012*\"patient\" + 0.012*\"next\" + 0.010*\"question\" + '\n",
      "  '0.010*\"lot\"'),\n",
      " (6,\n",
      "  '0.021*\"expect\" + 0.021*\"quarter\" + 0.019*\"phase\" + 0.014*\"lymphoma\" + '\n",
      "  '0.014*\"also\" + 0.014*\"country\" + 0.014*\"interest\" + 0.014*\"year\" + '\n",
      "  '0.014*\"datum\" + 0.014*\"decision\"'),\n",
      " (24,\n",
      "  '0.029*\"growth\" + 0.022*\"study\" + 0.020*\"have\" + 0.019*\"strong\" + '\n",
      "  '0.018*\"datum\" + 0.017*\"ongoing\" + 0.017*\"see\" + 0.016*\"product\" + '\n",
      "  '0.016*\"market\" + 0.013*\"launch\"'),\n",
      " (4,\n",
      "  '0.030*\"approval\" + 0.020*\"new\" + 0.020*\"think\" + 0.015*\"point\" + '\n",
      "  '0.015*\"business\" + 0.015*\"say\" + 0.015*\"make\" + 0.015*\"mutation\" + '\n",
      "  '0.015*\"be\" + 0.015*\"program\"'),\n",
      " (5,\n",
      "  '0.027*\"think\" + 0.018*\"late\" + 0.018*\"trial\" + 0.018*\"datum\" + '\n",
      "  '0.018*\"right\" + 0.018*\"may\" + 0.010*\"grow\" + 0.010*\"relapse\" + 0.010*\"add\" '\n",
      "  '+ 0.010*\"make\"'),\n",
      " (15,\n",
      "  '0.035*\"quarter\" + 0.027*\"year\" + 0.021*\"know\" + 0.020*\"well\" + '\n",
      "  '0.016*\"position\" + 0.016*\"look\" + 0.016*\"market\" + 0.016*\"phase\" + '\n",
      "  '0.014*\"third\" + 0.014*\"impact\"'),\n",
      " (31,\n",
      "  '0.029*\"year\" + 0.015*\"datum\" + 0.015*\"phase\" + 0.014*\"patient\" + '\n",
      "  '0.014*\"genotype\" + 0.014*\"administration\" + 0.014*\"good\" + 0.014*\"would\" + '\n",
      "  '0.014*\"say\" + 0.014*\"go\"'),\n",
      " (2,\n",
      "  '0.038*\"quarter\" + 0.021*\"impact\" + 0.021*\"sale\" + 0.021*\"level\" + '\n",
      "  '0.018*\"comfortable\" + 0.018*\"product\" + 0.018*\"good\" + 0.018*\"inventory\" + '\n",
      "  '0.018*\"think\" + 0.018*\"tell\"'),\n",
      " (13,\n",
      "  '0.020*\"potential\" + 0.020*\"be\" + 0.010*\"convenience\" + 0.010*\"condition\" + '\n",
      "  '0.010*\"expense\" + 0.010*\"remain\" + 0.010*\"woman\" + 0.010*\"like\" + '\n",
      "  '0.010*\"turn\" + 0.010*\"class\"'),\n",
      " (23,\n",
      "  '0.040*\"have\" + 0.027*\"well\" + 0.012*\"back\" + 0.012*\"see\" + 0.012*\"look\" + '\n",
      "  '0.012*\"approval\" + 0.012*\"pretty\" + 0.012*\"stage\" + 0.012*\"think\" + '\n",
      "  '0.012*\"late\"'),\n",
      " (1,\n",
      "  '0.020*\"study\" + 0.015*\"would\" + 0.015*\"year\" + 0.015*\"think\" + '\n",
      "  '0.015*\"first\" + 0.015*\"program\" + 0.013*\"option\" + 0.013*\"drug\" + '\n",
      "  '0.010*\"gvhd\" + 0.010*\"see\"'),\n",
      " (0,\n",
      "  '0.023*\"cash\" + 0.023*\"flow\" + 0.018*\"would\" + 0.018*\"good\" + '\n",
      "  '0.018*\"product\" + 0.018*\"take\" + 0.018*\"think\" + 0.017*\"year\" + '\n",
      "  '0.017*\"make\" + 0.012*\"pay\"'),\n",
      " (10,\n",
      "  '0.025*\"growth\" + 0.016*\"performance\" + 0.015*\"think\" + 0.015*\"well\" + '\n",
      "  '0.014*\"go\" + 0.013*\"be\" + 0.012*\"early\" + 0.011*\"strong\" + 0.011*\"market\" + '\n",
      "  '0.010*\"rate\"'),\n",
      " (25,\n",
      "  '0.027*\"year\" + 0.027*\"quarter\" + 0.023*\"take\" + 0.020*\"impact\" + '\n",
      "  '0.013*\"close\" + 0.013*\"discussion\" + 0.013*\"sale\" + 0.013*\"first\" + '\n",
      "  '0.013*\"approve\" + 0.013*\"drive\"'),\n",
      " (27,\n",
      "  '0.050*\"year\" + 0.025*\"second\" + 0.025*\"datum\" + 0.025*\"push\" + 0.025*\"cash\" '\n",
      "  '+ 0.025*\"quarter\" + 0.025*\"keep\" + 0.013*\"net\" + 0.013*\"revenue\" + '\n",
      "  '0.013*\"present\"')]\n"
     ]
    }
   ],
   "source": [
    "# Select the model and print the topics\n",
    "optimal_model = model_list[5] # Count from index 0 (top)\n",
    "model_topics = optimal_model.show_topics(formatted=False)\n",
    "pprint(optimal_model.print_topics(num_words=10))"
   ]
  },
  {
   "cell_type": "markdown",
   "metadata": {},
   "source": [
    "Those were the topics for the chosen LDA model."
   ]
  },
  {
   "cell_type": "markdown",
   "metadata": {},
   "source": [
    "# 18. Finding the dominant topic in each sentence\n",
    "One of the practical application of topic modeling is to determine what topic a given document is about.\n",
    "\n",
    "To find that, we find the topic number that has the highest percentage contribution in that document.\n",
    "\n",
    "The format_topics_sentences() function below nicely aggregates this information in a presentable table."
   ]
  },
  {
   "cell_type": "code",
   "execution_count": 136,
   "metadata": {},
   "outputs": [],
   "source": [
    "def format_topics_sentences(ldamodel=lda_model, corpus=corpus, texts=data):\n",
    "    # Init output\n",
    "    sent_topics_df = pd.DataFrame()\n",
    "\n",
    "    # Get main topic in each document\n",
    "    for i, row in enumerate(ldamodel[corpus]):\n",
    "        row = sorted(row, key=lambda x: (x[1]), reverse=True)\n",
    "        # Get the Dominant topic, Perc Contribution and Keywords for each document\n",
    "        for j, (topic_num, prop_topic) in enumerate(row):\n",
    "            if j == 0:  # => dominant topic\n",
    "                wp = ldamodel.show_topic(topic_num)\n",
    "                topic_keywords = \", \".join([word for word, prop in wp])\n",
    "                sent_topics_df = sent_topics_df.append(pd.Series([int(topic_num), round(prop_topic,4), topic_keywords]), ignore_index=True)\n",
    "            else:\n",
    "                break\n",
    "    sent_topics_df.columns = ['Dominant_Topic', 'Perc_Contribution', 'Topic_Keywords']\n",
    "\n",
    "    # Add original text to the end of the output\n",
    "    contents = pd.Series(texts)\n",
    "    sent_topics_df = pd.concat([sent_topics_df, contents], axis=1)\n",
    "    return(sent_topics_df)"
   ]
  },
  {
   "cell_type": "code",
   "execution_count": 137,
   "metadata": {},
   "outputs": [],
   "source": [
    "df_topic_sents_keywords = format_topics_sentences(ldamodel=optimal_model, corpus=corpus, texts=data)"
   ]
  },
  {
   "cell_type": "code",
   "execution_count": 138,
   "metadata": {},
   "outputs": [],
   "source": [
    "# Format\n",
    "df_dominant_topic = df_topic_sents_keywords.reset_index()\n",
    "df_dominant_topic.columns = ['Document_No', 'Dominant_Topic', 'Topic_Perc_Contrib', 'Keywords', 'Text']"
   ]
  },
  {
   "cell_type": "code",
   "execution_count": 139,
   "metadata": {},
   "outputs": [
    {
     "name": "stdout",
     "output_type": "stream",
     "text": [
      "   Document_No  Dominant_Topic  Topic_Perc_Contrib  \\\n",
      "0            0            12.0              0.9119   \n",
      "1            1             4.0              0.8924   \n",
      "2            2            29.0              0.9119   \n",
      "3            3             0.0              0.9430   \n",
      "4            4            11.0              0.9395   \n",
      "5            5             8.0              0.9031   \n",
      "6            6             1.0              0.9255   \n",
      "7            7            16.0              0.9560   \n",
      "8            8             6.0              0.8924   \n",
      "9            9            31.0              0.9395   \n",
      "\n",
      "                                            Keywords  \\\n",
      "0  line, datum, expect, would, anticipate, front,...   \n",
      "1  approval, new, think, point, business, say, ma...   \n",
      "2  year, study, phase, have, do, first, see, fore...   \n",
      "3  cash, flow, would, good, product, take, think,...   \n",
      "4  would, quarter, think, good, patient, strong, ...   \n",
      "5  patient, want, large, run, well, quarter, phas...   \n",
      "6  study, would, year, think, first, program, opt...   \n",
      "7  growth, year, performance, quarter, sale, have...   \n",
      "8  expect, quarter, phase, lymphoma, also, countr...   \n",
      "9  year, datum, phase, patient, genotype, adminis...   \n",
      "\n",
      "                                                Text  \n",
      "0  Today Ill highlight recent pipeline updates an...  \n",
      "1  Ill start with our hem-onc programs, where we ...  \n",
      "2  Starting with Imbruvica, as weve outlined, exp...  \n",
      "3  Earlier this year we added relapsed/refractory...  \n",
      "4  During the quarter, we submitted a supplementa...  \n",
      "5  GVHD is a severe and potentially life-threaten...  \n",
      "6  There are currently limited treatment options ...  \n",
      "7  In Phase 2 data presented at the end of last y...  \n",
      "8  Based on these data, we expect a regulatory de...  \n",
      "9  Later this year, we anticipate several key dat...  \n"
     ]
    }
   ],
   "source": [
    "# Show Dominant Topic For Each Document\n",
    "print(df_dominant_topic.head(10))"
   ]
  },
  {
   "cell_type": "markdown",
   "metadata": {},
   "source": [
    "# 19. Find the most representative document for each topic\n",
    "Sometimes just the topic keywords may not be enough to make sense of what a topic is about. So, to help with understanding the topic, you can find the documents a given topic has contributed to the most and infer the topic by reading that document. Whew!!"
   ]
  },
  {
   "cell_type": "code",
   "execution_count": 140,
   "metadata": {},
   "outputs": [],
   "source": [
    "# Group top 5 sentences under each topic\n",
    "sent_topics_sorteddf_mallet = pd.DataFrame()\n",
    "\n",
    "sent_topics_outdf_grpd = df_topic_sents_keywords.groupby('Dominant_Topic')\n",
    "\n",
    "for i, grp in sent_topics_outdf_grpd:\n",
    "    sent_topics_sorteddf_mallet = pd.concat([sent_topics_sorteddf_mallet, \n",
    "                                             grp.sort_values(['Perc_Contribution'], ascending=[0]).head(1)], \n",
    "                                            axis=0)"
   ]
  },
  {
   "cell_type": "code",
   "execution_count": 141,
   "metadata": {},
   "outputs": [],
   "source": [
    "# Reset Index    \n",
    "sent_topics_sorteddf_mallet.reset_index(drop=True, inplace=True)"
   ]
  },
  {
   "cell_type": "code",
   "execution_count": 142,
   "metadata": {},
   "outputs": [],
   "source": [
    "# Format\n",
    "sent_topics_sorteddf_mallet.columns = ['Topic_Num', \"Topic_Perc_Contrib\", \"Keywords\", \"Text\"]"
   ]
  },
  {
   "cell_type": "code",
   "execution_count": 143,
   "metadata": {},
   "outputs": [
    {
     "name": "stdout",
     "output_type": "stream",
     "text": [
      "   Topic_Num  Topic_Perc_Contrib  \\\n",
      "0        0.0              0.9560   \n",
      "1        1.0              0.9666   \n",
      "2        2.0              0.9395   \n",
      "3        3.0              0.9462   \n",
      "4        4.0              0.9641   \n",
      "\n",
      "                                            Keywords  \\\n",
      "0  cash, flow, would, good, product, take, think,...   \n",
      "1  study, would, year, think, first, program, opt...   \n",
      "2  quarter, impact, sale, level, comfortable, pro...   \n",
      "3  growth, year, full, kind, expect, operational,...   \n",
      "4  approval, new, think, point, business, say, ma...   \n",
      "\n",
      "                                                Text  \n",
      "0  and it gives us access to our cash flows and e...  \n",
      "1  So what were looking for in TRINITY is somethi...  \n",
      "2  But from the standpoint of the operation of th...  \n",
      "3  So we were testing a different hypothesis, and...  \n",
      "4  and we believe that with the acquisition weve ...  \n"
     ]
    }
   ],
   "source": [
    "# Show Most Representative Topic For Each Document\n",
    "print(sent_topics_sorteddf_mallet.head()) "
   ]
  },
  {
   "cell_type": "markdown",
   "metadata": {},
   "source": [
    "The tabular output above actually has 20 rows, one each for a topic. It has the topic number, the keywords, and the most representative document. The Perc_Contribution column is nothing but the percentage contribution of the topic in the given document."
   ]
  },
  {
   "cell_type": "markdown",
   "metadata": {},
   "source": [
    "# 20. Topic distribution across documents\n",
    "Finally, we want to understand the volume and distribution of topics in order to judge how widely it was discussed. The below table exposes that information."
   ]
  },
  {
   "cell_type": "code",
   "execution_count": 144,
   "metadata": {},
   "outputs": [],
   "source": [
    "# Number of Documents for Each Topic\n",
    "topic_counts = df_topic_sents_keywords['Dominant_Topic'].value_counts()"
   ]
  },
  {
   "cell_type": "code",
   "execution_count": 145,
   "metadata": {},
   "outputs": [],
   "source": [
    "# Percentage of Documents for Each Topic\n",
    "topic_contribution = round(topic_counts/topic_counts.sum(), 4)"
   ]
  },
  {
   "cell_type": "code",
   "execution_count": 146,
   "metadata": {},
   "outputs": [],
   "source": [
    "# Topic Number and Keywords\n",
    "topic_num_keywords = sent_topics_sorteddf_mallet[['Topic_Num', 'Keywords']]"
   ]
  },
  {
   "cell_type": "code",
   "execution_count": 147,
   "metadata": {},
   "outputs": [],
   "source": [
    "# Concatenate Column wise\n",
    "df_dominant_topics = pd.concat([topic_num_keywords, topic_counts.sort_index(), topic_contribution.sort_index()], axis=1)"
   ]
  },
  {
   "cell_type": "code",
   "execution_count": 148,
   "metadata": {},
   "outputs": [],
   "source": [
    "# Change Column names\n",
    "df_dominant_topics.columns = ['Dominant_Topic', 'Topic_Keywords', 'Num_Documents', 'Perc_Documents']"
   ]
  },
  {
   "cell_type": "code",
   "execution_count": 149,
   "metadata": {},
   "outputs": [
    {
     "data": {
      "text/html": [
       "<div>\n",
       "<style scoped>\n",
       "    .dataframe tbody tr th:only-of-type {\n",
       "        vertical-align: middle;\n",
       "    }\n",
       "\n",
       "    .dataframe tbody tr th {\n",
       "        vertical-align: top;\n",
       "    }\n",
       "\n",
       "    .dataframe thead th {\n",
       "        text-align: right;\n",
       "    }\n",
       "</style>\n",
       "<table border=\"1\" class=\"dataframe\">\n",
       "  <thead>\n",
       "    <tr style=\"text-align: right;\">\n",
       "      <th></th>\n",
       "      <th>Dominant_Topic</th>\n",
       "      <th>Topic_Keywords</th>\n",
       "      <th>Num_Documents</th>\n",
       "      <th>Perc_Documents</th>\n",
       "    </tr>\n",
       "  </thead>\n",
       "  <tbody>\n",
       "    <tr>\n",
       "      <th>0.0</th>\n",
       "      <td>0.0</td>\n",
       "      <td>cash, flow, would, good, product, take, think,...</td>\n",
       "      <td>41</td>\n",
       "      <td>0.0759</td>\n",
       "    </tr>\n",
       "    <tr>\n",
       "      <th>1.0</th>\n",
       "      <td>1.0</td>\n",
       "      <td>study, would, year, think, first, program, opt...</td>\n",
       "      <td>22</td>\n",
       "      <td>0.0407</td>\n",
       "    </tr>\n",
       "    <tr>\n",
       "      <th>2.0</th>\n",
       "      <td>2.0</td>\n",
       "      <td>quarter, impact, sale, level, comfortable, pro...</td>\n",
       "      <td>12</td>\n",
       "      <td>0.0222</td>\n",
       "    </tr>\n",
       "    <tr>\n",
       "      <th>3.0</th>\n",
       "      <td>3.0</td>\n",
       "      <td>growth, year, full, kind, expect, operational,...</td>\n",
       "      <td>12</td>\n",
       "      <td>0.0222</td>\n",
       "    </tr>\n",
       "    <tr>\n",
       "      <th>4.0</th>\n",
       "      <td>4.0</td>\n",
       "      <td>approval, new, think, point, business, say, ma...</td>\n",
       "      <td>20</td>\n",
       "      <td>0.0370</td>\n",
       "    </tr>\n",
       "    <tr>\n",
       "      <th>5.0</th>\n",
       "      <td>5.0</td>\n",
       "      <td>think, late, trial, datum, right, may, grow, r...</td>\n",
       "      <td>7</td>\n",
       "      <td>0.0130</td>\n",
       "    </tr>\n",
       "    <tr>\n",
       "      <th>6.0</th>\n",
       "      <td>6.0</td>\n",
       "      <td>expect, quarter, phase, lymphoma, also, countr...</td>\n",
       "      <td>13</td>\n",
       "      <td>0.0241</td>\n",
       "    </tr>\n",
       "    <tr>\n",
       "      <th>7.0</th>\n",
       "      <td>7.0</td>\n",
       "      <td>see, phase, study, think, well, include, datum...</td>\n",
       "      <td>27</td>\n",
       "      <td>0.0500</td>\n",
       "    </tr>\n",
       "    <tr>\n",
       "      <th>8.0</th>\n",
       "      <td>8.0</td>\n",
       "      <td>patient, want, large, run, well, quarter, phas...</td>\n",
       "      <td>14</td>\n",
       "      <td>0.0259</td>\n",
       "    </tr>\n",
       "    <tr>\n",
       "      <th>9.0</th>\n",
       "      <td>9.0</td>\n",
       "      <td>program, phase, see, result, add, confident, r...</td>\n",
       "      <td>10</td>\n",
       "      <td>0.0185</td>\n",
       "    </tr>\n",
       "    <tr>\n",
       "      <th>10.0</th>\n",
       "      <td>10.0</td>\n",
       "      <td>growth, performance, think, well, go, be, earl...</td>\n",
       "      <td>18</td>\n",
       "      <td>0.0333</td>\n",
       "    </tr>\n",
       "    <tr>\n",
       "      <th>11.0</th>\n",
       "      <td>11.0</td>\n",
       "      <td>would, quarter, think, good, patient, strong, ...</td>\n",
       "      <td>25</td>\n",
       "      <td>0.0463</td>\n",
       "    </tr>\n",
       "    <tr>\n",
       "      <th>12.0</th>\n",
       "      <td>12.0</td>\n",
       "      <td>line, datum, expect, would, anticipate, front,...</td>\n",
       "      <td>9</td>\n",
       "      <td>0.0167</td>\n",
       "    </tr>\n",
       "    <tr>\n",
       "      <th>13.0</th>\n",
       "      <td>13.0</td>\n",
       "      <td>potential, be, convenience, condition, expense...</td>\n",
       "      <td>13</td>\n",
       "      <td>0.0241</td>\n",
       "    </tr>\n",
       "    <tr>\n",
       "      <th>14.0</th>\n",
       "      <td>14.0</td>\n",
       "      <td>go, have, new, be, market, treatment, patient,...</td>\n",
       "      <td>20</td>\n",
       "      <td>0.0370</td>\n",
       "    </tr>\n",
       "    <tr>\n",
       "      <th>15.0</th>\n",
       "      <td>15.0</td>\n",
       "      <td>quarter, year, know, well, position, look, mar...</td>\n",
       "      <td>24</td>\n",
       "      <td>0.0444</td>\n",
       "    </tr>\n",
       "    <tr>\n",
       "      <th>16.0</th>\n",
       "      <td>16.0</td>\n",
       "      <td>growth, year, performance, quarter, sale, have...</td>\n",
       "      <td>16</td>\n",
       "      <td>0.0296</td>\n",
       "    </tr>\n",
       "    <tr>\n",
       "      <th>17.0</th>\n",
       "      <td>17.0</td>\n",
       "      <td>think, quarter, system, be, come, try, grow, c...</td>\n",
       "      <td>20</td>\n",
       "      <td>0.0370</td>\n",
       "    </tr>\n",
       "    <tr>\n",
       "      <th>18.0</th>\n",
       "      <td>18.0</td>\n",
       "      <td>approval, heart, testing, failure, receive, mu...</td>\n",
       "      <td>12</td>\n",
       "      <td>0.0222</td>\n",
       "    </tr>\n",
       "    <tr>\n",
       "      <th>19.0</th>\n",
       "      <td>19.0</td>\n",
       "      <td>go, lot, possible, thing, device, have, acquis...</td>\n",
       "      <td>14</td>\n",
       "      <td>0.0259</td>\n",
       "    </tr>\n",
       "    <tr>\n",
       "      <th>20.0</th>\n",
       "      <td>20.0</td>\n",
       "      <td>kind, market, give, modest, population, potent...</td>\n",
       "      <td>11</td>\n",
       "      <td>0.0204</td>\n",
       "    </tr>\n",
       "    <tr>\n",
       "      <th>21.0</th>\n",
       "      <td>21.0</td>\n",
       "      <td>market, result, high, growth, say, sale, would...</td>\n",
       "      <td>15</td>\n",
       "      <td>0.0278</td>\n",
       "    </tr>\n",
       "    <tr>\n",
       "      <th>22.0</th>\n",
       "      <td>22.0</td>\n",
       "      <td>year, sale, patient, get, quarter, next, growt...</td>\n",
       "      <td>20</td>\n",
       "      <td>0.0370</td>\n",
       "    </tr>\n",
       "    <tr>\n",
       "      <th>23.0</th>\n",
       "      <td>23.0</td>\n",
       "      <td>have, well, back, see, look, approval, pretty,...</td>\n",
       "      <td>21</td>\n",
       "      <td>0.0389</td>\n",
       "    </tr>\n",
       "    <tr>\n",
       "      <th>24.0</th>\n",
       "      <td>24.0</td>\n",
       "      <td>growth, study, have, strong, datum, ongoing, s...</td>\n",
       "      <td>28</td>\n",
       "      <td>0.0519</td>\n",
       "    </tr>\n",
       "    <tr>\n",
       "      <th>25.0</th>\n",
       "      <td>25.0</td>\n",
       "      <td>year, quarter, take, impact, close, discussion...</td>\n",
       "      <td>15</td>\n",
       "      <td>0.0278</td>\n",
       "    </tr>\n",
       "    <tr>\n",
       "      <th>26.0</th>\n",
       "      <td>26.0</td>\n",
       "      <td>expect, progress, start, sale, line, come, con...</td>\n",
       "      <td>18</td>\n",
       "      <td>0.0333</td>\n",
       "    </tr>\n",
       "    <tr>\n",
       "      <th>27.0</th>\n",
       "      <td>27.0</td>\n",
       "      <td>year, second, datum, push, cash, quarter, keep...</td>\n",
       "      <td>6</td>\n",
       "      <td>0.0111</td>\n",
       "    </tr>\n",
       "    <tr>\n",
       "      <th>28.0</th>\n",
       "      <td>28.0</td>\n",
       "      <td>time, know, well, s, include, first, year, thi...</td>\n",
       "      <td>11</td>\n",
       "      <td>0.0204</td>\n",
       "    </tr>\n",
       "    <tr>\n",
       "      <th>29.0</th>\n",
       "      <td>29.0</td>\n",
       "      <td>year, study, phase, have, do, first, see, fore...</td>\n",
       "      <td>21</td>\n",
       "      <td>0.0389</td>\n",
       "    </tr>\n",
       "    <tr>\n",
       "      <th>30.0</th>\n",
       "      <td>30.0</td>\n",
       "      <td>study, think, include, second, product, datum,...</td>\n",
       "      <td>14</td>\n",
       "      <td>0.0259</td>\n",
       "    </tr>\n",
       "    <tr>\n",
       "      <th>31.0</th>\n",
       "      <td>31.0</td>\n",
       "      <td>year, datum, phase, patient, genotype, adminis...</td>\n",
       "      <td>11</td>\n",
       "      <td>0.0204</td>\n",
       "    </tr>\n",
       "  </tbody>\n",
       "</table>\n",
       "</div>"
      ],
      "text/plain": [
       "      Dominant_Topic                                     Topic_Keywords  \\\n",
       "0.0              0.0  cash, flow, would, good, product, take, think,...   \n",
       "1.0              1.0  study, would, year, think, first, program, opt...   \n",
       "2.0              2.0  quarter, impact, sale, level, comfortable, pro...   \n",
       "3.0              3.0  growth, year, full, kind, expect, operational,...   \n",
       "4.0              4.0  approval, new, think, point, business, say, ma...   \n",
       "5.0              5.0  think, late, trial, datum, right, may, grow, r...   \n",
       "6.0              6.0  expect, quarter, phase, lymphoma, also, countr...   \n",
       "7.0              7.0  see, phase, study, think, well, include, datum...   \n",
       "8.0              8.0  patient, want, large, run, well, quarter, phas...   \n",
       "9.0              9.0  program, phase, see, result, add, confident, r...   \n",
       "10.0            10.0  growth, performance, think, well, go, be, earl...   \n",
       "11.0            11.0  would, quarter, think, good, patient, strong, ...   \n",
       "12.0            12.0  line, datum, expect, would, anticipate, front,...   \n",
       "13.0            13.0  potential, be, convenience, condition, expense...   \n",
       "14.0            14.0  go, have, new, be, market, treatment, patient,...   \n",
       "15.0            15.0  quarter, year, know, well, position, look, mar...   \n",
       "16.0            16.0  growth, year, performance, quarter, sale, have...   \n",
       "17.0            17.0  think, quarter, system, be, come, try, grow, c...   \n",
       "18.0            18.0  approval, heart, testing, failure, receive, mu...   \n",
       "19.0            19.0  go, lot, possible, thing, device, have, acquis...   \n",
       "20.0            20.0  kind, market, give, modest, population, potent...   \n",
       "21.0            21.0  market, result, high, growth, say, sale, would...   \n",
       "22.0            22.0  year, sale, patient, get, quarter, next, growt...   \n",
       "23.0            23.0  have, well, back, see, look, approval, pretty,...   \n",
       "24.0            24.0  growth, study, have, strong, datum, ongoing, s...   \n",
       "25.0            25.0  year, quarter, take, impact, close, discussion...   \n",
       "26.0            26.0  expect, progress, start, sale, line, come, con...   \n",
       "27.0            27.0  year, second, datum, push, cash, quarter, keep...   \n",
       "28.0            28.0  time, know, well, s, include, first, year, thi...   \n",
       "29.0            29.0  year, study, phase, have, do, first, see, fore...   \n",
       "30.0            30.0  study, think, include, second, product, datum,...   \n",
       "31.0            31.0  year, datum, phase, patient, genotype, adminis...   \n",
       "\n",
       "      Num_Documents  Perc_Documents  \n",
       "0.0              41          0.0759  \n",
       "1.0              22          0.0407  \n",
       "2.0              12          0.0222  \n",
       "3.0              12          0.0222  \n",
       "4.0              20          0.0370  \n",
       "5.0               7          0.0130  \n",
       "6.0              13          0.0241  \n",
       "7.0              27          0.0500  \n",
       "8.0              14          0.0259  \n",
       "9.0              10          0.0185  \n",
       "10.0             18          0.0333  \n",
       "11.0             25          0.0463  \n",
       "12.0              9          0.0167  \n",
       "13.0             13          0.0241  \n",
       "14.0             20          0.0370  \n",
       "15.0             24          0.0444  \n",
       "16.0             16          0.0296  \n",
       "17.0             20          0.0370  \n",
       "18.0             12          0.0222  \n",
       "19.0             14          0.0259  \n",
       "20.0             11          0.0204  \n",
       "21.0             15          0.0278  \n",
       "22.0             20          0.0370  \n",
       "23.0             21          0.0389  \n",
       "24.0             28          0.0519  \n",
       "25.0             15          0.0278  \n",
       "26.0             18          0.0333  \n",
       "27.0              6          0.0111  \n",
       "28.0             11          0.0204  \n",
       "29.0             21          0.0389  \n",
       "30.0             14          0.0259  \n",
       "31.0             11          0.0204  "
      ]
     },
     "execution_count": 149,
     "metadata": {},
     "output_type": "execute_result"
    }
   ],
   "source": [
    "# Show Topic Volume Distribution\n",
    "df_dominant_topics"
   ]
  },
  {
   "cell_type": "markdown",
   "metadata": {},
   "source": [
    "# 21. Conclusion\n",
    "We started with understanding what topic modeling can do. We built a basic topic model using Gensim’s LDA and visualize the topics using pyLDAvis. Then we built mallet’s LDA implementation. You saw how to find the optimal number of topics using coherence scores and how you can come to a logical understanding of how to choose the optimal model.\n",
    "\n",
    "Finally we saw how to aggregate and present the results to generate insights that may be in a more actionable.\n",
    "\n",
    "Hope you enjoyed reading this. I would appreciate if you leave your thoughts in the comments section below.\n",
    "\n",
    "Edit: I see some of you are experiencing errors while using the LDA Mallet and I don’t have a solution for some of the issues. So, I’ve implemented a workaround and more useful topic model visualizations. Hope you will find it helpful."
   ]
  },
  {
   "cell_type": "code",
   "execution_count": null,
   "metadata": {},
   "outputs": [],
   "source": []
  }
 ],
 "metadata": {
  "kernelspec": {
   "display_name": "Python 3",
   "language": "python",
   "name": "python3"
  },
  "language_info": {
   "codemirror_mode": {
    "name": "ipython",
    "version": 3
   },
   "file_extension": ".py",
   "mimetype": "text/x-python",
   "name": "python",
   "nbconvert_exporter": "python",
   "pygments_lexer": "ipython3",
   "version": "3.7.4"
  }
 },
 "nbformat": 4,
 "nbformat_minor": 4
}
