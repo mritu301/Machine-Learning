{
  "nbformat": 4,
  "nbformat_minor": 0,
  "metadata": {
    "colab": {
      "name": "Untitled4.ipynb",
      "provenance": [],
      "authorship_tag": "ABX9TyPIUz2Nw51gQFnaVVKeXNR9",
      "include_colab_link": true
    },
    "kernelspec": {
      "name": "python3",
      "display_name": "Python 3"
    }
  },
  "cells": [
    {
      "cell_type": "markdown",
      "metadata": {
        "id": "view-in-github",
        "colab_type": "text"
      },
      "source": [
        "<a href=\"https://colab.research.google.com/github/mritu301/Machine-Learning/blob/master/Text_Classification.ipynb\" target=\"_parent\"><img src=\"https://colab.research.google.com/assets/colab-badge.svg\" alt=\"Open In Colab\"/></a>"
      ]
    },
    {
      "cell_type": "code",
      "metadata": {
        "id": "4G98dcoWgN6I",
        "colab_type": "code",
        "colab": {}
      },
      "source": [
        "# Tensor Flow and tf.keras\n",
        "import tensorflow as tf\n",
        "from tensorflow import keras\n",
        "\n",
        "# Helper Libraries\n",
        "import numpy as np"
      ],
      "execution_count": 0,
      "outputs": []
    },
    {
      "cell_type": "code",
      "metadata": {
        "id": "wGMVcpVAguWE",
        "colab_type": "code",
        "outputId": "f72a81fc-f1f5-49c7-ff61-47a0d21c2799",
        "colab": {
          "base_uri": "https://localhost:8080/",
          "height": 34
        }
      },
      "source": [
        "print(tf.__version__)"
      ],
      "execution_count": 36,
      "outputs": [
        {
          "output_type": "stream",
          "text": [
            "1.15.0\n"
          ],
          "name": "stdout"
        }
      ]
    },
    {
      "cell_type": "code",
      "metadata": {
        "id": "Bov6Xci-g4Nc",
        "colab_type": "code",
        "outputId": "122fd935-a042-4369-8b5b-de355f5a4017",
        "colab": {
          "base_uri": "https://localhost:8080/",
          "height": 51
        }
      },
      "source": [
        "imdb = keras.datasets.imdb\n",
        "\n",
        "(train_data, train_labels), (test_data, test_labels) = imdb.load_data()"
      ],
      "execution_count": 37,
      "outputs": [
        {
          "output_type": "stream",
          "text": [
            "Downloading data from https://storage.googleapis.com/tensorflow/tf-keras-datasets/imdb.npz\n",
            "17465344/17464789 [==============================] - 0s 0us/step\n"
          ],
          "name": "stdout"
        }
      ]
    },
    {
      "cell_type": "code",
      "metadata": {
        "id": "6_cdRY27hUcf",
        "colab_type": "code",
        "colab": {
          "base_uri": "https://localhost:8080/",
          "height": 34
        },
        "outputId": "989ac890-8b0d-427f-b73a-db53aa10d78f"
      },
      "source": [
        "# Understand the dataset\n",
        "print(\"Training enteries : {}, labels : {}\".format(len(train_data), len(train_labels)))"
      ],
      "execution_count": 38,
      "outputs": [
        {
          "output_type": "stream",
          "text": [
            "Training enteries : 25000, labels : 25000\n"
          ],
          "name": "stdout"
        }
      ]
    },
    {
      "cell_type": "code",
      "metadata": {
        "id": "yKqs_mYIi1DU",
        "colab_type": "code",
        "outputId": "f2cc3936-3260-4f9d-fd0d-7fa37e2eac13",
        "colab": {
          "base_uri": "https://localhost:8080/",
          "height": 54
        }
      },
      "source": [
        "# Text to integer\n",
        "print(train_data[0])"
      ],
      "execution_count": 39,
      "outputs": [
        {
          "output_type": "stream",
          "text": [
            "[1, 14, 22, 16, 43, 530, 973, 1622, 1385, 65, 458, 4468, 66, 3941, 4, 173, 36, 256, 5, 25, 100, 43, 838, 112, 50, 670, 22665, 9, 35, 480, 284, 5, 150, 4, 172, 112, 167, 21631, 336, 385, 39, 4, 172, 4536, 1111, 17, 546, 38, 13, 447, 4, 192, 50, 16, 6, 147, 2025, 19, 14, 22, 4, 1920, 4613, 469, 4, 22, 71, 87, 12, 16, 43, 530, 38, 76, 15, 13, 1247, 4, 22, 17, 515, 17, 12, 16, 626, 18, 19193, 5, 62, 386, 12, 8, 316, 8, 106, 5, 4, 2223, 5244, 16, 480, 66, 3785, 33, 4, 130, 12, 16, 38, 619, 5, 25, 124, 51, 36, 135, 48, 25, 1415, 33, 6, 22, 12, 215, 28, 77, 52, 5, 14, 407, 16, 82, 10311, 8, 4, 107, 117, 5952, 15, 256, 4, 31050, 7, 3766, 5, 723, 36, 71, 43, 530, 476, 26, 400, 317, 46, 7, 4, 12118, 1029, 13, 104, 88, 4, 381, 15, 297, 98, 32, 2071, 56, 26, 141, 6, 194, 7486, 18, 4, 226, 22, 21, 134, 476, 26, 480, 5, 144, 30, 5535, 18, 51, 36, 28, 224, 92, 25, 104, 4, 226, 65, 16, 38, 1334, 88, 12, 16, 283, 5, 16, 4472, 113, 103, 32, 15, 16, 5345, 19, 178, 32]\n"
          ],
          "name": "stdout"
        }
      ]
    },
    {
      "cell_type": "code",
      "metadata": {
        "id": "VdTB_THii9as",
        "colab_type": "code",
        "outputId": "1c370389-6cf2-42a6-dd2a-e2feec2304a8",
        "colab": {
          "base_uri": "https://localhost:8080/",
          "height": 34
        }
      },
      "source": [
        "# Data length of each reviews\n",
        "len(train_data[0]), len(train_data[1])"
      ],
      "execution_count": 40,
      "outputs": [
        {
          "output_type": "execute_result",
          "data": {
            "text/plain": [
              "(218, 189)"
            ]
          },
          "metadata": {
            "tags": []
          },
          "execution_count": 40
        }
      ]
    },
    {
      "cell_type": "code",
      "metadata": {
        "id": "kHZ5-9dRjeIh",
        "colab_type": "code",
        "outputId": "e2be4b41-db52-4032-ffba-bc87ca34d867",
        "colab": {
          "base_uri": "https://localhost:8080/",
          "height": 34
        }
      },
      "source": [
        "# Convert integer to text (decode the review)\n",
        "# A dictionary mapping words to an integer index\n",
        "word_index = imdb.get_word_index()\n",
        "\n",
        "len(word_index)"
      ],
      "execution_count": 68,
      "outputs": [
        {
          "output_type": "execute_result",
          "data": {
            "text/plain": [
              "88584"
            ]
          },
          "metadata": {
            "tags": []
          },
          "execution_count": 68
        }
      ]
    },
    {
      "cell_type": "code",
      "metadata": {
        "id": "cxqOHvZcjD8e",
        "colab_type": "code",
        "colab": {}
      },
      "source": [
        "# The first indices are reserved\n",
        "word_index = {k:(v+3) for k,v in word_index.items()}\n",
        "word_index[\"<PAD>\"] = 0\n",
        "word_index[\"<START>\"] = 1\n",
        "word_index[\"<UNK>\"] = 2   # unknown\n",
        "word_index[\"<UNUSED>\"] = 3\n",
        "\n",
        "reverse_word_index = dict([(value, key) for (key, value) in word_index.items()])\n",
        "#word_index.items()\n",
        "#reverse_word_index\n",
        "\n",
        "def decode_review(text):\n",
        "  return ' '.join([reverse_word_index.get(i,'?') for i in text])\n",
        "\n",
        "#reverse_word_index.get(599,'?')"
      ],
      "execution_count": 0,
      "outputs": []
    },
    {
      "cell_type": "code",
      "metadata": {
        "id": "UonlepsOkGUl",
        "colab_type": "code",
        "outputId": "9ecd6454-a06d-45f7-d91b-419e252e1db0",
        "colab": {
          "base_uri": "https://localhost:8080/",
          "height": 54
        }
      },
      "source": [
        "# Now we can use the decode_review function to display the text for the first review:\n",
        "decode_review(train_data[0])"
      ],
      "execution_count": 70,
      "outputs": [
        {
          "output_type": "execute_result",
          "data": {
            "text/plain": [
              "\"<START> this film was just brilliant casting location scenery story direction everyone's really suited the part they played and you could just imagine being there robert redford's is an amazing actor and now the same being director norman's father came from the same scottish island as myself so i loved the fact there was a real connection with this film the witty remarks throughout the film were great it was just brilliant so much that i bought the film as soon as it was released for retail and would recommend it to everyone to watch and the fly fishing was amazing really cried at the end it was so sad and you know what they say if you cry at a film it must have been good and this definitely was also congratulations to the two little boy's that played the part's of norman and paul they were just brilliant children are often left out of the praising list i think because the stars that play them all grown up are such a big profile for the whole film but these children are amazing and should be praised for what they have done don't you think the whole story was so lovely because it was true and was someone's life after all that was shared with us all\""
            ]
          },
          "metadata": {
            "tags": []
          },
          "execution_count": 70
        }
      ]
    },
    {
      "cell_type": "code",
      "metadata": {
        "id": "CyzbLvGLkTZg",
        "colab_type": "code",
        "colab": {}
      },
      "source": [
        "# Prepare the data\n",
        "# Since the movie reviews must be the same length, we will use the pad_sequences function to standardize the lengths:\n",
        "train_data = keras.preprocessing.sequence.pad_sequences(train_data,\n",
        "                                                        value=word_index[\"<PAD>\"],\n",
        "                                                        padding='post',\n",
        "                                                        maxlen=256)\n",
        "\n",
        "test_data = keras.preprocessing.sequence.pad_sequences(test_data,\n",
        "                                                        value=word_index[\"<PAD>\"],\n",
        "                                                        padding='post',\n",
        "                                                        maxlen=256)"
      ],
      "execution_count": 0,
      "outputs": []
    },
    {
      "cell_type": "code",
      "metadata": {
        "id": "pLxMHKHikuJM",
        "colab_type": "code",
        "colab": {
          "base_uri": "https://localhost:8080/",
          "height": 34
        },
        "outputId": "4afda2ad-3dc2-42a4-acf4-f461385fb997"
      },
      "source": [
        "# Let's look at the length of the examples now:\n",
        "len(train_data[0]), len(train_data[1]), len(test_data[0]), len(test_data[1])"
      ],
      "execution_count": 72,
      "outputs": [
        {
          "output_type": "execute_result",
          "data": {
            "text/plain": [
              "(256, 256, 256, 256)"
            ]
          },
          "metadata": {
            "tags": []
          },
          "execution_count": 72
        }
      ]
    },
    {
      "cell_type": "code",
      "metadata": {
        "id": "LzDedQOLk29c",
        "colab_type": "code",
        "outputId": "83943063-94b1-4de2-bfd8-cc8675f7d54f",
        "colab": {
          "base_uri": "https://localhost:8080/",
          "height": 391
        }
      },
      "source": [
        "# And Inspect the (now padded) first review:\n",
        "print(train_data[0])\n"
      ],
      "execution_count": 73,
      "outputs": [
        {
          "output_type": "stream",
          "text": [
            "[    1    14    22    16    43   530   973  1622  1385    65   458  4468\n",
            "    66  3941     4   173    36   256     5    25   100    43   838   112\n",
            "    50   670 22665     9    35   480   284     5   150     4   172   112\n",
            "   167 21631   336   385    39     4   172  4536  1111    17   546    38\n",
            "    13   447     4   192    50    16     6   147  2025    19    14    22\n",
            "     4  1920  4613   469     4    22    71    87    12    16    43   530\n",
            "    38    76    15    13  1247     4    22    17   515    17    12    16\n",
            "   626    18 19193     5    62   386    12     8   316     8   106     5\n",
            "     4  2223  5244    16   480    66  3785    33     4   130    12    16\n",
            "    38   619     5    25   124    51    36   135    48    25  1415    33\n",
            "     6    22    12   215    28    77    52     5    14   407    16    82\n",
            " 10311     8     4   107   117  5952    15   256     4 31050     7  3766\n",
            "     5   723    36    71    43   530   476    26   400   317    46     7\n",
            "     4 12118  1029    13   104    88     4   381    15   297    98    32\n",
            "  2071    56    26   141     6   194  7486    18     4   226    22    21\n",
            "   134   476    26   480     5   144    30  5535    18    51    36    28\n",
            "   224    92    25   104     4   226    65    16    38  1334    88    12\n",
            "    16   283     5    16  4472   113   103    32    15    16  5345    19\n",
            "   178    32     0     0     0     0     0     0     0     0     0     0\n",
            "     0     0     0     0     0     0     0     0     0     0     0     0\n",
            "     0     0     0     0     0     0     0     0     0     0     0     0\n",
            "     0     0     0     0]\n"
          ],
          "name": "stdout"
        }
      ]
    },
    {
      "cell_type": "code",
      "metadata": {
        "id": "k9hB3QRSL9by",
        "colab_type": "code",
        "outputId": "a27c4c38-6cc5-4954-dacb-c5ae3e756046",
        "colab": {
          "base_uri": "https://localhost:8080/",
          "height": 306
        }
      },
      "source": [
        "# Build the model\n",
        "# input shape is the vocabulary count used for the movie reviews (10,000 words)\n",
        "vocab_size = 100000\n",
        "\n",
        "model = keras.Sequential()\n",
        "model.add(keras.layers.Embedding(vocab_size, 16))\n",
        "model.add(keras.layers.GlobalAveragePooling1D())\n",
        "model.add(keras.layers.Dense(16, activation=tf.nn.relu))\n",
        "model.add(keras.layers.Dense(1, activation=tf.nn.sigmoid))\n",
        "  \n",
        "model.summary()\n",
        "len(train_data)"
      ],
      "execution_count": 103,
      "outputs": [
        {
          "output_type": "stream",
          "text": [
            "Model: \"sequential_5\"\n",
            "_________________________________________________________________\n",
            "Layer (type)                 Output Shape              Param #   \n",
            "=================================================================\n",
            "embedding_4 (Embedding)      (None, None, 16)          1600000   \n",
            "_________________________________________________________________\n",
            "global_average_pooling1d_4 ( (None, 16)                0         \n",
            "_________________________________________________________________\n",
            "dense_10 (Dense)             (None, 16)                272       \n",
            "_________________________________________________________________\n",
            "dense_11 (Dense)             (None, 1)                 17        \n",
            "=================================================================\n",
            "Total params: 1,600,289\n",
            "Trainable params: 1,600,289\n",
            "Non-trainable params: 0\n",
            "_________________________________________________________________\n"
          ],
          "name": "stdout"
        },
        {
          "output_type": "execute_result",
          "data": {
            "text/plain": [
              "25000"
            ]
          },
          "metadata": {
            "tags": []
          },
          "execution_count": 103
        }
      ]
    },
    {
      "cell_type": "code",
      "metadata": {
        "id": "HxiMWea3MrWb",
        "colab_type": "code",
        "colab": {}
      },
      "source": [
        "# Compile the model\n",
        "model.compile(optimizer=tf.train.AdamOptimizer(),\n",
        "              loss='binary_crossentropy',\n",
        "              metrics=['accuracy'])"
      ],
      "execution_count": 0,
      "outputs": []
    },
    {
      "cell_type": "code",
      "metadata": {
        "id": "onjrGIPw_14c",
        "colab_type": "code",
        "colab": {
          "base_uri": "https://localhost:8080/",
          "height": 34
        },
        "outputId": "06058b2e-4a32-4207-a684-4d43cd0e7b6b"
      },
      "source": [
        "# Train Test Data\n",
        "x_val = train_data[:10000]\n",
        "partial_x_train = train_data[10000:]\n",
        "\n",
        "y_val = train_labels[:10000]\n",
        "partial_y_train = train_labels[10000:]\n",
        "\n",
        "len(partial_x_train), len(partial_y_train), len(x_val), len(y_val)"
      ],
      "execution_count": 105,
      "outputs": [
        {
          "output_type": "execute_result",
          "data": {
            "text/plain": [
              "(15000, 15000, 10000, 10000)"
            ]
          },
          "metadata": {
            "tags": []
          },
          "execution_count": 105
        }
      ]
    },
    {
      "cell_type": "code",
      "metadata": {
        "id": "KvKtzN2eNLGk",
        "colab_type": "code",
        "outputId": "e14fc87f-89a5-499a-ecd4-90138564da6a",
        "colab": {
          "base_uri": "https://localhost:8080/",
          "height": 1000
        }
      },
      "source": [
        "# To start training, call the model.fit method :- The model is \"fit\" to the training data:\n",
        "history = model.fit(partial_x_train,\n",
        "                    partial_y_train,\n",
        "                    epochs=40,\n",
        "                    batch_size=512,\n",
        "                    validation_data=(x_val, y_val),\n",
        "                    verbose=1)"
      ],
      "execution_count": 106,
      "outputs": [
        {
          "output_type": "stream",
          "text": [
            "Train on 15000 samples, validate on 10000 samples\n",
            "Epoch 1/40\n",
            "15000/15000 [==============================] - 2s 109us/sample - loss: 0.6912 - acc: 0.6246 - val_loss: 0.6886 - val_acc: 0.6988\n",
            "Epoch 2/40\n",
            "15000/15000 [==============================] - 1s 88us/sample - loss: 0.6832 - acc: 0.7673 - val_loss: 0.6785 - val_acc: 0.7655\n",
            "Epoch 3/40\n",
            "15000/15000 [==============================] - 1s 87us/sample - loss: 0.6674 - acc: 0.7989 - val_loss: 0.6604 - val_acc: 0.7806\n",
            "Epoch 4/40\n",
            "15000/15000 [==============================] - 1s 85us/sample - loss: 0.6414 - acc: 0.8118 - val_loss: 0.6334 - val_acc: 0.7862\n",
            "Epoch 5/40\n",
            "15000/15000 [==============================] - 1s 85us/sample - loss: 0.6045 - acc: 0.8259 - val_loss: 0.5974 - val_acc: 0.7975\n",
            "Epoch 6/40\n",
            "15000/15000 [==============================] - 1s 86us/sample - loss: 0.5592 - acc: 0.8360 - val_loss: 0.5574 - val_acc: 0.8133\n",
            "Epoch 7/40\n",
            "15000/15000 [==============================] - 1s 87us/sample - loss: 0.5087 - acc: 0.8550 - val_loss: 0.5138 - val_acc: 0.8294\n",
            "Epoch 8/40\n",
            "15000/15000 [==============================] - 1s 86us/sample - loss: 0.4576 - acc: 0.8692 - val_loss: 0.4721 - val_acc: 0.8380\n",
            "Epoch 9/40\n",
            "15000/15000 [==============================] - 1s 85us/sample - loss: 0.4092 - acc: 0.8843 - val_loss: 0.4356 - val_acc: 0.8476\n",
            "Epoch 10/40\n",
            "15000/15000 [==============================] - 1s 84us/sample - loss: 0.3660 - acc: 0.8972 - val_loss: 0.4054 - val_acc: 0.8555\n",
            "Epoch 11/40\n",
            "15000/15000 [==============================] - 1s 85us/sample - loss: 0.3290 - acc: 0.9073 - val_loss: 0.3799 - val_acc: 0.8627\n",
            "Epoch 12/40\n",
            "15000/15000 [==============================] - 1s 88us/sample - loss: 0.2973 - acc: 0.9153 - val_loss: 0.3587 - val_acc: 0.8678\n",
            "Epoch 13/40\n",
            "15000/15000 [==============================] - 1s 87us/sample - loss: 0.2696 - acc: 0.9221 - val_loss: 0.3421 - val_acc: 0.8720\n",
            "Epoch 14/40\n",
            "15000/15000 [==============================] - 1s 88us/sample - loss: 0.2458 - acc: 0.9291 - val_loss: 0.3283 - val_acc: 0.8764\n",
            "Epoch 15/40\n",
            "15000/15000 [==============================] - 1s 87us/sample - loss: 0.2251 - acc: 0.9354 - val_loss: 0.3171 - val_acc: 0.8784\n",
            "Epoch 16/40\n",
            "15000/15000 [==============================] - 1s 86us/sample - loss: 0.2069 - acc: 0.9401 - val_loss: 0.3083 - val_acc: 0.8796\n",
            "Epoch 17/40\n",
            "15000/15000 [==============================] - 1s 85us/sample - loss: 0.1904 - acc: 0.9459 - val_loss: 0.3012 - val_acc: 0.8827\n",
            "Epoch 18/40\n",
            "15000/15000 [==============================] - 1s 85us/sample - loss: 0.1764 - acc: 0.9503 - val_loss: 0.2949 - val_acc: 0.8831\n",
            "Epoch 19/40\n",
            "15000/15000 [==============================] - 1s 86us/sample - loss: 0.1625 - acc: 0.9559 - val_loss: 0.2909 - val_acc: 0.8836\n",
            "Epoch 20/40\n",
            "15000/15000 [==============================] - 1s 87us/sample - loss: 0.1505 - acc: 0.9603 - val_loss: 0.2867 - val_acc: 0.8864\n",
            "Epoch 21/40\n",
            "15000/15000 [==============================] - 1s 86us/sample - loss: 0.1394 - acc: 0.9643 - val_loss: 0.2826 - val_acc: 0.8862\n",
            "Epoch 22/40\n",
            "15000/15000 [==============================] - 1s 89us/sample - loss: 0.1291 - acc: 0.9688 - val_loss: 0.2799 - val_acc: 0.8879\n",
            "Epoch 23/40\n",
            "15000/15000 [==============================] - 1s 91us/sample - loss: 0.1200 - acc: 0.9703 - val_loss: 0.2789 - val_acc: 0.8890\n",
            "Epoch 24/40\n",
            "15000/15000 [==============================] - 1s 88us/sample - loss: 0.1118 - acc: 0.9745 - val_loss: 0.2772 - val_acc: 0.8882\n",
            "Epoch 25/40\n",
            "15000/15000 [==============================] - 1s 92us/sample - loss: 0.1041 - acc: 0.9769 - val_loss: 0.2761 - val_acc: 0.8900\n",
            "Epoch 26/40\n",
            "15000/15000 [==============================] - 1s 91us/sample - loss: 0.0971 - acc: 0.9792 - val_loss: 0.2769 - val_acc: 0.8881\n",
            "Epoch 27/40\n",
            "15000/15000 [==============================] - 1s 92us/sample - loss: 0.0905 - acc: 0.9810 - val_loss: 0.2755 - val_acc: 0.8905\n",
            "Epoch 28/40\n",
            "15000/15000 [==============================] - 1s 89us/sample - loss: 0.0842 - acc: 0.9832 - val_loss: 0.2769 - val_acc: 0.8897\n",
            "Epoch 29/40\n",
            "15000/15000 [==============================] - 1s 88us/sample - loss: 0.0789 - acc: 0.9843 - val_loss: 0.2761 - val_acc: 0.8904\n",
            "Epoch 30/40\n",
            "15000/15000 [==============================] - 1s 87us/sample - loss: 0.0737 - acc: 0.9869 - val_loss: 0.2781 - val_acc: 0.8896\n",
            "Epoch 31/40\n",
            "15000/15000 [==============================] - 1s 88us/sample - loss: 0.0688 - acc: 0.9876 - val_loss: 0.2785 - val_acc: 0.8897\n",
            "Epoch 32/40\n",
            "15000/15000 [==============================] - 1s 86us/sample - loss: 0.0644 - acc: 0.9887 - val_loss: 0.2795 - val_acc: 0.8899\n",
            "Epoch 33/40\n",
            "15000/15000 [==============================] - 1s 85us/sample - loss: 0.0603 - acc: 0.9901 - val_loss: 0.2820 - val_acc: 0.8888\n",
            "Epoch 34/40\n",
            "15000/15000 [==============================] - 1s 86us/sample - loss: 0.0568 - acc: 0.9906 - val_loss: 0.2831 - val_acc: 0.8902\n",
            "Epoch 35/40\n",
            "15000/15000 [==============================] - 1s 85us/sample - loss: 0.0535 - acc: 0.9921 - val_loss: 0.2853 - val_acc: 0.8889\n",
            "Epoch 36/40\n",
            "15000/15000 [==============================] - 1s 87us/sample - loss: 0.0499 - acc: 0.9923 - val_loss: 0.2864 - val_acc: 0.8898\n",
            "Epoch 37/40\n",
            "15000/15000 [==============================] - 1s 86us/sample - loss: 0.0469 - acc: 0.9929 - val_loss: 0.2894 - val_acc: 0.8875\n",
            "Epoch 38/40\n",
            "15000/15000 [==============================] - 1s 85us/sample - loss: 0.0441 - acc: 0.9932 - val_loss: 0.2910 - val_acc: 0.8885\n",
            "Epoch 39/40\n",
            "15000/15000 [==============================] - 1s 86us/sample - loss: 0.0415 - acc: 0.9943 - val_loss: 0.2948 - val_acc: 0.8862\n",
            "Epoch 40/40\n",
            "15000/15000 [==============================] - 1s 86us/sample - loss: 0.0391 - acc: 0.9945 - val_loss: 0.2959 - val_acc: 0.8891\n"
          ],
          "name": "stdout"
        }
      ]
    },
    {
      "cell_type": "code",
      "metadata": {
        "id": "hisefpe1NiLT",
        "colab_type": "code",
        "outputId": "3f6f883e-4f8c-43de-97b0-ecf9456ef008",
        "colab": {
          "base_uri": "https://localhost:8080/",
          "height": 51
        }
      },
      "source": [
        "# Evaluate accuracy\n",
        "# Performance of the model\n",
        "results = model.evaluate(test_data, test_labels)\n",
        "print(results)"
      ],
      "execution_count": 108,
      "outputs": [
        {
          "output_type": "stream",
          "text": [
            "25000/25000 [==============================] - 1s 52us/sample - loss: 0.3310 - acc: 0.8721\n",
            "[0.3310315719938278, 0.87208]\n"
          ],
          "name": "stdout"
        }
      ]
    },
    {
      "cell_type": "code",
      "metadata": {
        "id": "v8KFnbqAObwv",
        "colab_type": "code",
        "outputId": "f793cd38-5bb4-4109-85cf-82651205baad",
        "colab": {
          "base_uri": "https://localhost:8080/",
          "height": 34
        }
      },
      "source": [
        "# Create a graph of accuracy\n",
        "# other functions\n",
        "history_dict = history.history\n",
        "history_dict.keys()"
      ],
      "execution_count": 110,
      "outputs": [
        {
          "output_type": "execute_result",
          "data": {
            "text/plain": [
              "dict_keys(['loss', 'acc', 'val_loss', 'val_acc'])"
            ]
          },
          "metadata": {
            "tags": []
          },
          "execution_count": 110
        }
      ]
    },
    {
      "cell_type": "code",
      "metadata": {
        "id": "vmeFg2RFPBPK",
        "colab_type": "code",
        "outputId": "45e07f84-8ac9-4fa4-fa9c-92e6b10e8203",
        "colab": {
          "base_uri": "https://localhost:8080/",
          "height": 34
        }
      },
      "source": [
        "# Test the model\n",
        "np.argmax(model.predict(test_data[1]))"
      ],
      "execution_count": 125,
      "outputs": [
        {
          "output_type": "execute_result",
          "data": {
            "text/plain": [
              "1"
            ]
          },
          "metadata": {
            "tags": []
          },
          "execution_count": 125
        }
      ]
    },
    {
      "cell_type": "code",
      "metadata": {
        "id": "QgQQvs1kPpuQ",
        "colab_type": "code",
        "outputId": "5d886930-d753-47d1-c89e-682fe9b23164",
        "colab": {
          "base_uri": "https://localhost:8080/",
          "height": 295
        }
      },
      "source": [
        "import matplotlib.pyplot as plt\n",
        "\n",
        "acc = history.history['acc']\n",
        "#acc\n",
        "val_acc = history.history['val_acc']\n",
        "#val_acc\n",
        "loss = history.history['loss']\n",
        "#loss\n",
        "val_loss = history.history['val_loss']\n",
        "#val_loss\n",
        "\n",
        "epochs = range(1, len(acc) + 1)\n",
        "\n",
        "# \"bo\" is for \"blue dot\"\n",
        "plt.plot(epochs, loss, 'bo', label='Training loss')\n",
        "# \"b\" is for \"solid blue line\"\n",
        "plt.plot(epochs, val_loss, 'b', label='Validation loss')\n",
        "plt.title(\"Training and Validation loss\")\n",
        "plt.xlabel('Epochs')\n",
        "plt.ylabel('Loss')\n",
        "plt.legend()\n",
        "\n",
        "plt.show()"
      ],
      "execution_count": 132,
      "outputs": [
        {
          "output_type": "display_data",
          "data": {
            "image/png": "[encoded data removed]",
            "text/plain": [
              "<Figure size 432x288 with 1 Axes>"
            ]
          },
          "metadata": {
            "tags": []
          }
        }
      ]
    },
    {
      "cell_type": "code",
      "metadata": {
        "id": "hvHDURbpPsIQ",
        "colab_type": "code",
        "outputId": "12d3058c-cc2f-4b4a-cf1f-f47c7d1370fa",
        "colab": {
          "base_uri": "https://localhost:8080/",
          "height": 295
        }
      },
      "source": [
        "plt.clf() # clear the figure\n",
        "acc_values = history_dict['acc']\n",
        "val_acc_values = history_dict['val_acc']\n",
        "\n",
        "# \"bo\" is for \"blue dot\"\n",
        "plt.plot(epochs, acc_values, 'bo', label='Training loss')\n",
        "# \"b\" is for \"solid blue line\"\n",
        "plt.plot(epochs, val_acc_values, 'b', label='Validation loss')\n",
        "plt.title(\"Training and Validation loss\")\n",
        "plt.xlabel('Epochs')\n",
        "plt.ylabel('Accuracy')\n",
        "plt.legend()\n",
        "\n",
        "plt.show()\n"
      ],
      "execution_count": 134,
      "outputs": [
        {
          "output_type": "display_data",
          "data": {
            "image/png": "[encoded data removed]",
            "text/plain": [
              "<Figure size 432x288 with 1 Axes>"
            ]
          },
          "metadata": {
            "tags": []
          }
        }
      ]
    }
  ]
}